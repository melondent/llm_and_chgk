{
 "cells": [
  {
   "cell_type": "code",
   "execution_count": 1,
   "metadata": {},
   "outputs": [
    {
     "name": "stdout",
     "output_type": "stream",
     "text": [
      "Requirement already satisfied: bertopic in /Users/melondent/Desktop/дс/.venv/lib/python3.11/site-packages (0.17.0)\n",
      "Requirement already satisfied: gensim in /Users/melondent/Desktop/дс/.venv/lib/python3.11/site-packages (4.3.3)\n",
      "Requirement already satisfied: spacy in /Users/melondent/Desktop/дс/.venv/lib/python3.11/site-packages (3.8.5)\n",
      "Requirement already satisfied: pymorphy3 in /Users/melondent/Desktop/дс/.venv/lib/python3.11/site-packages (2.0.3)\n",
      "Requirement already satisfied: fasttext-langdetect in /Users/melondent/Desktop/дс/.venv/lib/python3.11/site-packages (1.0.5)\n",
      "Requirement already satisfied: natasha in /Users/melondent/Desktop/дс/.venv/lib/python3.11/site-packages (1.6.0)\n",
      "Requirement already satisfied: hdbscan>=0.8.29 in /Users/melondent/Desktop/дс/.venv/lib/python3.11/site-packages (from bertopic) (0.8.40)\n",
      "Requirement already satisfied: numpy>=1.20.0 in /Users/melondent/Desktop/дс/.venv/lib/python3.11/site-packages (from bertopic) (1.26.4)\n",
      "Requirement already satisfied: pandas>=1.1.5 in /Users/melondent/Desktop/дс/.venv/lib/python3.11/site-packages (from bertopic) (2.2.3)\n",
      "Requirement already satisfied: plotly>=4.7.0 in /Users/melondent/Desktop/дс/.venv/lib/python3.11/site-packages (from bertopic) (6.0.1)\n",
      "Requirement already satisfied: scikit-learn>=1.0 in /Users/melondent/Desktop/дс/.venv/lib/python3.11/site-packages (from bertopic) (1.6.1)\n",
      "Requirement already satisfied: sentence-transformers>=0.4.1 in /Users/melondent/Desktop/дс/.venv/lib/python3.11/site-packages (from bertopic) (4.1.0)\n",
      "Requirement already satisfied: tqdm>=4.41.1 in /Users/melondent/Desktop/дс/.venv/lib/python3.11/site-packages (from bertopic) (4.67.1)\n",
      "Requirement already satisfied: umap-learn>=0.5.0 in /Users/melondent/Desktop/дс/.venv/lib/python3.11/site-packages (from bertopic) (0.5.7)\n",
      "Requirement already satisfied: scipy<1.14.0,>=1.7.0 in /Users/melondent/Desktop/дс/.venv/lib/python3.11/site-packages (from gensim) (1.13.1)\n",
      "Requirement already satisfied: smart-open>=1.8.1 in /Users/melondent/Desktop/дс/.venv/lib/python3.11/site-packages (from gensim) (7.1.0)\n",
      "Requirement already satisfied: spacy-legacy<3.1.0,>=3.0.11 in /Users/melondent/Desktop/дс/.venv/lib/python3.11/site-packages (from spacy) (3.0.12)\n",
      "Requirement already satisfied: spacy-loggers<2.0.0,>=1.0.0 in /Users/melondent/Desktop/дс/.venv/lib/python3.11/site-packages (from spacy) (1.0.5)\n",
      "Requirement already satisfied: murmurhash<1.1.0,>=0.28.0 in /Users/melondent/Desktop/дс/.venv/lib/python3.11/site-packages (from spacy) (1.0.12)\n",
      "Requirement already satisfied: cymem<2.1.0,>=2.0.2 in /Users/melondent/Desktop/дс/.venv/lib/python3.11/site-packages (from spacy) (2.0.11)\n",
      "Requirement already satisfied: preshed<3.1.0,>=3.0.2 in /Users/melondent/Desktop/дс/.venv/lib/python3.11/site-packages (from spacy) (3.0.9)\n",
      "Requirement already satisfied: thinc<8.4.0,>=8.3.4 in /Users/melondent/Desktop/дс/.venv/lib/python3.11/site-packages (from spacy) (8.3.4)\n",
      "Requirement already satisfied: wasabi<1.2.0,>=0.9.1 in /Users/melondent/Desktop/дс/.venv/lib/python3.11/site-packages (from spacy) (1.1.3)\n",
      "Requirement already satisfied: srsly<3.0.0,>=2.4.3 in /Users/melondent/Desktop/дс/.venv/lib/python3.11/site-packages (from spacy) (2.5.1)\n",
      "Requirement already satisfied: catalogue<2.1.0,>=2.0.6 in /Users/melondent/Desktop/дс/.venv/lib/python3.11/site-packages (from spacy) (2.0.10)\n",
      "Requirement already satisfied: weasel<0.5.0,>=0.1.0 in /Users/melondent/Desktop/дс/.venv/lib/python3.11/site-packages (from spacy) (0.4.1)\n",
      "Requirement already satisfied: typer<1.0.0,>=0.3.0 in /Users/melondent/Desktop/дс/.venv/lib/python3.11/site-packages (from spacy) (0.15.2)\n",
      "Requirement already satisfied: requests<3.0.0,>=2.13.0 in /Users/melondent/Desktop/дс/.venv/lib/python3.11/site-packages (from spacy) (2.32.3)\n",
      "Requirement already satisfied: pydantic!=1.8,!=1.8.1,<3.0.0,>=1.7.4 in /Users/melondent/Desktop/дс/.venv/lib/python3.11/site-packages (from spacy) (2.11.2)\n",
      "Requirement already satisfied: jinja2 in /Users/melondent/Desktop/дс/.venv/lib/python3.11/site-packages (from spacy) (3.1.6)\n",
      "Requirement already satisfied: setuptools in /Users/melondent/Desktop/дс/.venv/lib/python3.11/site-packages (from spacy) (68.1.2)\n",
      "Requirement already satisfied: packaging>=20.0 in /Users/melondent/Desktop/дс/.venv/lib/python3.11/site-packages (from spacy) (24.2)\n",
      "Requirement already satisfied: langcodes<4.0.0,>=3.2.0 in /Users/melondent/Desktop/дс/.venv/lib/python3.11/site-packages (from spacy) (3.5.0)\n",
      "Requirement already satisfied: dawg2-python>=0.8.0 in /Users/melondent/Desktop/дс/.venv/lib/python3.11/site-packages (from pymorphy3) (0.9.0)\n",
      "Requirement already satisfied: pymorphy3-dicts-ru in /Users/melondent/Desktop/дс/.venv/lib/python3.11/site-packages (from pymorphy3) (2.4.417150.4580142)\n",
      "Requirement already satisfied: fasttext>=0.9.1 in /Users/melondent/Desktop/дс/.venv/lib/python3.11/site-packages (from fasttext-langdetect) (0.9.3)\n",
      "Requirement already satisfied: pymorphy2 in /Users/melondent/Desktop/дс/.venv/lib/python3.11/site-packages (from natasha) (0.9.1)\n",
      "Requirement already satisfied: razdel>=0.5.0 in /Users/melondent/Desktop/дс/.venv/lib/python3.11/site-packages (from natasha) (0.5.0)\n",
      "Requirement already satisfied: navec>=0.9.0 in /Users/melondent/Desktop/дс/.venv/lib/python3.11/site-packages (from natasha) (0.10.0)\n",
      "Requirement already satisfied: slovnet>=0.6.0 in /Users/melondent/Desktop/дс/.venv/lib/python3.11/site-packages (from natasha) (0.6.0)\n",
      "Requirement already satisfied: yargy>=0.16.0 in /Users/melondent/Desktop/дс/.venv/lib/python3.11/site-packages (from natasha) (0.16.0)\n",
      "Requirement already satisfied: ipymarkup>=0.8.0 in /Users/melondent/Desktop/дс/.venv/lib/python3.11/site-packages (from natasha) (0.9.0)\n",
      "Requirement already satisfied: pybind11>=2.2 in /Users/melondent/Desktop/дс/.venv/lib/python3.11/site-packages (from fasttext>=0.9.1->fasttext-langdetect) (2.13.6)\n",
      "Requirement already satisfied: joblib>=1.0 in /Users/melondent/Desktop/дс/.venv/lib/python3.11/site-packages (from hdbscan>=0.8.29->bertopic) (1.4.2)\n",
      "Requirement already satisfied: intervaltree>=3 in /Users/melondent/Desktop/дс/.venv/lib/python3.11/site-packages (from ipymarkup>=0.8.0->natasha) (3.1.0)\n",
      "Requirement already satisfied: language-data>=1.2 in /Users/melondent/Desktop/дс/.venv/lib/python3.11/site-packages (from langcodes<4.0.0,>=3.2.0->spacy) (1.3.0)\n",
      "Requirement already satisfied: python-dateutil>=2.8.2 in /Users/melondent/Desktop/дс/.venv/lib/python3.11/site-packages (from pandas>=1.1.5->bertopic) (2.9.0.post0)\n",
      "Requirement already satisfied: pytz>=2020.1 in /Users/melondent/Desktop/дс/.venv/lib/python3.11/site-packages (from pandas>=1.1.5->bertopic) (2025.2)\n",
      "Requirement already satisfied: tzdata>=2022.7 in /Users/melondent/Desktop/дс/.venv/lib/python3.11/site-packages (from pandas>=1.1.5->bertopic) (2025.2)\n",
      "Requirement already satisfied: narwhals>=1.15.1 in /Users/melondent/Desktop/дс/.venv/lib/python3.11/site-packages (from plotly>=4.7.0->bertopic) (1.35.0)\n",
      "Requirement already satisfied: annotated-types>=0.6.0 in /Users/melondent/Desktop/дс/.venv/lib/python3.11/site-packages (from pydantic!=1.8,!=1.8.1,<3.0.0,>=1.7.4->spacy) (0.7.0)\n",
      "Requirement already satisfied: pydantic-core==2.33.1 in /Users/melondent/Desktop/дс/.venv/lib/python3.11/site-packages (from pydantic!=1.8,!=1.8.1,<3.0.0,>=1.7.4->spacy) (2.33.1)\n",
      "Requirement already satisfied: typing-extensions>=4.12.2 in /Users/melondent/Desktop/дс/.venv/lib/python3.11/site-packages (from pydantic!=1.8,!=1.8.1,<3.0.0,>=1.7.4->spacy) (4.13.1)\n",
      "Requirement already satisfied: typing-inspection>=0.4.0 in /Users/melondent/Desktop/дс/.venv/lib/python3.11/site-packages (from pydantic!=1.8,!=1.8.1,<3.0.0,>=1.7.4->spacy) (0.4.0)\n",
      "Requirement already satisfied: charset-normalizer<4,>=2 in /Users/melondent/Desktop/дс/.venv/lib/python3.11/site-packages (from requests<3.0.0,>=2.13.0->spacy) (3.4.1)\n",
      "Requirement already satisfied: idna<4,>=2.5 in /Users/melondent/Desktop/дс/.venv/lib/python3.11/site-packages (from requests<3.0.0,>=2.13.0->spacy) (3.10)\n",
      "Requirement already satisfied: urllib3<3,>=1.21.1 in /Users/melondent/Desktop/дс/.venv/lib/python3.11/site-packages (from requests<3.0.0,>=2.13.0->spacy) (2.3.0)\n",
      "Requirement already satisfied: certifi>=2017.4.17 in /Users/melondent/Desktop/дс/.venv/lib/python3.11/site-packages (from requests<3.0.0,>=2.13.0->spacy) (2025.1.31)\n",
      "Requirement already satisfied: threadpoolctl>=3.1.0 in /Users/melondent/Desktop/дс/.venv/lib/python3.11/site-packages (from scikit-learn>=1.0->bertopic) (3.6.0)\n",
      "Requirement already satisfied: transformers<5.0.0,>=4.41.0 in /Users/melondent/Desktop/дс/.venv/lib/python3.11/site-packages (from sentence-transformers>=0.4.1->bertopic) (4.51.3)\n",
      "Requirement already satisfied: torch>=1.11.0 in /Users/melondent/Desktop/дс/.venv/lib/python3.11/site-packages (from sentence-transformers>=0.4.1->bertopic) (2.6.0)\n",
      "Requirement already satisfied: huggingface-hub>=0.20.0 in /Users/melondent/Desktop/дс/.venv/lib/python3.11/site-packages (from sentence-transformers>=0.4.1->bertopic) (0.30.2)\n",
      "Requirement already satisfied: Pillow in /Users/melondent/Desktop/дс/.venv/lib/python3.11/site-packages (from sentence-transformers>=0.4.1->bertopic) (11.1.0)\n",
      "Requirement already satisfied: wrapt in /Users/melondent/Desktop/дс/.venv/lib/python3.11/site-packages (from smart-open>=1.8.1->gensim) (1.17.2)\n",
      "Requirement already satisfied: blis<1.3.0,>=1.2.0 in /Users/melondent/Desktop/дс/.venv/lib/python3.11/site-packages (from thinc<8.4.0,>=8.3.4->spacy) (1.2.1)\n",
      "Requirement already satisfied: confection<1.0.0,>=0.0.1 in /Users/melondent/Desktop/дс/.venv/lib/python3.11/site-packages (from thinc<8.4.0,>=8.3.4->spacy) (0.1.5)\n",
      "Requirement already satisfied: click>=8.0.0 in /Users/melondent/Desktop/дс/.venv/lib/python3.11/site-packages (from typer<1.0.0,>=0.3.0->spacy) (8.1.8)\n",
      "Requirement already satisfied: shellingham>=1.3.0 in /Users/melondent/Desktop/дс/.venv/lib/python3.11/site-packages (from typer<1.0.0,>=0.3.0->spacy) (1.5.4)\n",
      "Requirement already satisfied: rich>=10.11.0 in /Users/melondent/Desktop/дс/.venv/lib/python3.11/site-packages (from typer<1.0.0,>=0.3.0->spacy) (14.0.0)\n",
      "Requirement already satisfied: numba>=0.51.2 in /Users/melondent/Desktop/дс/.venv/lib/python3.11/site-packages (from umap-learn>=0.5.0->bertopic) (0.61.2)\n",
      "Requirement already satisfied: pynndescent>=0.5 in /Users/melondent/Desktop/дс/.venv/lib/python3.11/site-packages (from umap-learn>=0.5.0->bertopic) (0.5.13)\n",
      "Requirement already satisfied: cloudpathlib<1.0.0,>=0.7.0 in /Users/melondent/Desktop/дс/.venv/lib/python3.11/site-packages (from weasel<0.5.0,>=0.1.0->spacy) (0.21.0)\n",
      "Requirement already satisfied: MarkupSafe>=2.0 in /Users/melondent/Desktop/дс/.venv/lib/python3.11/site-packages (from jinja2->spacy) (3.0.2)\n",
      "Requirement already satisfied: dawg-python>=0.7.1 in /Users/melondent/Desktop/дс/.venv/lib/python3.11/site-packages (from pymorphy2->natasha) (0.7.2)\n",
      "Requirement already satisfied: pymorphy2-dicts-ru<3.0,>=2.4 in /Users/melondent/Desktop/дс/.venv/lib/python3.11/site-packages (from pymorphy2->natasha) (2.4.417127.4579844)\n",
      "Requirement already satisfied: docopt>=0.6 in /Users/melondent/Desktop/дс/.venv/lib/python3.11/site-packages (from pymorphy2->natasha) (0.6.2)\n",
      "Requirement already satisfied: filelock in /Users/melondent/Desktop/дс/.venv/lib/python3.11/site-packages (from huggingface-hub>=0.20.0->sentence-transformers>=0.4.1->bertopic) (3.18.0)\n",
      "Requirement already satisfied: fsspec>=2023.5.0 in /Users/melondent/Desktop/дс/.venv/lib/python3.11/site-packages (from huggingface-hub>=0.20.0->sentence-transformers>=0.4.1->bertopic) (2025.3.2)\n",
      "Requirement already satisfied: pyyaml>=5.1 in /Users/melondent/Desktop/дс/.venv/lib/python3.11/site-packages (from huggingface-hub>=0.20.0->sentence-transformers>=0.4.1->bertopic) (6.0.2)\n",
      "Requirement already satisfied: sortedcontainers<3.0,>=2.0 in /Users/melondent/Desktop/дс/.venv/lib/python3.11/site-packages (from intervaltree>=3->ipymarkup>=0.8.0->natasha) (2.4.0)\n",
      "Requirement already satisfied: marisa-trie>=1.1.0 in /Users/melondent/Desktop/дс/.venv/lib/python3.11/site-packages (from language-data>=1.2->langcodes<4.0.0,>=3.2.0->spacy) (1.2.1)\n",
      "Requirement already satisfied: llvmlite<0.45,>=0.44.0dev0 in /Users/melondent/Desktop/дс/.venv/lib/python3.11/site-packages (from numba>=0.51.2->umap-learn>=0.5.0->bertopic) (0.44.0)\n",
      "Requirement already satisfied: six>=1.5 in /Users/melondent/Desktop/дс/.venv/lib/python3.11/site-packages (from python-dateutil>=2.8.2->pandas>=1.1.5->bertopic) (1.17.0)\n",
      "Requirement already satisfied: markdown-it-py>=2.2.0 in /Users/melondent/Desktop/дс/.venv/lib/python3.11/site-packages (from rich>=10.11.0->typer<1.0.0,>=0.3.0->spacy) (3.0.0)\n",
      "Requirement already satisfied: pygments<3.0.0,>=2.13.0 in /Users/melondent/Desktop/дс/.venv/lib/python3.11/site-packages (from rich>=10.11.0->typer<1.0.0,>=0.3.0->spacy) (2.19.1)\n",
      "Requirement already satisfied: networkx in /Users/melondent/Desktop/дс/.venv/lib/python3.11/site-packages (from torch>=1.11.0->sentence-transformers>=0.4.1->bertopic) (3.4.2)\n",
      "Requirement already satisfied: sympy==1.13.1 in /Users/melondent/Desktop/дс/.venv/lib/python3.11/site-packages (from torch>=1.11.0->sentence-transformers>=0.4.1->bertopic) (1.13.1)\n",
      "Requirement already satisfied: mpmath<1.4,>=1.1.0 in /Users/melondent/Desktop/дс/.venv/lib/python3.11/site-packages (from sympy==1.13.1->torch>=1.11.0->sentence-transformers>=0.4.1->bertopic) (1.3.0)\n",
      "Requirement already satisfied: regex!=2019.12.17 in /Users/melondent/Desktop/дс/.venv/lib/python3.11/site-packages (from transformers<5.0.0,>=4.41.0->sentence-transformers>=0.4.1->bertopic) (2024.11.6)\n",
      "Requirement already satisfied: tokenizers<0.22,>=0.21 in /Users/melondent/Desktop/дс/.venv/lib/python3.11/site-packages (from transformers<5.0.0,>=4.41.0->sentence-transformers>=0.4.1->bertopic) (0.21.1)\n",
      "Requirement already satisfied: safetensors>=0.4.3 in /Users/melondent/Desktop/дс/.venv/lib/python3.11/site-packages (from transformers<5.0.0,>=4.41.0->sentence-transformers>=0.4.1->bertopic) (0.5.3)\n",
      "Requirement already satisfied: mdurl~=0.1 in /Users/melondent/Desktop/дс/.venv/lib/python3.11/site-packages (from markdown-it-py>=2.2.0->rich>=10.11.0->typer<1.0.0,>=0.3.0->spacy) (0.1.2)\n",
      "\n",
      "\u001b[1m[\u001b[0m\u001b[34;49mnotice\u001b[0m\u001b[1;39;49m]\u001b[0m\u001b[39;49m A new release of pip is available: \u001b[0m\u001b[31;49m25.0.1\u001b[0m\u001b[39;49m -> \u001b[0m\u001b[32;49m25.1.1\u001b[0m\n",
      "\u001b[1m[\u001b[0m\u001b[34;49mnotice\u001b[0m\u001b[1;39;49m]\u001b[0m\u001b[39;49m To update, run: \u001b[0m\u001b[32;49mpip install --upgrade pip\u001b[0m\n"
     ]
    }
   ],
   "source": [
    "!pip install bertopic gensim spacy pymorphy3 fasttext-langdetect natasha"
   ]
  },
  {
   "cell_type": "code",
   "execution_count": null,
   "metadata": {},
   "outputs": [],
   "source": [
    "from bertopic import BERTopic\n",
    "from bertopic.vectorizers import ClassTfidfTransformer\n",
    "from umap import UMAP\n",
    "import pandas as pd\n",
    "import numpy as np\n",
    "import re\n",
    "from sentence_transformers import SentenceTransformer\n",
    "import nltk\n",
    "from nltk.corpus import stopwords\n",
    "from gensim.models.coherencemodel import CoherenceModel\n",
    "from gensim.corpora import Dictionary\n",
    "from tqdm import tqdm\n",
    "import matplotlib.pyplot as plt\n",
    "from sklearn.metrics import silhouette_score, davies_bouldin_score\n",
    "import spacy\n",
    "import pymorphy3\n",
    "from ftlangdetect import detect as ftdetect\n",
    "import string\n",
    "from transformers import AutoTokenizer, AutoModelForMaskedLM\n",
    "from sklearn.feature_extraction.text import CountVectorizer\n",
    "from sklearn.cluster import KMeans\n",
    "from copy import deepcopy\n",
    "import unicodedata\n",
    "from natasha import MorphVocab\n",
    "import numpy as np\n",
    "from hdbscan import HDBSCAN\n",
    "from sklearn.feature_extraction.text import CountVectorizer\n",
    "import scipy.sparse as sp\n",
    "import numpy as np\n",
    "import seaborn as sns\n",
    "from scipy.stats import kruskal\n",
    "from scipy.stats import shapiro"
   ]
  },
  {
   "cell_type": "code",
   "execution_count": null,
   "metadata": {},
   "outputs": [],
   "source": [
    "df = pd.read_csv(\"questions_without_material.csv\")"
   ]
  },
  {
   "cell_type": "code",
   "execution_count": 5,
   "metadata": {},
   "outputs": [
    {
     "data": {
      "text/html": [
       "<div>\n",
       "<style scoped>\n",
       "    .dataframe tbody tr th:only-of-type {\n",
       "        vertical-align: middle;\n",
       "    }\n",
       "\n",
       "    .dataframe tbody tr th {\n",
       "        vertical-align: top;\n",
       "    }\n",
       "\n",
       "    .dataframe thead th {\n",
       "        text-align: right;\n",
       "    }\n",
       "</style>\n",
       "<table border=\"1\" class=\"dataframe\">\n",
       "  <thead>\n",
       "    <tr style=\"text-align: right;\">\n",
       "      <th></th>\n",
       "      <th>id</th>\n",
       "      <th>Пакет</th>\n",
       "      <th>№</th>\n",
       "      <th>Вопрос</th>\n",
       "      <th>Ответ</th>\n",
       "      <th>Зачет</th>\n",
       "      <th>Комментарий</th>\n",
       "      <th>Источник</th>\n",
       "      <th>Авторы</th>\n",
       "      <th>Доля взятия</th>\n",
       "      <th>Процент взятия</th>\n",
       "      <th>Год</th>\n",
       "    </tr>\n",
       "  </thead>\n",
       "  <tbody>\n",
       "    <tr>\n",
       "      <th>0</th>\n",
       "      <td>1</td>\n",
       "      <td>Умлаут Special: Сова в пабе 2019</td>\n",
       "      <td>1.0</td>\n",
       "      <td>В передаче Андрея Понкратова рассказывается, ч...</td>\n",
       "      <td>Носами</td>\n",
       "      <td>Нос</td>\n",
       "      <td>Приветствие касанием носа – традиция жителей с...</td>\n",
       "      <td>https://youtu.be/BW63sNTOD8Q?t=1513</td>\n",
       "      <td>Андрей Кунилов (Мюнхен), Марина Парр (Мюнхен)</td>\n",
       "      <td>120/132</td>\n",
       "      <td>91.0</td>\n",
       "      <td>2018_2019</td>\n",
       "    </tr>\n",
       "    <tr>\n",
       "      <th>1</th>\n",
       "      <td>2</td>\n",
       "      <td>Умлаут Special: Сова в пабе 2019</td>\n",
       "      <td>2.0</td>\n",
       "      <td>Одна из сцен “Московского центра драматургии и...</td>\n",
       "      <td>выключать мобильные телефоны</td>\n",
       "      <td>выключать сотовые телефоны, синонимичные ответы</td>\n",
       "      <td>перед началом спектакля голос по громкоговорит...</td>\n",
       "      <td>https://typical-moscow.ru/mama-cdr-istoriya-od...</td>\n",
       "      <td>Андрей Кунилов (Мюнхен), Марина Парр (Мюнхен)</td>\n",
       "      <td>107/132</td>\n",
       "      <td>81.0</td>\n",
       "      <td>2018_2019</td>\n",
       "    </tr>\n",
       "    <tr>\n",
       "      <th>2</th>\n",
       "      <td>3</td>\n",
       "      <td>Умлаут Special: Сова в пабе 2019</td>\n",
       "      <td>3.0</td>\n",
       "      <td>Статья \"National Geographic\" \"ПРОПУСК тела про...</td>\n",
       "      <td>пластика</td>\n",
       "      <td>точный ответ</td>\n",
       "      <td>В фотопроекте Григория Шелухина \"Крохотная сме...</td>\n",
       "      <td>http://www.nat-geo.ru/planet/1190948-plastika-...</td>\n",
       "      <td>Борис Рабинович (Тель-Авив)</td>\n",
       "      <td>93/132</td>\n",
       "      <td>70.0</td>\n",
       "      <td>2018_2019</td>\n",
       "    </tr>\n",
       "    <tr>\n",
       "      <th>3</th>\n",
       "      <td>4</td>\n",
       "      <td>Умлаут Special: Сова в пабе 2019</td>\n",
       "      <td>4.0</td>\n",
       "      <td>Фантастическое животное демимаска, придуманное...</td>\n",
       "      <td>Нострадамус</td>\n",
       "      <td>Точный ответ</td>\n",
       "      <td>Особо неуязвимым демимаску делает способность ...</td>\n",
       "      <td>https://ru.wikipedia.org/wiki/Нострадамус</td>\n",
       "      <td>Борис Рабинович (Тель-Авив)</td>\n",
       "      <td>40/132</td>\n",
       "      <td>30.0</td>\n",
       "      <td>2018_2019</td>\n",
       "    </tr>\n",
       "    <tr>\n",
       "      <th>4</th>\n",
       "      <td>5</td>\n",
       "      <td>Умлаут Special: Сова в пабе 2019</td>\n",
       "      <td>5.0</td>\n",
       "      <td>В постановке мюнхенского детского театра один ...</td>\n",
       "      <td>[вместо] мозгов</td>\n",
       "      <td>[вместо] ума. Зачет по слову “мозг”, “ум”, “ра...</td>\n",
       "      <td>Речь о постановке Волшебника страны Оз. В сцен...</td>\n",
       "      <td>NaN</td>\n",
       "      <td>Максим Мозуль (Мюнхен)</td>\n",
       "      <td>44/132</td>\n",
       "      <td>33.0</td>\n",
       "      <td>2018_2019</td>\n",
       "    </tr>\n",
       "  </tbody>\n",
       "</table>\n",
       "</div>"
      ],
      "text/plain": [
       "   id                             Пакет    №  \\\n",
       "0   1  Умлаут Special: Сова в пабе 2019  1.0   \n",
       "1   2  Умлаут Special: Сова в пабе 2019  2.0   \n",
       "2   3  Умлаут Special: Сова в пабе 2019  3.0   \n",
       "3   4  Умлаут Special: Сова в пабе 2019  4.0   \n",
       "4   5  Умлаут Special: Сова в пабе 2019  5.0   \n",
       "\n",
       "                                              Вопрос  \\\n",
       "0  В передаче Андрея Понкратова рассказывается, ч...   \n",
       "1  Одна из сцен “Московского центра драматургии и...   \n",
       "2  Статья \"National Geographic\" \"ПРОПУСК тела про...   \n",
       "3  Фантастическое животное демимаска, придуманное...   \n",
       "4  В постановке мюнхенского детского театра один ...   \n",
       "\n",
       "                          Ответ  \\\n",
       "0                        Носами   \n",
       "1  выключать мобильные телефоны   \n",
       "2                      пластика   \n",
       "3                   Нострадамус   \n",
       "4               [вместо] мозгов   \n",
       "\n",
       "                                               Зачет  \\\n",
       "0                                                Нос   \n",
       "1    выключать сотовые телефоны, синонимичные ответы   \n",
       "2                                       точный ответ   \n",
       "3                                       Точный ответ   \n",
       "4  [вместо] ума. Зачет по слову “мозг”, “ум”, “ра...   \n",
       "\n",
       "                                         Комментарий  \\\n",
       "0  Приветствие касанием носа – традиция жителей с...   \n",
       "1  перед началом спектакля голос по громкоговорит...   \n",
       "2  В фотопроекте Григория Шелухина \"Крохотная сме...   \n",
       "3  Особо неуязвимым демимаску делает способность ...   \n",
       "4  Речь о постановке Волшебника страны Оз. В сцен...   \n",
       "\n",
       "                                            Источник  \\\n",
       "0                https://youtu.be/BW63sNTOD8Q?t=1513   \n",
       "1  https://typical-moscow.ru/mama-cdr-istoriya-od...   \n",
       "2  http://www.nat-geo.ru/planet/1190948-plastika-...   \n",
       "3          https://ru.wikipedia.org/wiki/Нострадамус   \n",
       "4                                                NaN   \n",
       "\n",
       "                                          Авторы Доля взятия  Процент взятия  \\\n",
       "0  Андрей Кунилов (Мюнхен), Марина Парр (Мюнхен)     120/132            91.0   \n",
       "1  Андрей Кунилов (Мюнхен), Марина Парр (Мюнхен)     107/132            81.0   \n",
       "2                    Борис Рабинович (Тель-Авив)      93/132            70.0   \n",
       "3                    Борис Рабинович (Тель-Авив)      40/132            30.0   \n",
       "4                         Максим Мозуль (Мюнхен)      44/132            33.0   \n",
       "\n",
       "         Год  \n",
       "0  2018_2019  \n",
       "1  2018_2019  \n",
       "2  2018_2019  \n",
       "3  2018_2019  \n",
       "4  2018_2019  "
      ]
     },
     "execution_count": 5,
     "metadata": {},
     "output_type": "execute_result"
    }
   ],
   "source": [
    "df.head(5)"
   ]
  },
  {
   "cell_type": "markdown",
   "metadata": {},
   "source": [
    "## Метрики"
   ]
  },
  {
   "cell_type": "code",
   "execution_count": null,
   "metadata": {},
   "outputs": [],
   "source": [
    "def get_sil_score(embeddings: np.ndarray, topics: list[int]) -> float:\n",
    "    \"\"\"\n",
    "    Вычисляет силуэтный коэффициент для кластеризованных данных.\n",
    "    \n",
    "    Args:\n",
    "        embeddings: Массив эмбеддингов документов\n",
    "        topics: Список меток кластеров\n",
    "        \n",
    "    Returns:\n",
    "        Среднее значение силуэтного коэффициента\n",
    "    \"\"\"\n",
    "    topics = np.array(topics)\n",
    "    valid_indices = topics != -1\n",
    "    filtered_embeddings = embeddings[valid_indices]\n",
    "    filtered_topics = topics[valid_indices]\n",
    "    silhouette_avg = silhouette_score(filtered_embeddings, filtered_topics)\n",
    "    return silhouette_avg"
   ]
  },
  {
   "cell_type": "markdown",
   "metadata": {},
   "source": [
    "### Предобработка"
   ]
  },
  {
   "cell_type": "code",
   "execution_count": null,
   "metadata": {},
   "outputs": [],
   "source": [
    "morph_ru = pymorphy3.MorphAnalyzer(lang=\"ru\")\n",
    "nlp_ru = spacy.load(\"ru_core_news_sm\", disable=[\"parser\", \"ner\"])\n",
    "punctuation = set(string.punctuation + \"«»…\")\n",
    "morph_vocab = MorphVocab()\n",
    "\n",
    "def lemmatize(text: str, keep_composite: bool = True) -> list[str]:\n",
    "    \"\"\"\n",
    "    Лемматизирует текст, преобразуя слова в их нормальную форму.\n",
    "    Параметры:\n",
    "        text (str): Входной текст для обработки\n",
    "        keep_composite (bool): Флаг сохранения составных слов (через дефис). \n",
    "                               Если True и в тексте есть дефис, слово возвращается как есть.\n",
    "                               \n",
    "    Возвращает:\n",
    "        list[str]: Список лемм и знаков пунктуации в порядке их появления\n",
    "    \"\"\"\n",
    "    if keep_composite and '-' in text:\n",
    "        return [text.lower()]\n",
    "    \n",
    "    doc = nlp_ru(text.lower())\n",
    "    lemmas = []\n",
    "    for token in doc:\n",
    "        if token.text.strip() == \"\":\n",
    "            continue\n",
    "        if token.text in punctuation:\n",
    "            lemmas.append(token.text)\n",
    "        else:\n",
    "            lemma = morph_ru.parse(token.text)[0].normal_form\n",
    "            lemmas.append(lemma)\n",
    "    return lemmas\n",
    "\n",
    "def lemmatize_text(text: str) -> str:\n",
    "    return \" \".join(lemmatize(text))\n",
    "\n",
    "def lemmatize_stopwords(stopwords: set[str]) -> set[str]:\n",
    "    text = \" \".join(stopwords)\n",
    "    return set(lemmatize(text))\n"
   ]
  },
  {
   "cell_type": "code",
   "execution_count": null,
   "metadata": {},
   "outputs": [
    {
     "name": "stderr",
     "output_type": "stream",
     "text": [
      "[nltk_data] Downloading package stopwords to\n",
      "[nltk_data]     /Users/melondent/nltk_data...\n",
      "[nltk_data]   Package stopwords is already up-to-date!\n"
     ]
    }
   ],
   "source": [
    "nltk.download(\"stopwords\")\n",
    "stopwords_ru = set(stopwords.words(\"russian\"))\n",
    "custom_stopwords = {'30', 'query', 'автор', 'альф', 'альфа', 'бета', 'буква', 'век', 'вид', 'вопрос', 'восстановить', 'время',\n",
    "                    'второе', 'второй', 'год', 'город', 'двумя', 'делать', 'другой', 'её', 'замена', 'заменить', 'заменять',\n",
    "                    'заполнить', 'игрек', 'известный', 'изз', 'изменить', 'икс', 'именно', 'исходный', 'каждый', 'какой',\n",
    "                    'который', 'кто', 'название', 'назвать', 'называть', 'написать', 'начинаться', 'обсуждение', 'один',\n",
    "                    'односложный', 'он', 'оно','ответ','ответить','первый','писать','подобный','поэтому','предложение',\n",
    "                    'предыдущий','пример','пропуск','пропуск1','пропуск2','пропустить','сделать','секунда','слово',\n",
    "                    'словосочетание','страна','сякой','также','такой','тот','третий','три','упоминаться','это', 'сам', \n",
    "                    'свой', 'ответить', 'такой', 'некоторый', 'например', 'xix', 'любой', 'считаться', 'сказать', 'начало',\n",
    "                    'недавно', 'какоеть', 'чтоть', 'xvii', 'описать', '1960ха', 'цзеф', 'являться', 'сравнить', 'we',\n",
    "                    'коллодить', 'парный','заниматься', 'рушдить', '4050', '1910xa', 'утверждать','использовать',\n",
    "                    'увидеть', 'бува', 'напрямую', 'некий', 'ii', 'установить', 'тысяча', 'являться', 'хотеть',\n",
    "                    'произойти', 'бут', 'своё', '1914', 'остального', 'xx', 'final', 'blacks', 'whenua', 'века', 'фалек',\n",
    "                    'норрис', 'джеймс', 'видов', 'блэкс', 'yahoo', '1860', 'писал', 'ройс', '407', 'однажды', 'стать',\n",
    "                    'говорить', 'очень','просить', 'сравнивать', 'несколько', 'середина', 'джон', 'удаться', 'алфавит', \n",
    "                    'соседний', 'рассказывать', 'сравнивать', 'британский', 'имя', 'согласный', 'набоков', 'считать', \n",
    "                    'евгений', 'отмечать', 'четыре', 'человек', 'изобразить', 'посвятить', 'называться', 'показать', \n",
    "                    'означать', 'сяня', 'использоваться', 'макс'}\n",
    "all_stopwords = stopwords_ru.union(custom_stopwords)\n",
    "\n",
    "lemm_stopwords = list(lemmatize_stopwords(all_stopwords).union(all_stopwords))\n",
    "\n",
    "def preprocess_text(text: str,\n",
    "                    remove_punctuation: bool = True,\n",
    "                    lemmatize: bool = True,\n",
    "                    stopwords: bool = True,\n",
    "                    remove_numbers: bool = True) -> list:\n",
    "    \n",
    "    \"\"\"\n",
    "    Предварительная обработка текста с возможностью:\n",
    "    - удаления пунктуации\n",
    "    - лемматизации слов\n",
    "    - фильтрации стоп-слов\n",
    "    - удаления числовых токенов\n",
    "    \n",
    "    Параметры:\n",
    "        text (str): Исходный текст для обработки\n",
    "        remove_punctuation (bool): Удалять знаки пунктуации (по умолчанию True)\n",
    "        lemmatize (bool): Приводить слова к нормальной форме (по умолчанию True)\n",
    "        stopwords (bool): Удалять стоп-слова (по умолчанию True)\n",
    "        remove_numbers (bool): Удалять числовые токены (по умолчанию True)\n",
    "    \n",
    "    Возвращает:\n",
    "        list[str]: Список обработанных токенов\n",
    "\n",
    "    \"\"\"\n",
    "    \n",
    "    if remove_punctuation:\n",
    "        text = re.sub(r\"[^\\w\\s]\", \"\", str(text))\n",
    "\n",
    "    tokens = re.findall(r\"\\w+\", text.lower())\n",
    "    processed_tokens = []\n",
    "\n",
    "    for token in tokens:\n",
    "        if remove_numbers and token.isdigit():\n",
    "            continue\n",
    "        if stopwords and token in lemm_stopwords:\n",
    "            continue\n",
    "        if lemmatize:\n",
    "            token = lemmatize_text(token)\n",
    "            if stopwords and token in lemm_stopwords:\n",
    "                continue\n",
    "            \n",
    "\n",
    "        processed_tokens.append(token)\n",
    "\n",
    "    return processed_tokens"
   ]
  },
  {
   "cell_type": "code",
   "execution_count": null,
   "metadata": {},
   "outputs": [],
   "source": [
    "# Шаблоны регулярных выражений для удаления повторяющихся структурных паттернов\n",
    "patterns_to_remove = [\n",
    "    r\"(?i)(ответьте|назовите)\\s+(?:\\w+\\W+){0,4}(двумя|тремя|четырьмя|одним)\\s+слов(ами|ом)\",\n",
    "    r\"(?i)(ответьте|назовите)\",\n",
    "    r\"\\bСДЕЛАТЬ ЭТО\\b|\\bДЕЛАТЬ ЭТО\\b\",\n",
    "    r\"\\bТАМ\\b\",\n",
    "    r\"\\bОН\\b\",\n",
    "    r\"\\bИХ\\b\",\n",
    "    r\"\\bЕ[ЕЁË]\\b\",\n",
    "    r\"\\bИМ\\b\",\n",
    "    r\"\\bЕЙ\\b\",\n",
    "    r\"(?i)\\bв этом вопросе\\b\",\n",
    "    r\"(?i)\\b(вопрос[а-яё]*|слов[а-яё]*|букв[а-яё]*|эт[а-яё]*|друг[а-яё]*)\\b\",\n",
    "    r\"(?i)\\b(замен[а-яё]*|измен[а-яё]*|перемен[а-яё]*)\\b\",\n",
    "    r\"(?i)(соседние буквы алфавита|последовательные буквы алфавита)\",\n",
    "    r\"(?i)\\bмы\\b(?:\\s+\\S+){0,4}?\\s+\\bсократили\\b\",\n",
    "    r\"(?i)\\b(пропущ(ен[аоы]?|или|ить)|убрали|пропустили)\\b(?:\\s+\\S+){0,4}?\\s+\\bбукв[аы]?\\b\",\n",
    "    r\"(?i)\\b(назовите|напишите|закончите|как(ая|ое|ие)|как)\\b(?:\\s+\\S+){0,4}?\\s+\\b(фамили[юяейи]|им[яени]|звали)\\b\",\n",
    "    r\"(?i)\\b(икс|игрек|альф|бет)\\b\",\n",
    "    r\"(?i)\\b(он|она|оно|они|их|его|ей|ем|ими|им|е[её]|это)\\b\",\n",
    "    r\"(?i)\\bпропуск(и|ами|ов)?\\b|\\bмы пропустили\\b\",\n",
    "    r\"(?i)\\b(мы|что)\\b(?:\\s+\\S+){0,4}?\\s+\\b(заменили|изменили)\\b\",\n",
    "    r\"(?i)\\bтак(ой|ая|ое|ие|ими|им)?\\b\",\n",
    "    r\"(?i)\\bчто\\b\"]\n",
    "\n",
    "    \n",
    "def remove_patterns(text: str) -> str:\n",
    "    \"\"\"\n",
    "    Очищает текст структурных паттернов\n",
    "    \n",
    "    Параметры:\n",
    "        text (str): Исходный текст для очистки\n",
    "    \n",
    "    Возвращает:\n",
    "        str: Очищенный текст\n",
    "    \"\"\"\n",
    "    text = str(text)\n",
    "    \n",
    "    text = re.sub(r'\\w*[А-ЯЁ]{3,}\\w*', '', text)    \n",
    "    text = re.sub(r'[a-zA-Z]', '', text)\n",
    "    text = re.sub(r'\\b[А-Яа-яЁё]\\b', '', text)\n",
    "    for pattern in patterns_to_remove:\n",
    "        text = re.sub(pattern, '', text)\n",
    "    \n",
    "    text = re.sub(r'\\?+', '', text)\n",
    "    text = re.sub(r'\\:+', '', text)\n",
    "    text = re.sub(r'\\\"+', '', text)\n",
    "    text = re.sub(r'\\s+', ' ', text).strip()\n",
    "    return text\n",
    "\n",
    "df['cleaned_text'] = df['Вопрос'].apply(remove_patterns)"
   ]
  },
  {
   "cell_type": "code",
   "execution_count": 10,
   "metadata": {},
   "outputs": [],
   "source": [
    "docs = list(df[\"cleaned_text\"].apply(str).apply(lambda x: f\"query: {x}\"))\n",
    "df[\"fully_processed_text\"] = df[\"cleaned_text\"].apply(lambda x: \" \".join(preprocess_text(x)))\n",
    "docs_tfidf = list(df[\"fully_processed_text\"])"
   ]
  },
  {
   "cell_type": "markdown",
   "metadata": {},
   "source": [
    "### Работа с BERTopic (DBSCAN)"
   ]
  },
  {
   "cell_type": "code",
   "execution_count": null,
   "metadata": {},
   "outputs": [],
   "source": [
    "model = SentenceTransformer(\"ai-forever/sbert_large_nlu_ru\")\n",
    "embedds = model.encode(docs, show_progress_bar=True)"
   ]
  },
  {
   "cell_type": "code",
   "execution_count": 12,
   "metadata": {},
   "outputs": [],
   "source": [
    "np.save(\"topic_embeddings_rubert.npy\", embedds)"
   ]
  },
  {
   "cell_type": "code",
   "execution_count": null,
   "metadata": {},
   "outputs": [],
   "source": [
    "embedds = np.load(\"topic_embeddings_rubert.npy\")"
   ]
  },
  {
   "cell_type": "code",
   "execution_count": 17,
   "metadata": {},
   "outputs": [
    {
     "name": "stderr",
     "output_type": "stream",
     "text": [
      "2025-06-02 04:57:04,472 - BERTopic - Dimensionality - Fitting the dimensionality reduction algorithm\n",
      "OMP: Info #276: omp_set_nested routine deprecated, please use omp_set_max_active_levels instead.\n",
      "2025-06-02 04:57:30,513 - BERTopic - Dimensionality - Completed ✓\n",
      "2025-06-02 04:57:30,527 - BERTopic - Cluster - Start clustering the reduced embeddings\n",
      "2025-06-02 04:57:30,730 - BERTopic - Cluster - Completed ✓\n",
      "2025-06-02 04:57:30,731 - BERTopic - Representation - Extracting topics using c-TF-IDF for topic reduction.\n",
      "2025-06-02 04:57:31,004 - BERTopic - Representation - Completed ✓\n",
      "2025-06-02 04:57:31,005 - BERTopic - Topic reduction - Reducing number of topics\n",
      "2025-06-02 04:57:31,036 - BERTopic - Representation - Fine-tuning topics using representation models.\n",
      "2025-06-02 04:57:31,285 - BERTopic - Representation - Completed ✓\n",
      "2025-06-02 04:57:31,288 - BERTopic - Topic reduction - Reduced number of topics from 19 to 15\n"
     ]
    }
   ],
   "source": [
    "ctfidf_model = ClassTfidfTransformer(reduce_frequent_words=True)\n",
    "\n",
    "vectorizer_model = CountVectorizer(stop_words=lemm_stopwords)\n",
    "\n",
    "umap_model = UMAP(n_neighbors=15, n_components=5,\n",
    "                  min_dist=0.05, metric=\"cosine\", random_state=42)\n",
    "\n",
    "hdbscan_model = HDBSCAN(\n",
    "    min_cluster_size=20,  \n",
    "    min_samples=5,        \n",
    "    cluster_selection_epsilon=0.2\n",
    ")\n",
    "\n",
    "topic_model = BERTopic(embedding_model=\"ai-forever/sbert_large_nlu_ru\",\n",
    "                       vectorizer_model=vectorizer_model,\n",
    "                       nr_topics=\"auto\",\n",
    "                       verbose=True,\n",
    "                       umap_model=umap_model,\n",
    "                       ctfidf_model=ctfidf_model,\n",
    "                       hdbscan_model=hdbscan_model,\n",
    "                       top_n_words=100)\n",
    "\n",
    "topics, probs = topic_model.fit_transform(docs, embeddings=embedds)"
   ]
  },
  {
   "cell_type": "code",
   "execution_count": 18,
   "metadata": {},
   "outputs": [
    {
     "data": {
      "text/plain": [
       "0.30771536"
      ]
     },
     "execution_count": 18,
     "metadata": {},
     "output_type": "execute_result"
    }
   ],
   "source": [
    "umap_model = UMAP(n_neighbors=15, n_components=2,\n",
    "                  min_dist=0.05, metric=\"cosine\", random_state=42)\n",
    "\n",
    "reduced_embeddings = umap_model.fit_transform(embedds)\n",
    "\n",
    "get_sil_score(reduced_embeddings, topics)"
   ]
  },
  {
   "cell_type": "code",
   "execution_count": 19,
   "metadata": {},
   "outputs": [
    {
     "data": {
      "application/vnd.plotly.v1+json": {
       "config": {
        "plotlyServerURL": "https://plot.ly"
       },
       "data": [
        {
         "marker": {
          "color": "#D55E00"
         },
         "orientation": "h",
         "type": "bar",
         "x": [
          0.21470811590164773,
          0.21605461394718944,
          0.2173929480893598,
          0.21933743138199202,
          0.223063634580682,
          0.223063634580682,
          0.22479882021122052,
          0.22748388322785768,
          0.23159811104073322,
          0.23159811104073322,
          0.2317920846288404,
          0.23312128201445728,
          0.23701789504732432,
          0.2402721177463171,
          0.2424052813077983,
          0.2444542784891053,
          0.2589307801011076,
          0.2623302602119081,
          0.32004355199145657,
          0.3373003719195924
         ],
         "xaxis": "x",
         "y": [
          "мультфильма  ",
          "одном  ",
          "держит  ",
          "мальчик  ",
          "путь  ",
          "картину  ",
          "сериала  ",
          "года  ",
          "мане  ",
          "автопортрете  ",
          "картина  ",
          "художник  ",
          "изобразил  ",
          "сериале  ",
          "произведения  ",
          "одного  ",
          "картине  ",
          "персонажа  ",
          "герой  ",
          "персонаж  "
         ],
         "yaxis": "y"
        },
        {
         "marker": {
          "color": "#0072B2"
         },
         "orientation": "h",
         "type": "bar",
         "x": [
          0.221567752070459,
          0.23275454677749252,
          0.23425228309544438,
          0.2344423902845973,
          0.238997359888183,
          0.238997359888183,
          0.23932052471629434,
          0.2470576600401627,
          0.2508179126271613,
          0.25529242999880347,
          0.25746212394945595,
          0.27037540287144685,
          0.2753982517645744,
          0.3062416033557465,
          0.3213020704335917,
          0.3305187883050283,
          0.37961783985191067,
          0.4163223207560615,
          0.46389410206418374,
          0.6299323632855397
         ],
         "xaxis": "x2",
         "y": [
          "первые  ",
          "две  ",
          "язык  ",
          "целиком  ",
          "слегка  ",
          "итай  ",
          "тремя  ",
          "трёх  ",
          "пропущено  ",
          "предложении  ",
          "предыдущем  ",
          "одном  ",
          "которое  ",
          "котором  ",
          "предыдущего  ",
          "предложения  ",
          "заполните  ",
          "виде  ",
          "исходном  ",
          "напишите  "
         ],
         "yaxis": "y2"
        },
        {
         "marker": {
          "color": "#CC79A7"
         },
         "orientation": "h",
         "type": "bar",
         "x": [
          0.21755042100594066,
          0.21755042100594066,
          0.22268390250003062,
          0.22520194253962197,
          0.22818968276911952,
          0.23118425328769834,
          0.2330005316612273,
          0.2330005316612273,
          0.2330005316612273,
          0.2330005316612273,
          0.2330580059607096,
          0.24058641968011607,
          0.24058641968011607,
          0.24114158915896242,
          0.2516408286653953,
          0.2516408286653953,
          0.2790511850588062,
          0.2824694400847876,
          0.284396218868523,
          0.3032451630098009
         ],
         "xaxis": "x3",
         "y": [
          "дивизия  ",
          "тридцатилетней  ",
          "начинающимися  ",
          "мировой  ",
          "одну  ",
          "работу  ",
          "гитлер  ",
          "планировал  ",
          "менеджер  ",
          "политик  ",
          "ту  ",
          "те  ",
          "удалось  ",
          "материалы  ",
          "франко  ",
          "военные  ",
          "году  ",
          "года  ",
          "король  ",
          "войны  "
         ],
         "yaxis": "y3"
        },
        {
         "marker": {
          "color": "#E69F00"
         },
         "orientation": "h",
         "type": "bar",
         "x": [
          0.25659312804092277,
          0.2599234243606678,
          0.2599234243606678,
          0.27124041988687647,
          0.27124041988687647,
          0.27124041988687647,
          0.27124041988687647,
          0.27124041988687647,
          0.27124041988687647,
          0.27124041988687647,
          0.27124041988687647,
          0.27124041988687647,
          0.27124041988687647,
          0.2817248961745832,
          0.2817248961745832,
          0.2817248961745832,
          0.28907367899871445,
          0.294413571333083,
          0.3001337180466418,
          0.3311086405544529
         ],
         "xaxis": "x4",
         "y": [
          "животных  ",
          "защиты  ",
          "млекопитающих  ",
          "медведей  ",
          "полагают  ",
          "йонг  ",
          "рыбу  ",
          "динозавра  ",
          "хищников  ",
          "эксперименты  ",
          "скворцы  ",
          "муравьи  ",
          "сивучей  ",
          "акула  ",
          "мозга  ",
          "способны  ",
          "птицы  ",
          "обнаружили  ",
          "развитие  ",
          "учёные  "
         ],
         "yaxis": "y4"
        },
        {
         "marker": {
          "color": "#56B4E9"
         },
         "orientation": "h",
         "type": "bar",
         "x": [
          0.27521943893226686,
          0.27521943893226686,
          0.27521943893226686,
          0.2788280773545677,
          0.2872024187917514,
          0.2872024187917514,
          0.2872024187917514,
          0.2872024187917514,
          0.2872024187917514,
          0.2872024187917514,
          0.2872024187917514,
          0.2872024187917514,
          0.29089723342710355,
          0.31779603430752407,
          0.31779603430752407,
          0.3251165742621246,
          0.32523299420481383,
          0.34149325773998407,
          0.34331143831152233,
          0.36534615595164116
         ],
         "xaxis": "x5",
         "y": [
          "мяч  ",
          "салливан  ",
          "поле  ",
          "долго  ",
          "болельщики  ",
          "матча  ",
          "стадионе  ",
          "спросили  ",
          "кантона  ",
          "спортсмен  ",
          "зеландии  ",
          "чемпионата  ",
          "клуб  ",
          "тренер  ",
          "чемпионат  ",
          "игры  ",
          "спорта  ",
          "команды  ",
          "футболистов  ",
          "футбольный  "
         ],
         "yaxis": "y5"
        },
        {
         "marker": {
          "color": "#009E73"
         },
         "orientation": "h",
         "type": "bar",
         "x": [
          0.2640745463834774,
          0.2640745463834774,
          0.2640745463834774,
          0.2640745463834774,
          0.2640745463834774,
          0.2640745463834774,
          0.2640745463834774,
          0.2640745463834774,
          0.2641157481852457,
          0.2679352479123298,
          0.2693308974245397,
          0.2747572571445122,
          0.2747572571445122,
          0.2806240343533271,
          0.28186736974248155,
          0.2863062542786254,
          0.2911701540415436,
          0.292710790799182,
          0.30545533938342506,
          0.32658248903718345
         ],
         "xaxis": "x6",
         "y": [
          "аутодафе  ",
          "относиться  ",
          "мудрый  ",
          "выполнял  ",
          "символизировать  ",
          "семерых  ",
          "называемая  ",
          "кармин  ",
          "кому  ",
          "бога  ",
          "человека  ",
          "верили  ",
          "ле  ",
          "языке  ",
          "означает  ",
          "значением  ",
          "древние  ",
          "символ  ",
          "роллс  ",
          "богам  "
         ],
         "yaxis": "y6"
        },
        {
         "marker": {
          "color": "#F0E442"
         },
         "orientation": "h",
         "type": "bar",
         "x": [
          0.2714740354462068,
          0.2714740354462068,
          0.2714740354462068,
          0.2714740354462068,
          0.2754429155902588,
          0.28102211822374046,
          0.28245608062821914,
          0.2905712245350298,
          0.2907537218209189,
          0.2907537218209189,
          0.2907537218209189,
          0.3009126804728509,
          0.3104548261341497,
          0.3140143371129442,
          0.3140143371129442,
          0.3140143371129442,
          0.3261521883698979,
          0.3474640341471446,
          0.34775505053384503,
          0.364649232102704
         ],
         "xaxis": "x7",
         "y": [
          "производится  ",
          "дзёси  ",
          "бублики  ",
          "торта  ",
          "китае  ",
          "несклоняемым  ",
          "кафе  ",
          "называют  ",
          "обладает  ",
          "свойствами  ",
          "еда  ",
          "конкурс  ",
          "день  ",
          "коктейля  ",
          "меню  ",
          "пекарне  ",
          "блюда  ",
          "приготовления  ",
          "еды  ",
          "чай  "
         ],
         "yaxis": "y7"
        },
        {
         "marker": {
          "color": "#D55E00"
         },
         "orientation": "h",
         "type": "bar",
         "x": [
          0.2759073444510157,
          0.2759073444510157,
          0.2759073444510157,
          0.2759073444510157,
          0.2759073444510157,
          0.2759073444510157,
          0.2759073444510157,
          0.2759073444510157,
          0.2759073444510157,
          0.2759073444510157,
          0.2759073444510157,
          0.2759073444510157,
          0.2759073444510157,
          0.2759073444510157,
          0.2768128325896859,
          0.27994103842543167,
          0.2870687320136598,
          0.32324806778429266,
          0.32324806778429266,
          0.3501860639635057
         ],
         "xaxis": "x8",
         "y": [
          "издания  ",
          "стругацкие  ",
          "толстой  ",
          "глазков  ",
          "уместились  ",
          "читателей  ",
          "пушкин  ",
          "онегина  ",
          "крещением  ",
          "рукопись  ",
          "сетовал  ",
          "аристократа  ",
          "литератора  ",
          "мариас  ",
          "писатель  ",
          "поэт  ",
          "сергея  ",
          "поэта  ",
          "текст  ",
          "роман  "
         ],
         "yaxis": "y8"
        },
        {
         "marker": {
          "color": "#0072B2"
         },
         "orientation": "h",
         "type": "bar",
         "x": [
          0.29764012488090547,
          0.29764012488090547,
          0.30803969501498396,
          0.30803969501498396,
          0.30803969501498396,
          0.30803969501498396,
          0.3120786680008219,
          0.3184084869234748,
          0.32145165993870706,
          0.32558708575683354,
          0.3338769920764353,
          0.3338769920764353,
          0.33686337336705596,
          0.3556936016759824,
          0.3556936016759824,
          0.3556936016759824,
          0.3556936016759824,
          0.3976717311944582,
          0.4449426259948753,
          0.44648843938991034
         ],
         "xaxis": "x9",
         "y": [
          "стиль  ",
          "музыкант  ",
          "бетховена  ",
          "петь  ",
          "музыкой  ",
          "певица  ",
          "песню  ",
          "инструмент  ",
          "концерт  ",
          "дэвида  ",
          "песня  ",
          "музыку  ",
          "музыкальный  ",
          "композитор  ",
          "рэпер  ",
          "музыке  ",
          "музыки  ",
          "песни  ",
          "песен  ",
          "группы  "
         ],
         "yaxis": "y9"
        },
        {
         "marker": {
          "color": "#CC79A7"
         },
         "orientation": "h",
         "type": "bar",
         "x": [
          0.28914647930727777,
          0.28914647930727777,
          0.28914647930727777,
          0.28914647930727777,
          0.28914647930727777,
          0.28914647930727777,
          0.28914647930727777,
          0.28914647930727777,
          0.28914647930727777,
          0.28914647930727777,
          0.28914647930727777,
          0.28914647930727777,
          0.28914647930727777,
          0.28914647930727777,
          0.28914647930727777,
          0.2933737260071655,
          0.3205015241867632,
          0.3205015241867632,
          0.4561194701744406,
          0.5310720671058523
         ],
         "xaxis": "x10",
         "y": [
          "цзефу  ",
          "линдси  ",
          "оскара  ",
          "круза  ",
          "бонанно  ",
          "планету  ",
          "маккенны  ",
          "сапуто  ",
          "кольберг  ",
          "часы  ",
          "серийными  ",
          "деодато  ",
          "выбору  ",
          "выпуска  ",
          "канал  ",
          "фильмов  ",
          "би  ",
          "съемок  ",
          "фильма  ",
          "фильм  "
         ],
         "yaxis": "y10"
        },
        {
         "marker": {
          "color": "#E69F00"
         },
         "orientation": "h",
         "type": "bar",
         "x": [
          0.35148952221738283,
          0.3539030753622571,
          0.3594139412506417,
          0.368565127010976,
          0.3751887806342592,
          0.37939237198752956,
          0.37939237198752956,
          0.4073541684432489,
          0.43384764101618634,
          0.43384764101618634,
          0.43384764101618634,
          0.43384764101618634,
          0.43384764101618634,
          0.43384764101618634,
          0.43384764101618634,
          0.43384764101618634,
          0.43384764101618634,
          0.5018320782604179,
          0.5018320782604179,
          0.5827526337319653
         ],
         "xaxis": "x11",
         "y": [
          "либо  ",
          "двухкоренным  ",
          "памятник  ",
          "нём  ",
          "году  ",
          "квартиры  ",
          "семьдесят  ",
          "метров  ",
          "авеню  ",
          "ньель  ",
          "ленинграда  ",
          "отеля  ",
          "1955  ",
          "аттракцион  ",
          "санкт  ",
          "блокады  ",
          "любопытно  ",
          "построен  ",
          "парижской  ",
          "отель  "
         ],
         "yaxis": "y11"
        },
        {
         "marker": {
          "color": "#56B4E9"
         },
         "orientation": "h",
         "type": "bar",
         "x": [
          0.3998691006115535,
          0.4116159545420572,
          0.4116159545420572,
          0.42599784942023794,
          0.42599784942023794,
          0.44454568045132564,
          0.44454568045132564,
          0.47069636626370304,
          0.47069636626370304,
          0.47069636626370304,
          0.47069636626370304,
          0.47069636626370304,
          0.47069636626370304,
          0.47069636626370304,
          0.47069636626370304,
          0.47069636626370304,
          0.47069636626370304,
          0.47069636626370304,
          0.5217386813012829,
          0.6029565161437557
         ],
         "xaxis": "x12",
         "y": [
          "автомобиль  ",
          "выпускает  ",
          "эль  ",
          "размером  ",
          "технологию  ",
          "автомобилей  ",
          "пакет  ",
          "немца  ",
          "итабаси  ",
          "бип  ",
          "бода  ",
          "дорогах  ",
          "такси  ",
          "транспорта  ",
          "штраф  ",
          "авиакомпании  ",
          "фирма  ",
          "сингапуре  ",
          "знаки  ",
          "модель  "
         ],
         "yaxis": "y12"
        },
        {
         "marker": {
          "color": "#009E73"
         },
         "orientation": "h",
         "type": "bar",
         "x": [
          0.3528817889576581,
          0.3528817889576581,
          0.3528817889576581,
          0.3528817889576581,
          0.3528817889576581,
          0.3528817889576581,
          0.3528817889576581,
          0.3528817889576581,
          0.3528817889576581,
          0.3528817889576581,
          0.35532993769322757,
          0.38717159183287125,
          0.3985454342436642,
          0.3985454342436642,
          0.4557497969149172,
          0.4557497969149172,
          0.4557497969149172,
          0.4557497969149172,
          0.4557497969149172,
          0.4557497969149172
         ],
         "xaxis": "x13",
         "y": [
          "омск  ",
          "наряды  ",
          "отмечала  ",
          "отводилась  ",
          "отмечали  ",
          "нельсон  ",
          "некрупным  ",
          "отставному  ",
          "очевидец  ",
          "паланкинов  ",
          "фамилия  ",
          "ле  ",
          "рабочих  ",
          "эль  ",
          "урале  ",
          "тель  ",
          "ме  ",
          "харькове  ",
          "родственников  ",
          "кебир  "
         ],
         "yaxis": "y13"
        },
        {
         "marker": {
          "color": "#F0E442"
         },
         "orientation": "h",
         "type": "bar",
         "x": [
          0.414550336627064,
          0.414550336627064,
          0.414550336627064,
          0.414550336627064,
          0.414550336627064,
          0.414550336627064,
          0.414550336627064,
          0.414550336627064,
          0.414550336627064,
          0.414550336627064,
          0.4174263163862949,
          0.43325483071263127,
          0.43376015205706037,
          0.4435393829802069,
          0.4435393829802069,
          0.4845527587516162,
          0.4845527587516162,
          0.5353952446422918,
          0.5353952446422918,
          0.5353952446422918
         ],
         "xaxis": "x14",
         "y": [
          "членам  ",
          "целостность  ",
          "царе  ",
          "христово  ",
          "хирургия  ",
          "хирурга  ",
          "фрагмент  ",
          "форуме  ",
          "частичками  ",
          "потовых  ",
          "девятнадцатом  ",
          "веке  ",
          "утверждал  ",
          "врач  ",
          "целью  ",
          "болезни  ",
          "кожей  ",
          "желёз  ",
          "пациентам  ",
          "полидори  "
         ],
         "yaxis": "y14"
        }
       ],
       "layout": {
        "annotations": [
         {
          "font": {
           "size": 16
          },
          "showarrow": false,
          "text": "Topic 0",
          "x": 0.0875,
          "xanchor": "center",
          "xref": "paper",
          "y": 1,
          "yanchor": "bottom",
          "yref": "paper"
         },
         {
          "font": {
           "size": 16
          },
          "showarrow": false,
          "text": "Topic 1",
          "x": 0.36250000000000004,
          "xanchor": "center",
          "xref": "paper",
          "y": 1,
          "yanchor": "bottom",
          "yref": "paper"
         },
         {
          "font": {
           "size": 16
          },
          "showarrow": false,
          "text": "Topic 2",
          "x": 0.6375000000000001,
          "xanchor": "center",
          "xref": "paper",
          "y": 1,
          "yanchor": "bottom",
          "yref": "paper"
         },
         {
          "font": {
           "size": 16
          },
          "showarrow": false,
          "text": "Topic 3",
          "x": 0.9125,
          "xanchor": "center",
          "xref": "paper",
          "y": 1,
          "yanchor": "bottom",
          "yref": "paper"
         },
         {
          "font": {
           "size": 16
          },
          "showarrow": false,
          "text": "Topic 4",
          "x": 0.0875,
          "xanchor": "center",
          "xref": "paper",
          "y": 0.7250000000000001,
          "yanchor": "bottom",
          "yref": "paper"
         },
         {
          "font": {
           "size": 16
          },
          "showarrow": false,
          "text": "Topic 5",
          "x": 0.36250000000000004,
          "xanchor": "center",
          "xref": "paper",
          "y": 0.7250000000000001,
          "yanchor": "bottom",
          "yref": "paper"
         },
         {
          "font": {
           "size": 16
          },
          "showarrow": false,
          "text": "Topic 6",
          "x": 0.6375000000000001,
          "xanchor": "center",
          "xref": "paper",
          "y": 0.7250000000000001,
          "yanchor": "bottom",
          "yref": "paper"
         },
         {
          "font": {
           "size": 16
          },
          "showarrow": false,
          "text": "Topic 7",
          "x": 0.9125,
          "xanchor": "center",
          "xref": "paper",
          "y": 0.7250000000000001,
          "yanchor": "bottom",
          "yref": "paper"
         },
         {
          "font": {
           "size": 16
          },
          "showarrow": false,
          "text": "Topic 8",
          "x": 0.0875,
          "xanchor": "center",
          "xref": "paper",
          "y": 0.45,
          "yanchor": "bottom",
          "yref": "paper"
         },
         {
          "font": {
           "size": 16
          },
          "showarrow": false,
          "text": "Topic 9",
          "x": 0.36250000000000004,
          "xanchor": "center",
          "xref": "paper",
          "y": 0.45,
          "yanchor": "bottom",
          "yref": "paper"
         },
         {
          "font": {
           "size": 16
          },
          "showarrow": false,
          "text": "Topic 10",
          "x": 0.6375000000000001,
          "xanchor": "center",
          "xref": "paper",
          "y": 0.45,
          "yanchor": "bottom",
          "yref": "paper"
         },
         {
          "font": {
           "size": 16
          },
          "showarrow": false,
          "text": "Topic 11",
          "x": 0.9125,
          "xanchor": "center",
          "xref": "paper",
          "y": 0.45,
          "yanchor": "bottom",
          "yref": "paper"
         },
         {
          "font": {
           "size": 16
          },
          "showarrow": false,
          "text": "Topic 12",
          "x": 0.0875,
          "xanchor": "center",
          "xref": "paper",
          "y": 0.175,
          "yanchor": "bottom",
          "yref": "paper"
         },
         {
          "font": {
           "size": 16
          },
          "showarrow": false,
          "text": "Topic 13",
          "x": 0.36250000000000004,
          "xanchor": "center",
          "xref": "paper",
          "y": 0.175,
          "yanchor": "bottom",
          "yref": "paper"
         }
        ],
        "height": 1000,
        "hoverlabel": {
         "bgcolor": "white",
         "font": {
          "family": "Rockwell",
          "size": 16
         }
        },
        "showlegend": false,
        "template": {
         "data": {
          "bar": [
           {
            "error_x": {
             "color": "#2a3f5f"
            },
            "error_y": {
             "color": "#2a3f5f"
            },
            "marker": {
             "line": {
              "color": "white",
              "width": 0.5
             },
             "pattern": {
              "fillmode": "overlay",
              "size": 10,
              "solidity": 0.2
             }
            },
            "type": "bar"
           }
          ],
          "barpolar": [
           {
            "marker": {
             "line": {
              "color": "white",
              "width": 0.5
             },
             "pattern": {
              "fillmode": "overlay",
              "size": 10,
              "solidity": 0.2
             }
            },
            "type": "barpolar"
           }
          ],
          "carpet": [
           {
            "aaxis": {
             "endlinecolor": "#2a3f5f",
             "gridcolor": "#C8D4E3",
             "linecolor": "#C8D4E3",
             "minorgridcolor": "#C8D4E3",
             "startlinecolor": "#2a3f5f"
            },
            "baxis": {
             "endlinecolor": "#2a3f5f",
             "gridcolor": "#C8D4E3",
             "linecolor": "#C8D4E3",
             "minorgridcolor": "#C8D4E3",
             "startlinecolor": "#2a3f5f"
            },
            "type": "carpet"
           }
          ],
          "choropleth": [
           {
            "colorbar": {
             "outlinewidth": 0,
             "ticks": ""
            },
            "type": "choropleth"
           }
          ],
          "contour": [
           {
            "colorbar": {
             "outlinewidth": 0,
             "ticks": ""
            },
            "colorscale": [
             [
              0,
              "#0d0887"
             ],
             [
              0.1111111111111111,
              "#46039f"
             ],
             [
              0.2222222222222222,
              "#7201a8"
             ],
             [
              0.3333333333333333,
              "#9c179e"
             ],
             [
              0.4444444444444444,
              "#bd3786"
             ],
             [
              0.5555555555555556,
              "#d8576b"
             ],
             [
              0.6666666666666666,
              "#ed7953"
             ],
             [
              0.7777777777777778,
              "#fb9f3a"
             ],
             [
              0.8888888888888888,
              "#fdca26"
             ],
             [
              1,
              "#f0f921"
             ]
            ],
            "type": "contour"
           }
          ],
          "contourcarpet": [
           {
            "colorbar": {
             "outlinewidth": 0,
             "ticks": ""
            },
            "type": "contourcarpet"
           }
          ],
          "heatmap": [
           {
            "colorbar": {
             "outlinewidth": 0,
             "ticks": ""
            },
            "colorscale": [
             [
              0,
              "#0d0887"
             ],
             [
              0.1111111111111111,
              "#46039f"
             ],
             [
              0.2222222222222222,
              "#7201a8"
             ],
             [
              0.3333333333333333,
              "#9c179e"
             ],
             [
              0.4444444444444444,
              "#bd3786"
             ],
             [
              0.5555555555555556,
              "#d8576b"
             ],
             [
              0.6666666666666666,
              "#ed7953"
             ],
             [
              0.7777777777777778,
              "#fb9f3a"
             ],
             [
              0.8888888888888888,
              "#fdca26"
             ],
             [
              1,
              "#f0f921"
             ]
            ],
            "type": "heatmap"
           }
          ],
          "histogram": [
           {
            "marker": {
             "pattern": {
              "fillmode": "overlay",
              "size": 10,
              "solidity": 0.2
             }
            },
            "type": "histogram"
           }
          ],
          "histogram2d": [
           {
            "colorbar": {
             "outlinewidth": 0,
             "ticks": ""
            },
            "colorscale": [
             [
              0,
              "#0d0887"
             ],
             [
              0.1111111111111111,
              "#46039f"
             ],
             [
              0.2222222222222222,
              "#7201a8"
             ],
             [
              0.3333333333333333,
              "#9c179e"
             ],
             [
              0.4444444444444444,
              "#bd3786"
             ],
             [
              0.5555555555555556,
              "#d8576b"
             ],
             [
              0.6666666666666666,
              "#ed7953"
             ],
             [
              0.7777777777777778,
              "#fb9f3a"
             ],
             [
              0.8888888888888888,
              "#fdca26"
             ],
             [
              1,
              "#f0f921"
             ]
            ],
            "type": "histogram2d"
           }
          ],
          "histogram2dcontour": [
           {
            "colorbar": {
             "outlinewidth": 0,
             "ticks": ""
            },
            "colorscale": [
             [
              0,
              "#0d0887"
             ],
             [
              0.1111111111111111,
              "#46039f"
             ],
             [
              0.2222222222222222,
              "#7201a8"
             ],
             [
              0.3333333333333333,
              "#9c179e"
             ],
             [
              0.4444444444444444,
              "#bd3786"
             ],
             [
              0.5555555555555556,
              "#d8576b"
             ],
             [
              0.6666666666666666,
              "#ed7953"
             ],
             [
              0.7777777777777778,
              "#fb9f3a"
             ],
             [
              0.8888888888888888,
              "#fdca26"
             ],
             [
              1,
              "#f0f921"
             ]
            ],
            "type": "histogram2dcontour"
           }
          ],
          "mesh3d": [
           {
            "colorbar": {
             "outlinewidth": 0,
             "ticks": ""
            },
            "type": "mesh3d"
           }
          ],
          "parcoords": [
           {
            "line": {
             "colorbar": {
              "outlinewidth": 0,
              "ticks": ""
             }
            },
            "type": "parcoords"
           }
          ],
          "pie": [
           {
            "automargin": true,
            "type": "pie"
           }
          ],
          "scatter": [
           {
            "fillpattern": {
             "fillmode": "overlay",
             "size": 10,
             "solidity": 0.2
            },
            "type": "scatter"
           }
          ],
          "scatter3d": [
           {
            "line": {
             "colorbar": {
              "outlinewidth": 0,
              "ticks": ""
             }
            },
            "marker": {
             "colorbar": {
              "outlinewidth": 0,
              "ticks": ""
             }
            },
            "type": "scatter3d"
           }
          ],
          "scattercarpet": [
           {
            "marker": {
             "colorbar": {
              "outlinewidth": 0,
              "ticks": ""
             }
            },
            "type": "scattercarpet"
           }
          ],
          "scattergeo": [
           {
            "marker": {
             "colorbar": {
              "outlinewidth": 0,
              "ticks": ""
             }
            },
            "type": "scattergeo"
           }
          ],
          "scattergl": [
           {
            "marker": {
             "colorbar": {
              "outlinewidth": 0,
              "ticks": ""
             }
            },
            "type": "scattergl"
           }
          ],
          "scattermap": [
           {
            "marker": {
             "colorbar": {
              "outlinewidth": 0,
              "ticks": ""
             }
            },
            "type": "scattermap"
           }
          ],
          "scattermapbox": [
           {
            "marker": {
             "colorbar": {
              "outlinewidth": 0,
              "ticks": ""
             }
            },
            "type": "scattermapbox"
           }
          ],
          "scatterpolar": [
           {
            "marker": {
             "colorbar": {
              "outlinewidth": 0,
              "ticks": ""
             }
            },
            "type": "scatterpolar"
           }
          ],
          "scatterpolargl": [
           {
            "marker": {
             "colorbar": {
              "outlinewidth": 0,
              "ticks": ""
             }
            },
            "type": "scatterpolargl"
           }
          ],
          "scatterternary": [
           {
            "marker": {
             "colorbar": {
              "outlinewidth": 0,
              "ticks": ""
             }
            },
            "type": "scatterternary"
           }
          ],
          "surface": [
           {
            "colorbar": {
             "outlinewidth": 0,
             "ticks": ""
            },
            "colorscale": [
             [
              0,
              "#0d0887"
             ],
             [
              0.1111111111111111,
              "#46039f"
             ],
             [
              0.2222222222222222,
              "#7201a8"
             ],
             [
              0.3333333333333333,
              "#9c179e"
             ],
             [
              0.4444444444444444,
              "#bd3786"
             ],
             [
              0.5555555555555556,
              "#d8576b"
             ],
             [
              0.6666666666666666,
              "#ed7953"
             ],
             [
              0.7777777777777778,
              "#fb9f3a"
             ],
             [
              0.8888888888888888,
              "#fdca26"
             ],
             [
              1,
              "#f0f921"
             ]
            ],
            "type": "surface"
           }
          ],
          "table": [
           {
            "cells": {
             "fill": {
              "color": "#EBF0F8"
             },
             "line": {
              "color": "white"
             }
            },
            "header": {
             "fill": {
              "color": "#C8D4E3"
             },
             "line": {
              "color": "white"
             }
            },
            "type": "table"
           }
          ]
         },
         "layout": {
          "annotationdefaults": {
           "arrowcolor": "#2a3f5f",
           "arrowhead": 0,
           "arrowwidth": 1
          },
          "autotypenumbers": "strict",
          "coloraxis": {
           "colorbar": {
            "outlinewidth": 0,
            "ticks": ""
           }
          },
          "colorscale": {
           "diverging": [
            [
             0,
             "#8e0152"
            ],
            [
             0.1,
             "#c51b7d"
            ],
            [
             0.2,
             "#de77ae"
            ],
            [
             0.3,
             "#f1b6da"
            ],
            [
             0.4,
             "#fde0ef"
            ],
            [
             0.5,
             "#f7f7f7"
            ],
            [
             0.6,
             "#e6f5d0"
            ],
            [
             0.7,
             "#b8e186"
            ],
            [
             0.8,
             "#7fbc41"
            ],
            [
             0.9,
             "#4d9221"
            ],
            [
             1,
             "#276419"
            ]
           ],
           "sequential": [
            [
             0,
             "#0d0887"
            ],
            [
             0.1111111111111111,
             "#46039f"
            ],
            [
             0.2222222222222222,
             "#7201a8"
            ],
            [
             0.3333333333333333,
             "#9c179e"
            ],
            [
             0.4444444444444444,
             "#bd3786"
            ],
            [
             0.5555555555555556,
             "#d8576b"
            ],
            [
             0.6666666666666666,
             "#ed7953"
            ],
            [
             0.7777777777777778,
             "#fb9f3a"
            ],
            [
             0.8888888888888888,
             "#fdca26"
            ],
            [
             1,
             "#f0f921"
            ]
           ],
           "sequentialminus": [
            [
             0,
             "#0d0887"
            ],
            [
             0.1111111111111111,
             "#46039f"
            ],
            [
             0.2222222222222222,
             "#7201a8"
            ],
            [
             0.3333333333333333,
             "#9c179e"
            ],
            [
             0.4444444444444444,
             "#bd3786"
            ],
            [
             0.5555555555555556,
             "#d8576b"
            ],
            [
             0.6666666666666666,
             "#ed7953"
            ],
            [
             0.7777777777777778,
             "#fb9f3a"
            ],
            [
             0.8888888888888888,
             "#fdca26"
            ],
            [
             1,
             "#f0f921"
            ]
           ]
          },
          "colorway": [
           "#636efa",
           "#EF553B",
           "#00cc96",
           "#ab63fa",
           "#FFA15A",
           "#19d3f3",
           "#FF6692",
           "#B6E880",
           "#FF97FF",
           "#FECB52"
          ],
          "font": {
           "color": "#2a3f5f"
          },
          "geo": {
           "bgcolor": "white",
           "lakecolor": "white",
           "landcolor": "white",
           "showlakes": true,
           "showland": true,
           "subunitcolor": "#C8D4E3"
          },
          "hoverlabel": {
           "align": "left"
          },
          "hovermode": "closest",
          "mapbox": {
           "style": "light"
          },
          "paper_bgcolor": "white",
          "plot_bgcolor": "white",
          "polar": {
           "angularaxis": {
            "gridcolor": "#EBF0F8",
            "linecolor": "#EBF0F8",
            "ticks": ""
           },
           "bgcolor": "white",
           "radialaxis": {
            "gridcolor": "#EBF0F8",
            "linecolor": "#EBF0F8",
            "ticks": ""
           }
          },
          "scene": {
           "xaxis": {
            "backgroundcolor": "white",
            "gridcolor": "#DFE8F3",
            "gridwidth": 2,
            "linecolor": "#EBF0F8",
            "showbackground": true,
            "ticks": "",
            "zerolinecolor": "#EBF0F8"
           },
           "yaxis": {
            "backgroundcolor": "white",
            "gridcolor": "#DFE8F3",
            "gridwidth": 2,
            "linecolor": "#EBF0F8",
            "showbackground": true,
            "ticks": "",
            "zerolinecolor": "#EBF0F8"
           },
           "zaxis": {
            "backgroundcolor": "white",
            "gridcolor": "#DFE8F3",
            "gridwidth": 2,
            "linecolor": "#EBF0F8",
            "showbackground": true,
            "ticks": "",
            "zerolinecolor": "#EBF0F8"
           }
          },
          "shapedefaults": {
           "line": {
            "color": "#2a3f5f"
           }
          },
          "ternary": {
           "aaxis": {
            "gridcolor": "#DFE8F3",
            "linecolor": "#A2B1C6",
            "ticks": ""
           },
           "baxis": {
            "gridcolor": "#DFE8F3",
            "linecolor": "#A2B1C6",
            "ticks": ""
           },
           "bgcolor": "white",
           "caxis": {
            "gridcolor": "#DFE8F3",
            "linecolor": "#A2B1C6",
            "ticks": ""
           }
          },
          "title": {
           "x": 0.05
          },
          "xaxis": {
           "automargin": true,
           "gridcolor": "#EBF0F8",
           "linecolor": "#EBF0F8",
           "ticks": "",
           "title": {
            "standoff": 15
           },
           "zerolinecolor": "#EBF0F8",
           "zerolinewidth": 2
          },
          "yaxis": {
           "automargin": true,
           "gridcolor": "#EBF0F8",
           "linecolor": "#EBF0F8",
           "ticks": "",
           "title": {
            "standoff": 15
           },
           "zerolinecolor": "#EBF0F8",
           "zerolinewidth": 2
          }
         }
        },
        "title": {
         "font": {
          "color": "Black",
          "size": 22
         },
         "text": "Topic Word Scores",
         "x": 0.5,
         "xanchor": "center",
         "yanchor": "top"
        },
        "width": 1000,
        "xaxis": {
         "anchor": "y",
         "domain": [
          0,
          0.175
         ],
         "showgrid": true
        },
        "xaxis10": {
         "anchor": "y10",
         "domain": [
          0.275,
          0.45
         ],
         "showgrid": true
        },
        "xaxis11": {
         "anchor": "y11",
         "domain": [
          0.55,
          0.7250000000000001
         ],
         "showgrid": true
        },
        "xaxis12": {
         "anchor": "y12",
         "domain": [
          0.825,
          1
         ],
         "showgrid": true
        },
        "xaxis13": {
         "anchor": "y13",
         "domain": [
          0,
          0.175
         ],
         "showgrid": true
        },
        "xaxis14": {
         "anchor": "y14",
         "domain": [
          0.275,
          0.45
         ],
         "showgrid": true
        },
        "xaxis15": {
         "anchor": "y15",
         "domain": [
          0.55,
          0.7250000000000001
         ],
         "showgrid": true
        },
        "xaxis16": {
         "anchor": "y16",
         "domain": [
          0.825,
          1
         ],
         "showgrid": true
        },
        "xaxis2": {
         "anchor": "y2",
         "domain": [
          0.275,
          0.45
         ],
         "showgrid": true
        },
        "xaxis3": {
         "anchor": "y3",
         "domain": [
          0.55,
          0.7250000000000001
         ],
         "showgrid": true
        },
        "xaxis4": {
         "anchor": "y4",
         "domain": [
          0.825,
          1
         ],
         "showgrid": true
        },
        "xaxis5": {
         "anchor": "y5",
         "domain": [
          0,
          0.175
         ],
         "showgrid": true
        },
        "xaxis6": {
         "anchor": "y6",
         "domain": [
          0.275,
          0.45
         ],
         "showgrid": true
        },
        "xaxis7": {
         "anchor": "y7",
         "domain": [
          0.55,
          0.7250000000000001
         ],
         "showgrid": true
        },
        "xaxis8": {
         "anchor": "y8",
         "domain": [
          0.825,
          1
         ],
         "showgrid": true
        },
        "xaxis9": {
         "anchor": "y9",
         "domain": [
          0,
          0.175
         ],
         "showgrid": true
        },
        "yaxis": {
         "anchor": "x",
         "domain": [
          0.825,
          1
         ],
         "showgrid": true
        },
        "yaxis10": {
         "anchor": "x10",
         "domain": [
          0.275,
          0.45
         ],
         "showgrid": true
        },
        "yaxis11": {
         "anchor": "x11",
         "domain": [
          0.275,
          0.45
         ],
         "showgrid": true
        },
        "yaxis12": {
         "anchor": "x12",
         "domain": [
          0.275,
          0.45
         ],
         "showgrid": true
        },
        "yaxis13": {
         "anchor": "x13",
         "domain": [
          0,
          0.175
         ],
         "showgrid": true
        },
        "yaxis14": {
         "anchor": "x14",
         "domain": [
          0,
          0.175
         ],
         "showgrid": true
        },
        "yaxis15": {
         "anchor": "x15",
         "domain": [
          0,
          0.175
         ],
         "showgrid": true
        },
        "yaxis16": {
         "anchor": "x16",
         "domain": [
          0,
          0.175
         ],
         "showgrid": true
        },
        "yaxis2": {
         "anchor": "x2",
         "domain": [
          0.825,
          1
         ],
         "showgrid": true
        },
        "yaxis3": {
         "anchor": "x3",
         "domain": [
          0.825,
          1
         ],
         "showgrid": true
        },
        "yaxis4": {
         "anchor": "x4",
         "domain": [
          0.825,
          1
         ],
         "showgrid": true
        },
        "yaxis5": {
         "anchor": "x5",
         "domain": [
          0.55,
          0.7250000000000001
         ],
         "showgrid": true
        },
        "yaxis6": {
         "anchor": "x6",
         "domain": [
          0.55,
          0.7250000000000001
         ],
         "showgrid": true
        },
        "yaxis7": {
         "anchor": "x7",
         "domain": [
          0.55,
          0.7250000000000001
         ],
         "showgrid": true
        },
        "yaxis8": {
         "anchor": "x8",
         "domain": [
          0.55,
          0.7250000000000001
         ],
         "showgrid": true
        },
        "yaxis9": {
         "anchor": "x9",
         "domain": [
          0.275,
          0.45
         ],
         "showgrid": true
        }
       }
      }
     },
     "metadata": {},
     "output_type": "display_data"
    }
   ],
   "source": [
    "topic_model.visualize_barchart(top_n_topics=30, n_words=20)\n"
   ]
  },
  {
   "cell_type": "code",
   "execution_count": 22,
   "metadata": {},
   "outputs": [
    {
     "data": {
      "text/html": [
       "<div>\n",
       "<style scoped>\n",
       "    .dataframe tbody tr th:only-of-type {\n",
       "        vertical-align: middle;\n",
       "    }\n",
       "\n",
       "    .dataframe tbody tr th {\n",
       "        vertical-align: top;\n",
       "    }\n",
       "\n",
       "    .dataframe thead th {\n",
       "        text-align: right;\n",
       "    }\n",
       "</style>\n",
       "<table border=\"1\" class=\"dataframe\">\n",
       "  <thead>\n",
       "    <tr style=\"text-align: right;\">\n",
       "      <th></th>\n",
       "      <th>Topic</th>\n",
       "      <th>Count</th>\n",
       "      <th>Name</th>\n",
       "      <th>Representation</th>\n",
       "      <th>Representative_Docs</th>\n",
       "    </tr>\n",
       "  </thead>\n",
       "  <tbody>\n",
       "    <tr>\n",
       "      <th>0</th>\n",
       "      <td>-1</td>\n",
       "      <td>1343</td>\n",
       "      <td>-1_одной_романа_какое_году</td>\n",
       "      <td>[одной, романа, какое, году, которые, одного, ...</td>\n",
       "      <td>[query: По сюжету “Женитьбы Фигаро” пажа графа...</td>\n",
       "    </tr>\n",
       "    <tr>\n",
       "      <th>1</th>\n",
       "      <td>0</td>\n",
       "      <td>204</td>\n",
       "      <td>0_персонаж_герой_персонажа_картине</td>\n",
       "      <td>[персонаж, герой, персонажа, картине, одного, ...</td>\n",
       "      <td>[query: Герой Веры Богдановой, работавший круп...</td>\n",
       "    </tr>\n",
       "    <tr>\n",
       "      <th>2</th>\n",
       "      <td>1</td>\n",
       "      <td>168</td>\n",
       "      <td>1_напишите_исходном_виде_заполните</td>\n",
       "      <td>[напишите, исходном, виде, заполните, предложе...</td>\n",
       "      <td>[query: Один из переводчиков Гомера на латынь ...</td>\n",
       "    </tr>\n",
       "    <tr>\n",
       "      <th>3</th>\n",
       "      <td>2</td>\n",
       "      <td>129</td>\n",
       "      <td>2_войны_король_года_году</td>\n",
       "      <td>[войны, король, года, году, военные, франко, м...</td>\n",
       "      <td>[query: Революция на Кубе вызвала восторг сред...</td>\n",
       "    </tr>\n",
       "    <tr>\n",
       "      <th>4</th>\n",
       "      <td>3</td>\n",
       "      <td>116</td>\n",
       "      <td>3_учёные_развитие_обнаружили_птицы</td>\n",
       "      <td>[учёные, развитие, обнаружили, птицы, способны...</td>\n",
       "      <td>[query: Около 400 миллионов лет назад некоторы...</td>\n",
       "    </tr>\n",
       "    <tr>\n",
       "      <th>5</th>\n",
       "      <td>4</td>\n",
       "      <td>98</td>\n",
       "      <td>4_футбольный_футболистов_команды_спорта</td>\n",
       "      <td>[футбольный, футболистов, команды, спорта, игр...</td>\n",
       "      <td>[query: автора , который услышал от своего зна...</td>\n",
       "    </tr>\n",
       "    <tr>\n",
       "      <th>6</th>\n",
       "      <td>5</td>\n",
       "      <td>98</td>\n",
       "      <td>5_богам_роллс_символ_древние</td>\n",
       "      <td>[богам, роллс, символ, древние, значением, озн...</td>\n",
       "      <td>[query: Есть версия, реформа 15 века связана г...</td>\n",
       "    </tr>\n",
       "    <tr>\n",
       "      <th>7</th>\n",
       "      <td>6</td>\n",
       "      <td>92</td>\n",
       "      <td>6_чай_еды_приготовления_блюда</td>\n",
       "      <td>[чай, еды, приготовления, блюда, пекарне, меню...</td>\n",
       "      <td>[query: Праздник середины осени Китае отмечают...</td>\n",
       "    </tr>\n",
       "    <tr>\n",
       "      <th>8</th>\n",
       "      <td>7</td>\n",
       "      <td>83</td>\n",
       "      <td>7_роман_текст_поэта_сергея</td>\n",
       "      <td>[роман, текст, поэта, сергея, поэт, писатель, ...</td>\n",
       "      <td>[query: Учёный Николай Николаевич Гуртовой соб...</td>\n",
       "    </tr>\n",
       "    <tr>\n",
       "      <th>9</th>\n",
       "      <td>8</td>\n",
       "      <td>77</td>\n",
       "      <td>8_группы_песен_песни_музыки</td>\n",
       "      <td>[группы, песен, песни, музыки, музыке, рэпер, ...</td>\n",
       "      <td>[query: молодости рэпер Бобби Шмёрда жил небла...</td>\n",
       "    </tr>\n",
       "    <tr>\n",
       "      <th>10</th>\n",
       "      <td>9</td>\n",
       "      <td>76</td>\n",
       "      <td>9_фильм_фильма_съемок_би</td>\n",
       "      <td>[фильм, фильма, съемок, би, фильмов, канал, вы...</td>\n",
       "      <td>[query: Фильм «Кольберг» рассказывает об упорн...</td>\n",
       "    </tr>\n",
       "    <tr>\n",
       "      <th>11</th>\n",
       "      <td>10</td>\n",
       "      <td>34</td>\n",
       "      <td>10_отель_парижской_построен_любопытно</td>\n",
       "      <td>[отель, парижской, построен, любопытно, блокад...</td>\n",
       "      <td>[query: 1900 году на Парижской выставке был пр...</td>\n",
       "    </tr>\n",
       "    <tr>\n",
       "      <th>12</th>\n",
       "      <td>11</td>\n",
       "      <td>32</td>\n",
       "      <td>11_модель_знаки_сингапуре_фирма</td>\n",
       "      <td>[модель, знаки, сингапуре, фирма, авиакомпании...</td>\n",
       "      <td>[query: «Эль Пакет» — еженедельно обновляемая ...</td>\n",
       "    </tr>\n",
       "    <tr>\n",
       "      <th>13</th>\n",
       "      <td>12</td>\n",
       "      <td>30</td>\n",
       "      <td>12_кебир_родственников_харькове_ме</td>\n",
       "      <td>[кебир, родственников, харькове, ме, тель, ура...</td>\n",
       "      <td>[query: Египетский Тель-Эль-Кебир стал одним и...</td>\n",
       "    </tr>\n",
       "    <tr>\n",
       "      <th>14</th>\n",
       "      <td>13</td>\n",
       "      <td>20</td>\n",
       "      <td>13_полидори_пациентам_желёз_кожей</td>\n",
       "      <td>[полидори, пациентам, желёз, кожей, болезни, ц...</td>\n",
       "      <td>[query: АргирОз — отравление серебром, при кот...</td>\n",
       "    </tr>\n",
       "  </tbody>\n",
       "</table>\n",
       "</div>"
      ],
      "text/plain": [
       "    Topic  Count                                     Name  \\\n",
       "0      -1   1343               -1_одной_романа_какое_году   \n",
       "1       0    204       0_персонаж_герой_персонажа_картине   \n",
       "2       1    168       1_напишите_исходном_виде_заполните   \n",
       "3       2    129                 2_войны_король_года_году   \n",
       "4       3    116       3_учёные_развитие_обнаружили_птицы   \n",
       "5       4     98  4_футбольный_футболистов_команды_спорта   \n",
       "6       5     98             5_богам_роллс_символ_древние   \n",
       "7       6     92            6_чай_еды_приготовления_блюда   \n",
       "8       7     83               7_роман_текст_поэта_сергея   \n",
       "9       8     77              8_группы_песен_песни_музыки   \n",
       "10      9     76                 9_фильм_фильма_съемок_би   \n",
       "11     10     34    10_отель_парижской_построен_любопытно   \n",
       "12     11     32          11_модель_знаки_сингапуре_фирма   \n",
       "13     12     30       12_кебир_родственников_харькове_ме   \n",
       "14     13     20        13_полидори_пациентам_желёз_кожей   \n",
       "\n",
       "                                       Representation  \\\n",
       "0   [одной, романа, какое, году, которые, одного, ...   \n",
       "1   [персонаж, герой, персонажа, картине, одного, ...   \n",
       "2   [напишите, исходном, виде, заполните, предложе...   \n",
       "3   [войны, король, года, году, военные, франко, м...   \n",
       "4   [учёные, развитие, обнаружили, птицы, способны...   \n",
       "5   [футбольный, футболистов, команды, спорта, игр...   \n",
       "6   [богам, роллс, символ, древние, значением, озн...   \n",
       "7   [чай, еды, приготовления, блюда, пекарне, меню...   \n",
       "8   [роман, текст, поэта, сергея, поэт, писатель, ...   \n",
       "9   [группы, песен, песни, музыки, музыке, рэпер, ...   \n",
       "10  [фильм, фильма, съемок, би, фильмов, канал, вы...   \n",
       "11  [отель, парижской, построен, любопытно, блокад...   \n",
       "12  [модель, знаки, сингапуре, фирма, авиакомпании...   \n",
       "13  [кебир, родственников, харькове, ме, тель, ура...   \n",
       "14  [полидори, пациентам, желёз, кожей, болезни, ц...   \n",
       "\n",
       "                                  Representative_Docs  \n",
       "0   [query: По сюжету “Женитьбы Фигаро” пажа графа...  \n",
       "1   [query: Герой Веры Богдановой, работавший круп...  \n",
       "2   [query: Один из переводчиков Гомера на латынь ...  \n",
       "3   [query: Революция на Кубе вызвала восторг сред...  \n",
       "4   [query: Около 400 миллионов лет назад некоторы...  \n",
       "5   [query: автора , который услышал от своего зна...  \n",
       "6   [query: Есть версия, реформа 15 века связана г...  \n",
       "7   [query: Праздник середины осени Китае отмечают...  \n",
       "8   [query: Учёный Николай Николаевич Гуртовой соб...  \n",
       "9   [query: молодости рэпер Бобби Шмёрда жил небла...  \n",
       "10  [query: Фильм «Кольберг» рассказывает об упорн...  \n",
       "11  [query: 1900 году на Парижской выставке был пр...  \n",
       "12  [query: «Эль Пакет» — еженедельно обновляемая ...  \n",
       "13  [query: Египетский Тель-Эль-Кебир стал одним и...  \n",
       "14  [query: АргирОз — отравление серебром, при кот...  "
      ]
     },
     "execution_count": 22,
     "metadata": {},
     "output_type": "execute_result"
    }
   ],
   "source": [
    "topic_model.get_topic_info()"
   ]
  },
  {
   "cell_type": "code",
   "execution_count": 23,
   "metadata": {},
   "outputs": [],
   "source": [
    "vectorizer = CountVectorizer(stop_words=lemm_stopwords)\n",
    "X_counts = vectorizer.fit_transform(docs_tfidf) \n",
    "\n",
    "transformer = ClassTfidfTransformer(reduce_frequent_words=True)\n",
    "transformer.fit(X_counts)\n",
    "X_ctfidf = transformer.transform(X_counts)\n",
    "\n",
    "topic_model.c_tf_idf = X_ctfidf\n",
    "topic_model.update_topics(docs_tfidf, vectorizer_model=vectorizer, top_n_words=15)"
   ]
  },
  {
   "cell_type": "code",
   "execution_count": 24,
   "metadata": {},
   "outputs": [
    {
     "data": {
      "application/vnd.plotly.v1+json": {
       "config": {
        "plotlyServerURL": "https://plot.ly"
       },
       "data": [
        {
         "marker": {
          "color": "#D55E00"
         },
         "orientation": "h",
         "type": "bar",
         "x": [
          0.011868740011950684,
          0.011882851026203732,
          0.01230649177117281,
          0.012582819604756537,
          0.01292208534109288,
          0.013202208471123167,
          0.016424928469335277,
          0.016921426185362617,
          0.01940187566556305,
          0.020682320673984213,
          0.021663727204423854,
          0.027369919889239563,
          0.03413770738205159,
          0.04169315684017842,
          0.05510472664620014
         ],
         "xaxis": "x",
         "y": [
          "шутить  ",
          "девочка  ",
          "сцена  ",
          "атрибут  ",
          "фильм  ",
          "героиня  ",
          "роман  ",
          "мультфильм  ",
          "рука  ",
          "художник  ",
          "сериал  ",
          "произведение  ",
          "картина  ",
          "герой  ",
          "персонаж  "
         ],
         "yaxis": "y"
        },
        {
         "marker": {
          "color": "#0072B2"
         },
         "orientation": "h",
         "type": "bar",
         "x": [
          0.011977892059919844,
          0.01269261058431401,
          0.01288315298341519,
          0.01295935094898978,
          0.013224950231110578,
          0.01335005138416756,
          0.013427495246468569,
          0.013781261514600438,
          0.014134219289502075,
          0.01435474339566048,
          0.015630525517989977,
          0.016617273602752114,
          0.018535679442147252,
          0.01973777216903316,
          0.02029971841278301
         ],
         "xaxis": "x2",
         "y": [
          "фильм  ",
          "целиком  ",
          "получить  ",
          "студия  ",
          "шутка  ",
          "героиня  ",
          "прозвище  ",
          "произведение  ",
          "русский  ",
          "компания  ",
          "персонаж  ",
          "вариант  ",
          "фраза  ",
          "язык  ",
          "роман  "
         ],
         "yaxis": "y2"
        },
        {
         "marker": {
          "color": "#CC79A7"
         },
         "orientation": "h",
         "type": "bar",
         "x": [
          0.011715461285899472,
          0.011715461285899472,
          0.011757313980679526,
          0.012186017808770586,
          0.012608323753577675,
          0.0132416239161822,
          0.013242590197655862,
          0.014347551961363203,
          0.014784955386001664,
          0.015436010660857282,
          0.01698534579689778,
          0.017064675532420134,
          0.0203876516417872,
          0.02383492304912796,
          0.03175680892902851
         ],
         "xaxis": "x3",
         "y": [
          "император  ",
          "француз  ",
          "дело  ",
          "получить  ",
          "немец  ",
          "штат  ",
          "менеджер  ",
          "местный  ",
          "историк  ",
          "гитлер  ",
          "мировой  ",
          "испанский  ",
          "корабль  ",
          "король  ",
          "война  "
         ],
         "yaxis": "y3"
        },
        {
         "marker": {
          "color": "#E69F00"
         },
         "orientation": "h",
         "type": "bar",
         "x": [
          0.01562938126426804,
          0.01562938126426804,
          0.016579162530915407,
          0.016871321559708788,
          0.017194423205351493,
          0.017555770990010787,
          0.018518351872224077,
          0.018755257517121645,
          0.01899896913631242,
          0.01899896913631242,
          0.024703803226548963,
          0.025007010022828863,
          0.025548903662248875,
          0.027027337674350515,
          0.030959193935585425
         ],
         "xaxis": "x4",
         "y": [
          "проводить  ",
          "способный  ",
          "развитие  ",
          "акула  ",
          "хищник  ",
          "клетка  ",
          "размер  ",
          "мозг  ",
          "эволюция  ",
          "динозавр  ",
          "птица  ",
          "рыба  ",
          "обнаружить  ",
          "животное  ",
          "учёный  "
         ],
         "yaxis": "y4"
        },
        {
         "marker": {
          "color": "#56B4E9"
         },
         "orientation": "h",
         "type": "bar",
         "x": [
          0.018821945315465875,
          0.021073052135432313,
          0.021713107584357048,
          0.023580923253053474,
          0.023580923253053474,
          0.025287662562518777,
          0.025287662562518777,
          0.026100085549497717,
          0.02982866919942596,
          0.03470671863711521,
          0.03470671863711521,
          0.03537138487958021,
          0.0445646520282394,
          0.045854966540745334,
          0.04866457840428357
         ],
         "xaxis": "x5",
         "y": [
          "играть  ",
          "стадион  ",
          "болельщик  ",
          "спортсмен  ",
          "спорт  ",
          "забег  ",
          "тренер  ",
          "клуб  ",
          "игрок  ",
          "чемпионат  ",
          "футболист  ",
          "матч  ",
          "игра  ",
          "футбольный  ",
          "команда  "
         ],
         "yaxis": "y5"
        },
        {
         "marker": {
          "color": "#009E73"
         },
         "orientation": "h",
         "type": "bar",
         "x": [
          0.0162210374544185,
          0.016650484378720617,
          0.01688896841022562,
          0.017625899296621686,
          0.018095029314904025,
          0.018591607557479795,
          0.018998137431741037,
          0.018998137431741037,
          0.019489621236598986,
          0.01997043746108179,
          0.02070868155095571,
          0.023066805896260128,
          0.025550514134670757,
          0.029577671461209265,
          0.030265142692555414
         ],
         "xaxis": "x6",
         "y": [
          "верить  ",
          "символизировать  ",
          "выполнять  ",
          "корень  ",
          "происхождение  ",
          "часто  ",
          "значение  ",
          "средневековый  ",
          "согласно  ",
          "церковный  ",
          "семья  ",
          "грех  ",
          "язык  ",
          "бог  ",
          "древний  "
         ],
         "yaxis": "y6"
        },
        {
         "marker": {
          "color": "#F0E442"
         },
         "orientation": "h",
         "type": "bar",
         "x": [
          0.018912485630366516,
          0.019863885296483794,
          0.019974437685270602,
          0.02120593948242332,
          0.02120593948242332,
          0.021917311282665303,
          0.021966489911061513,
          0.02328852177792253,
          0.023640607037958145,
          0.024192489058000425,
          0.024829856620604742,
          0.025584018140440604,
          0.027784819189543106,
          0.03953968183991072,
          0.0397248717485466
         ],
         "xaxis": "x7",
         "y": [
          "свойство  ",
          "ужин  ",
          "согласно  ",
          "коктейль  ",
          "пекарня  ",
          "день  ",
          "продавать  ",
          "входить  ",
          "готовить  ",
          "ресторан  ",
          "чай  ",
          "приготовление  ",
          "напиток  ",
          "блюдо  ",
          "еда  "
         ],
         "yaxis": "y7"
        },
        {
         "marker": {
          "color": "#D55E00"
         },
         "orientation": "h",
         "type": "bar",
         "x": [
          0.018574294010685492,
          0.01887786850145951,
          0.018956121456402304,
          0.02159884415814601,
          0.022413990373183635,
          0.022868936190883947,
          0.023597335626824385,
          0.024242722493422245,
          0.02498735502872701,
          0.026244353272961717,
          0.02831680275218926,
          0.031137589749570274,
          0.033819046661596165,
          0.04029223914771221,
          0.04348951261868013
         ],
         "xaxis": "x8",
         "y": [
          "лев  ",
          "издание  ",
          "текст  ",
          "герой  ",
          "рукопись  ",
          "сергей  ",
          "творчество  ",
          "перевод  ",
          "пушкин  ",
          "читатель  ",
          "поэт  ",
          "писатель  ",
          "произведение  ",
          "книга  ",
          "роман  "
         ],
         "yaxis": "y8"
        },
        {
         "marker": {
          "color": "#0072B2"
         },
         "orientation": "h",
         "type": "bar",
         "x": [
          0.01986481305204769,
          0.02080295315789555,
          0.020928429470260183,
          0.021351021094081508,
          0.021576191883318323,
          0.02749939917769284,
          0.031204429736843325,
          0.033595707602753364,
          0.03557468887957979,
          0.036405168026317214,
          0.038395094403146694,
          0.03883714538997299,
          0.04976877820065109,
          0.06904381402661863,
          0.09306860933001163
         ],
         "xaxis": "x9",
         "y": [
          "играть  ",
          "запись  ",
          "инструмент  ",
          "бетховен  ",
          "дэвид  ",
          "рэпер  ",
          "альбом  ",
          "концерт  ",
          "петь  ",
          "композитор  ",
          "музыкант  ",
          "музыкальный  ",
          "группа  ",
          "музыка  ",
          "песня  "
         ],
         "yaxis": "y9"
        },
        {
         "marker": {
          "color": "#CC79A7"
         },
         "orientation": "h",
         "type": "bar",
         "x": [
          0.01840765092308243,
          0.019009949475944896,
          0.01923470636887778,
          0.01923470636887778,
          0.019472058148038512,
          0.021449600496374007,
          0.021562464971604335,
          0.021743030496485627,
          0.02299025495927011,
          0.030149033534908994,
          0.03064388742901791,
          0.03074622412646638,
          0.04134289435732302,
          0.04551290369377589,
          0.12644607740798297
         ],
         "xaxis": "x10",
         "y": [
          "деталь  ",
          "планета  ",
          "канал  ",
          "титр  ",
          "должный  ",
          "игра  ",
          "роль  ",
          "новый  ",
          "режиссёр  ",
          "сериал  ",
          "персонаж  ",
          "герой  ",
          "съёмка  ",
          "актёр  ",
          "фильм  "
         ],
         "yaxis": "y10"
        },
        {
         "marker": {
          "color": "#E69F00"
         },
         "orientation": "h",
         "type": "bar",
         "x": [
          0.03067489811413684,
          0.03067489811413684,
          0.03067489811413684,
          0.0344046582243379,
          0.035583150925931256,
          0.035583150925931256,
          0.03789109325188118,
          0.03789109325188118,
          0.040070553087495284,
          0.040070553087495284,
          0.0433821732388975,
          0.0433821732388975,
          0.04454545171449931,
          0.06431288101926813,
          0.09174575526490106
         ],
         "xaxis": "x11",
         "y": [
          "авеню  ",
          "любопытно  ",
          "бабельсберг  ",
          "метр  ",
          "памятник  ",
          "турист  ",
          "башня  ",
          "квартира  ",
          "парижский  ",
          "ленинград  ",
          "архитектура  ",
          "берлинский  ",
          "здание  ",
          "построить  ",
          "отель  "
         ],
         "yaxis": "y11"
        },
        {
         "marker": {
          "color": "#56B4E9"
         },
         "orientation": "h",
         "type": "bar",
         "x": [
          0.03348799337739456,
          0.03348799337739456,
          0.035518303079526865,
          0.035518303079526865,
          0.035518303079526865,
          0.035518303079526865,
          0.035518303079526865,
          0.035518303079526865,
          0.049468100674268566,
          0.05023199006609184,
          0.05493539090319211,
          0.06186331002981727,
          0.06539713331779093,
          0.07131495586302929,
          0.0915559866449073
         ],
         "xaxis": "x12",
         "y": [
          "мексика  ",
          "штраф  ",
          "метрополитен  ",
          "рейс  ",
          "стартап  ",
          "такси  ",
          "итабаси  ",
          "авиакомпания  ",
          "компания  ",
          "транспорт  ",
          "технология  ",
          "водитель  ",
          "знак  ",
          "модель  ",
          "автомобиль  "
         ],
         "yaxis": "y12"
        },
        {
         "marker": {
          "color": "#009E73"
         },
         "orientation": "h",
         "type": "bar",
         "x": [
          0.026930094489236056,
          0.026952555938982457,
          0.027645851175611108,
          0.028502841457155998,
          0.028502841457155998,
          0.030858451172241178,
          0.030858451172241178,
          0.030858451172241178,
          0.03272933701785501,
          0.03272933701785501,
          0.03272933701785501,
          0.03272933701785501,
          0.03272933701785501,
          0.039506566403386865,
          0.04628767675836177
         ],
         "xaxis": "x13",
         "y": [
          "русский  ",
          "повлиять  ",
          "вспоминать  ",
          "покинуть  ",
          "ле  ",
          "урал  ",
          "венгера  ",
          "арсенал  ",
          "уэллс  ",
          "наряд  ",
          "губерман  ",
          "ме  ",
          "крикун  ",
          "родный  ",
          "харьков  "
         ],
         "yaxis": "y13"
        },
        {
         "marker": {
          "color": "#F0E442"
         },
         "orientation": "h",
         "type": "bar",
         "x": [
          0.03905557820243496,
          0.03905557820243496,
          0.03996731753965549,
          0.04102028367732783,
          0.041691543678608486,
          0.04226619983201557,
          0.04575927862185079,
          0.04575927862185079,
          0.04853357167373706,
          0.04853357167373706,
          0.04853357167373706,
          0.04853357167373706,
          0.04853357167373706,
          0.055324438253849216,
          0.07506582524100566
         ],
         "xaxis": "x14",
         "y": [
          "контроль  ",
          "кожа  ",
          "заболевание  ",
          "медицинский  ",
          "работать  ",
          "хирург  ",
          "больница  ",
          "железа  ",
          "перистальтика  ",
          "бабка  ",
          "мальчевский  ",
          "полидорь  ",
          "повивальный  ",
          "пациент  ",
          "болезнь  "
         ],
         "yaxis": "y14"
        }
       ],
       "layout": {
        "annotations": [
         {
          "font": {
           "size": 16
          },
          "showarrow": false,
          "text": "Topic 0",
          "x": 0.0875,
          "xanchor": "center",
          "xref": "paper",
          "y": 1,
          "yanchor": "bottom",
          "yref": "paper"
         },
         {
          "font": {
           "size": 16
          },
          "showarrow": false,
          "text": "Topic 1",
          "x": 0.36250000000000004,
          "xanchor": "center",
          "xref": "paper",
          "y": 1,
          "yanchor": "bottom",
          "yref": "paper"
         },
         {
          "font": {
           "size": 16
          },
          "showarrow": false,
          "text": "Topic 2",
          "x": 0.6375000000000001,
          "xanchor": "center",
          "xref": "paper",
          "y": 1,
          "yanchor": "bottom",
          "yref": "paper"
         },
         {
          "font": {
           "size": 16
          },
          "showarrow": false,
          "text": "Topic 3",
          "x": 0.9125,
          "xanchor": "center",
          "xref": "paper",
          "y": 1,
          "yanchor": "bottom",
          "yref": "paper"
         },
         {
          "font": {
           "size": 16
          },
          "showarrow": false,
          "text": "Topic 4",
          "x": 0.0875,
          "xanchor": "center",
          "xref": "paper",
          "y": 0.7250000000000001,
          "yanchor": "bottom",
          "yref": "paper"
         },
         {
          "font": {
           "size": 16
          },
          "showarrow": false,
          "text": "Topic 5",
          "x": 0.36250000000000004,
          "xanchor": "center",
          "xref": "paper",
          "y": 0.7250000000000001,
          "yanchor": "bottom",
          "yref": "paper"
         },
         {
          "font": {
           "size": 16
          },
          "showarrow": false,
          "text": "Topic 6",
          "x": 0.6375000000000001,
          "xanchor": "center",
          "xref": "paper",
          "y": 0.7250000000000001,
          "yanchor": "bottom",
          "yref": "paper"
         },
         {
          "font": {
           "size": 16
          },
          "showarrow": false,
          "text": "Topic 7",
          "x": 0.9125,
          "xanchor": "center",
          "xref": "paper",
          "y": 0.7250000000000001,
          "yanchor": "bottom",
          "yref": "paper"
         },
         {
          "font": {
           "size": 16
          },
          "showarrow": false,
          "text": "Topic 8",
          "x": 0.0875,
          "xanchor": "center",
          "xref": "paper",
          "y": 0.45,
          "yanchor": "bottom",
          "yref": "paper"
         },
         {
          "font": {
           "size": 16
          },
          "showarrow": false,
          "text": "Topic 9",
          "x": 0.36250000000000004,
          "xanchor": "center",
          "xref": "paper",
          "y": 0.45,
          "yanchor": "bottom",
          "yref": "paper"
         },
         {
          "font": {
           "size": 16
          },
          "showarrow": false,
          "text": "Topic 10",
          "x": 0.6375000000000001,
          "xanchor": "center",
          "xref": "paper",
          "y": 0.45,
          "yanchor": "bottom",
          "yref": "paper"
         },
         {
          "font": {
           "size": 16
          },
          "showarrow": false,
          "text": "Topic 11",
          "x": 0.9125,
          "xanchor": "center",
          "xref": "paper",
          "y": 0.45,
          "yanchor": "bottom",
          "yref": "paper"
         },
         {
          "font": {
           "size": 16
          },
          "showarrow": false,
          "text": "Topic 12",
          "x": 0.0875,
          "xanchor": "center",
          "xref": "paper",
          "y": 0.175,
          "yanchor": "bottom",
          "yref": "paper"
         },
         {
          "font": {
           "size": 16
          },
          "showarrow": false,
          "text": "Topic 13",
          "x": 0.36250000000000004,
          "xanchor": "center",
          "xref": "paper",
          "y": 0.175,
          "yanchor": "bottom",
          "yref": "paper"
         }
        ],
        "height": 1000,
        "hoverlabel": {
         "bgcolor": "white",
         "font": {
          "family": "Rockwell",
          "size": 16
         }
        },
        "showlegend": false,
        "template": {
         "data": {
          "bar": [
           {
            "error_x": {
             "color": "#2a3f5f"
            },
            "error_y": {
             "color": "#2a3f5f"
            },
            "marker": {
             "line": {
              "color": "white",
              "width": 0.5
             },
             "pattern": {
              "fillmode": "overlay",
              "size": 10,
              "solidity": 0.2
             }
            },
            "type": "bar"
           }
          ],
          "barpolar": [
           {
            "marker": {
             "line": {
              "color": "white",
              "width": 0.5
             },
             "pattern": {
              "fillmode": "overlay",
              "size": 10,
              "solidity": 0.2
             }
            },
            "type": "barpolar"
           }
          ],
          "carpet": [
           {
            "aaxis": {
             "endlinecolor": "#2a3f5f",
             "gridcolor": "#C8D4E3",
             "linecolor": "#C8D4E3",
             "minorgridcolor": "#C8D4E3",
             "startlinecolor": "#2a3f5f"
            },
            "baxis": {
             "endlinecolor": "#2a3f5f",
             "gridcolor": "#C8D4E3",
             "linecolor": "#C8D4E3",
             "minorgridcolor": "#C8D4E3",
             "startlinecolor": "#2a3f5f"
            },
            "type": "carpet"
           }
          ],
          "choropleth": [
           {
            "colorbar": {
             "outlinewidth": 0,
             "ticks": ""
            },
            "type": "choropleth"
           }
          ],
          "contour": [
           {
            "colorbar": {
             "outlinewidth": 0,
             "ticks": ""
            },
            "colorscale": [
             [
              0,
              "#0d0887"
             ],
             [
              0.1111111111111111,
              "#46039f"
             ],
             [
              0.2222222222222222,
              "#7201a8"
             ],
             [
              0.3333333333333333,
              "#9c179e"
             ],
             [
              0.4444444444444444,
              "#bd3786"
             ],
             [
              0.5555555555555556,
              "#d8576b"
             ],
             [
              0.6666666666666666,
              "#ed7953"
             ],
             [
              0.7777777777777778,
              "#fb9f3a"
             ],
             [
              0.8888888888888888,
              "#fdca26"
             ],
             [
              1,
              "#f0f921"
             ]
            ],
            "type": "contour"
           }
          ],
          "contourcarpet": [
           {
            "colorbar": {
             "outlinewidth": 0,
             "ticks": ""
            },
            "type": "contourcarpet"
           }
          ],
          "heatmap": [
           {
            "colorbar": {
             "outlinewidth": 0,
             "ticks": ""
            },
            "colorscale": [
             [
              0,
              "#0d0887"
             ],
             [
              0.1111111111111111,
              "#46039f"
             ],
             [
              0.2222222222222222,
              "#7201a8"
             ],
             [
              0.3333333333333333,
              "#9c179e"
             ],
             [
              0.4444444444444444,
              "#bd3786"
             ],
             [
              0.5555555555555556,
              "#d8576b"
             ],
             [
              0.6666666666666666,
              "#ed7953"
             ],
             [
              0.7777777777777778,
              "#fb9f3a"
             ],
             [
              0.8888888888888888,
              "#fdca26"
             ],
             [
              1,
              "#f0f921"
             ]
            ],
            "type": "heatmap"
           }
          ],
          "histogram": [
           {
            "marker": {
             "pattern": {
              "fillmode": "overlay",
              "size": 10,
              "solidity": 0.2
             }
            },
            "type": "histogram"
           }
          ],
          "histogram2d": [
           {
            "colorbar": {
             "outlinewidth": 0,
             "ticks": ""
            },
            "colorscale": [
             [
              0,
              "#0d0887"
             ],
             [
              0.1111111111111111,
              "#46039f"
             ],
             [
              0.2222222222222222,
              "#7201a8"
             ],
             [
              0.3333333333333333,
              "#9c179e"
             ],
             [
              0.4444444444444444,
              "#bd3786"
             ],
             [
              0.5555555555555556,
              "#d8576b"
             ],
             [
              0.6666666666666666,
              "#ed7953"
             ],
             [
              0.7777777777777778,
              "#fb9f3a"
             ],
             [
              0.8888888888888888,
              "#fdca26"
             ],
             [
              1,
              "#f0f921"
             ]
            ],
            "type": "histogram2d"
           }
          ],
          "histogram2dcontour": [
           {
            "colorbar": {
             "outlinewidth": 0,
             "ticks": ""
            },
            "colorscale": [
             [
              0,
              "#0d0887"
             ],
             [
              0.1111111111111111,
              "#46039f"
             ],
             [
              0.2222222222222222,
              "#7201a8"
             ],
             [
              0.3333333333333333,
              "#9c179e"
             ],
             [
              0.4444444444444444,
              "#bd3786"
             ],
             [
              0.5555555555555556,
              "#d8576b"
             ],
             [
              0.6666666666666666,
              "#ed7953"
             ],
             [
              0.7777777777777778,
              "#fb9f3a"
             ],
             [
              0.8888888888888888,
              "#fdca26"
             ],
             [
              1,
              "#f0f921"
             ]
            ],
            "type": "histogram2dcontour"
           }
          ],
          "mesh3d": [
           {
            "colorbar": {
             "outlinewidth": 0,
             "ticks": ""
            },
            "type": "mesh3d"
           }
          ],
          "parcoords": [
           {
            "line": {
             "colorbar": {
              "outlinewidth": 0,
              "ticks": ""
             }
            },
            "type": "parcoords"
           }
          ],
          "pie": [
           {
            "automargin": true,
            "type": "pie"
           }
          ],
          "scatter": [
           {
            "fillpattern": {
             "fillmode": "overlay",
             "size": 10,
             "solidity": 0.2
            },
            "type": "scatter"
           }
          ],
          "scatter3d": [
           {
            "line": {
             "colorbar": {
              "outlinewidth": 0,
              "ticks": ""
             }
            },
            "marker": {
             "colorbar": {
              "outlinewidth": 0,
              "ticks": ""
             }
            },
            "type": "scatter3d"
           }
          ],
          "scattercarpet": [
           {
            "marker": {
             "colorbar": {
              "outlinewidth": 0,
              "ticks": ""
             }
            },
            "type": "scattercarpet"
           }
          ],
          "scattergeo": [
           {
            "marker": {
             "colorbar": {
              "outlinewidth": 0,
              "ticks": ""
             }
            },
            "type": "scattergeo"
           }
          ],
          "scattergl": [
           {
            "marker": {
             "colorbar": {
              "outlinewidth": 0,
              "ticks": ""
             }
            },
            "type": "scattergl"
           }
          ],
          "scattermap": [
           {
            "marker": {
             "colorbar": {
              "outlinewidth": 0,
              "ticks": ""
             }
            },
            "type": "scattermap"
           }
          ],
          "scattermapbox": [
           {
            "marker": {
             "colorbar": {
              "outlinewidth": 0,
              "ticks": ""
             }
            },
            "type": "scattermapbox"
           }
          ],
          "scatterpolar": [
           {
            "marker": {
             "colorbar": {
              "outlinewidth": 0,
              "ticks": ""
             }
            },
            "type": "scatterpolar"
           }
          ],
          "scatterpolargl": [
           {
            "marker": {
             "colorbar": {
              "outlinewidth": 0,
              "ticks": ""
             }
            },
            "type": "scatterpolargl"
           }
          ],
          "scatterternary": [
           {
            "marker": {
             "colorbar": {
              "outlinewidth": 0,
              "ticks": ""
             }
            },
            "type": "scatterternary"
           }
          ],
          "surface": [
           {
            "colorbar": {
             "outlinewidth": 0,
             "ticks": ""
            },
            "colorscale": [
             [
              0,
              "#0d0887"
             ],
             [
              0.1111111111111111,
              "#46039f"
             ],
             [
              0.2222222222222222,
              "#7201a8"
             ],
             [
              0.3333333333333333,
              "#9c179e"
             ],
             [
              0.4444444444444444,
              "#bd3786"
             ],
             [
              0.5555555555555556,
              "#d8576b"
             ],
             [
              0.6666666666666666,
              "#ed7953"
             ],
             [
              0.7777777777777778,
              "#fb9f3a"
             ],
             [
              0.8888888888888888,
              "#fdca26"
             ],
             [
              1,
              "#f0f921"
             ]
            ],
            "type": "surface"
           }
          ],
          "table": [
           {
            "cells": {
             "fill": {
              "color": "#EBF0F8"
             },
             "line": {
              "color": "white"
             }
            },
            "header": {
             "fill": {
              "color": "#C8D4E3"
             },
             "line": {
              "color": "white"
             }
            },
            "type": "table"
           }
          ]
         },
         "layout": {
          "annotationdefaults": {
           "arrowcolor": "#2a3f5f",
           "arrowhead": 0,
           "arrowwidth": 1
          },
          "autotypenumbers": "strict",
          "coloraxis": {
           "colorbar": {
            "outlinewidth": 0,
            "ticks": ""
           }
          },
          "colorscale": {
           "diverging": [
            [
             0,
             "#8e0152"
            ],
            [
             0.1,
             "#c51b7d"
            ],
            [
             0.2,
             "#de77ae"
            ],
            [
             0.3,
             "#f1b6da"
            ],
            [
             0.4,
             "#fde0ef"
            ],
            [
             0.5,
             "#f7f7f7"
            ],
            [
             0.6,
             "#e6f5d0"
            ],
            [
             0.7,
             "#b8e186"
            ],
            [
             0.8,
             "#7fbc41"
            ],
            [
             0.9,
             "#4d9221"
            ],
            [
             1,
             "#276419"
            ]
           ],
           "sequential": [
            [
             0,
             "#0d0887"
            ],
            [
             0.1111111111111111,
             "#46039f"
            ],
            [
             0.2222222222222222,
             "#7201a8"
            ],
            [
             0.3333333333333333,
             "#9c179e"
            ],
            [
             0.4444444444444444,
             "#bd3786"
            ],
            [
             0.5555555555555556,
             "#d8576b"
            ],
            [
             0.6666666666666666,
             "#ed7953"
            ],
            [
             0.7777777777777778,
             "#fb9f3a"
            ],
            [
             0.8888888888888888,
             "#fdca26"
            ],
            [
             1,
             "#f0f921"
            ]
           ],
           "sequentialminus": [
            [
             0,
             "#0d0887"
            ],
            [
             0.1111111111111111,
             "#46039f"
            ],
            [
             0.2222222222222222,
             "#7201a8"
            ],
            [
             0.3333333333333333,
             "#9c179e"
            ],
            [
             0.4444444444444444,
             "#bd3786"
            ],
            [
             0.5555555555555556,
             "#d8576b"
            ],
            [
             0.6666666666666666,
             "#ed7953"
            ],
            [
             0.7777777777777778,
             "#fb9f3a"
            ],
            [
             0.8888888888888888,
             "#fdca26"
            ],
            [
             1,
             "#f0f921"
            ]
           ]
          },
          "colorway": [
           "#636efa",
           "#EF553B",
           "#00cc96",
           "#ab63fa",
           "#FFA15A",
           "#19d3f3",
           "#FF6692",
           "#B6E880",
           "#FF97FF",
           "#FECB52"
          ],
          "font": {
           "color": "#2a3f5f"
          },
          "geo": {
           "bgcolor": "white",
           "lakecolor": "white",
           "landcolor": "white",
           "showlakes": true,
           "showland": true,
           "subunitcolor": "#C8D4E3"
          },
          "hoverlabel": {
           "align": "left"
          },
          "hovermode": "closest",
          "mapbox": {
           "style": "light"
          },
          "paper_bgcolor": "white",
          "plot_bgcolor": "white",
          "polar": {
           "angularaxis": {
            "gridcolor": "#EBF0F8",
            "linecolor": "#EBF0F8",
            "ticks": ""
           },
           "bgcolor": "white",
           "radialaxis": {
            "gridcolor": "#EBF0F8",
            "linecolor": "#EBF0F8",
            "ticks": ""
           }
          },
          "scene": {
           "xaxis": {
            "backgroundcolor": "white",
            "gridcolor": "#DFE8F3",
            "gridwidth": 2,
            "linecolor": "#EBF0F8",
            "showbackground": true,
            "ticks": "",
            "zerolinecolor": "#EBF0F8"
           },
           "yaxis": {
            "backgroundcolor": "white",
            "gridcolor": "#DFE8F3",
            "gridwidth": 2,
            "linecolor": "#EBF0F8",
            "showbackground": true,
            "ticks": "",
            "zerolinecolor": "#EBF0F8"
           },
           "zaxis": {
            "backgroundcolor": "white",
            "gridcolor": "#DFE8F3",
            "gridwidth": 2,
            "linecolor": "#EBF0F8",
            "showbackground": true,
            "ticks": "",
            "zerolinecolor": "#EBF0F8"
           }
          },
          "shapedefaults": {
           "line": {
            "color": "#2a3f5f"
           }
          },
          "ternary": {
           "aaxis": {
            "gridcolor": "#DFE8F3",
            "linecolor": "#A2B1C6",
            "ticks": ""
           },
           "baxis": {
            "gridcolor": "#DFE8F3",
            "linecolor": "#A2B1C6",
            "ticks": ""
           },
           "bgcolor": "white",
           "caxis": {
            "gridcolor": "#DFE8F3",
            "linecolor": "#A2B1C6",
            "ticks": ""
           }
          },
          "title": {
           "x": 0.05
          },
          "xaxis": {
           "automargin": true,
           "gridcolor": "#EBF0F8",
           "linecolor": "#EBF0F8",
           "ticks": "",
           "title": {
            "standoff": 15
           },
           "zerolinecolor": "#EBF0F8",
           "zerolinewidth": 2
          },
          "yaxis": {
           "automargin": true,
           "gridcolor": "#EBF0F8",
           "linecolor": "#EBF0F8",
           "ticks": "",
           "title": {
            "standoff": 15
           },
           "zerolinecolor": "#EBF0F8",
           "zerolinewidth": 2
          }
         }
        },
        "title": {
         "font": {
          "color": "Black",
          "size": 22
         },
         "text": "Topic Word Scores",
         "x": 0.5,
         "xanchor": "center",
         "yanchor": "top"
        },
        "width": 1000,
        "xaxis": {
         "anchor": "y",
         "domain": [
          0,
          0.175
         ],
         "showgrid": true
        },
        "xaxis10": {
         "anchor": "y10",
         "domain": [
          0.275,
          0.45
         ],
         "showgrid": true
        },
        "xaxis11": {
         "anchor": "y11",
         "domain": [
          0.55,
          0.7250000000000001
         ],
         "showgrid": true
        },
        "xaxis12": {
         "anchor": "y12",
         "domain": [
          0.825,
          1
         ],
         "showgrid": true
        },
        "xaxis13": {
         "anchor": "y13",
         "domain": [
          0,
          0.175
         ],
         "showgrid": true
        },
        "xaxis14": {
         "anchor": "y14",
         "domain": [
          0.275,
          0.45
         ],
         "showgrid": true
        },
        "xaxis15": {
         "anchor": "y15",
         "domain": [
          0.55,
          0.7250000000000001
         ],
         "showgrid": true
        },
        "xaxis16": {
         "anchor": "y16",
         "domain": [
          0.825,
          1
         ],
         "showgrid": true
        },
        "xaxis2": {
         "anchor": "y2",
         "domain": [
          0.275,
          0.45
         ],
         "showgrid": true
        },
        "xaxis3": {
         "anchor": "y3",
         "domain": [
          0.55,
          0.7250000000000001
         ],
         "showgrid": true
        },
        "xaxis4": {
         "anchor": "y4",
         "domain": [
          0.825,
          1
         ],
         "showgrid": true
        },
        "xaxis5": {
         "anchor": "y5",
         "domain": [
          0,
          0.175
         ],
         "showgrid": true
        },
        "xaxis6": {
         "anchor": "y6",
         "domain": [
          0.275,
          0.45
         ],
         "showgrid": true
        },
        "xaxis7": {
         "anchor": "y7",
         "domain": [
          0.55,
          0.7250000000000001
         ],
         "showgrid": true
        },
        "xaxis8": {
         "anchor": "y8",
         "domain": [
          0.825,
          1
         ],
         "showgrid": true
        },
        "xaxis9": {
         "anchor": "y9",
         "domain": [
          0,
          0.175
         ],
         "showgrid": true
        },
        "yaxis": {
         "anchor": "x",
         "domain": [
          0.825,
          1
         ],
         "showgrid": true
        },
        "yaxis10": {
         "anchor": "x10",
         "domain": [
          0.275,
          0.45
         ],
         "showgrid": true
        },
        "yaxis11": {
         "anchor": "x11",
         "domain": [
          0.275,
          0.45
         ],
         "showgrid": true
        },
        "yaxis12": {
         "anchor": "x12",
         "domain": [
          0.275,
          0.45
         ],
         "showgrid": true
        },
        "yaxis13": {
         "anchor": "x13",
         "domain": [
          0,
          0.175
         ],
         "showgrid": true
        },
        "yaxis14": {
         "anchor": "x14",
         "domain": [
          0,
          0.175
         ],
         "showgrid": true
        },
        "yaxis15": {
         "anchor": "x15",
         "domain": [
          0,
          0.175
         ],
         "showgrid": true
        },
        "yaxis16": {
         "anchor": "x16",
         "domain": [
          0,
          0.175
         ],
         "showgrid": true
        },
        "yaxis2": {
         "anchor": "x2",
         "domain": [
          0.825,
          1
         ],
         "showgrid": true
        },
        "yaxis3": {
         "anchor": "x3",
         "domain": [
          0.825,
          1
         ],
         "showgrid": true
        },
        "yaxis4": {
         "anchor": "x4",
         "domain": [
          0.825,
          1
         ],
         "showgrid": true
        },
        "yaxis5": {
         "anchor": "x5",
         "domain": [
          0.55,
          0.7250000000000001
         ],
         "showgrid": true
        },
        "yaxis6": {
         "anchor": "x6",
         "domain": [
          0.55,
          0.7250000000000001
         ],
         "showgrid": true
        },
        "yaxis7": {
         "anchor": "x7",
         "domain": [
          0.55,
          0.7250000000000001
         ],
         "showgrid": true
        },
        "yaxis8": {
         "anchor": "x8",
         "domain": [
          0.55,
          0.7250000000000001
         ],
         "showgrid": true
        },
        "yaxis9": {
         "anchor": "x9",
         "domain": [
          0.275,
          0.45
         ],
         "showgrid": true
        }
       }
      }
     },
     "metadata": {},
     "output_type": "display_data"
    }
   ],
   "source": [
    "topic_model.visualize_barchart(top_n_topics=20, n_words=40)"
   ]
  },
  {
   "cell_type": "code",
   "execution_count": null,
   "metadata": {},
   "outputs": [
    {
     "name": "stdout",
     "output_type": "stream",
     "text": [
      "\n",
      "=== Топик -1 ===\n",
      "Количество документов: 1343\n",
      "\n",
      "Примеры документов:\n",
      "\n",
      "- В античном лирическом стихотворении ветреная Аттис бежит к некой Андромеде. Видовое название «atthis» получила птица, которая, согласно Аристотелю, прилетает зимовать... Куда именно?\n",
      "\n",
      "- В одной битве на Великих равнинах в Северной Америке из-за луговых собачек погибло и было травмировано множество всадников. В Европе к подобным последствиям иногда приводила деятельность ИКСОВ. Чьим женихом был ИКС?\n",
      "\n",
      "- На картине Яна ван Эйка молодой мужчина делает предложение девушке. Ван Эйк подчеркивает, что юноша ждет от девушки ответа, так как центральное положение на картине занимает ОНО. Назовите ЕГО коротким словом.\n",
      "\n",
      "- Бабочки монархи каждый год мигрируют с севера США на юг. Распространённое поверье о бабочках связано в том числе с тем, что они прибывают на место своей зимовки к празднику. К какому?\n",
      "\n",
      "- В колоде таро, тема которой — дикая природа, ОНА изображена на карте с названием «Повешенный». Назовите ЕЁ двумя словами, начинающимися на соседние буквы алфавита.\n",
      "\n",
      "- В мультфильме \"МежА\", снятом в шестидесятые годы, Змей Горыныч и царь делят между собой деревню. В одной из сцен мультфильма Горыныч, угрожая царю, обещает тому ПРОПУСК. Одно из пропущенных слов происходит от имени. Назовите это имя.\n",
      "\n",
      "- Персонаж одного романа назвал одного сына Пифагором. Второй сын предпочитал называть себя Арчи. Какое полное имя он носил?\n",
      "\n",
      "- На постере зарубежного документального фильма о чемпионате мира по НИМ можно увидеть сэра Тетриса, глаз, маму и папу, тойоту цивик и многих других. Назовите ИХ греческим словом.\n",
      "\n",
      "- ИКС в этом вопросе заменяет другое слово.\n",
      "Австрийская земля Форальберг хотела присоединиться к Швейцарии, но ей отказали швейцарцы, которые не хотели менять соотношение ИКСОВ. ИКС какого гражданина Швейцарии хорошо известен с 1951 года?\n",
      "\n",
      "- В этом вопросе ИКС заменяет короткое слово. Врач из романа «Человек-машина» любит технологии и предлагает пациенту вмонтировать в один из ИКСОВ миниатюрный телефон. Современные телефоны используют технологию, в названии которой есть ИКС. Какой именно ИКС?\n",
      "\n",
      "=== Топик 0 ===\n",
      "Количество документов: 204\n",
      "Топ-слова: ['персонаж', 'герой', 'картина', 'произведение', 'сериал', 'художник', 'рука', 'мультфильм', 'роман', 'героиня', 'фильм', 'атрибут', 'сцена', 'девочка', 'шутить']\n",
      "\n",
      "Примеры документов:\n",
      "\n",
      "- Переживая за неумелого Марка Твена, друг писателя показал прибывшему Джеймсу Лэрду труп маленькой птички. После чего Лэрд отказался от НЕЁ. Назовите ЕЁ.\n",
      "\n",
      "- Дэмьен Хёрст работает в стиле точечной росписи. Картину, в которой преобладают красные точки, он посвятил чемпиону по ИКСУ. Назовите ИКС словом с шестью разными буквами.\n",
      "\n",
      "- Подростков, которые стремятся освободиться от родительской опеки и улететь в новую жизнь, персонаж Джона Грина сравнивает с НИМИ. Заглавный герой известного произведения неудачно попытался использовать один из НИХ для кражи... Чего?\n",
      "\n",
      "- Персонаж одного мультфильма провёл сотни лет запертым в сосуде. Освободившись оттуда, он оказывается в современном мире. В одном из эпизодов персонажу совсем не нравится быть в АЛЬФЕ. АЛЬФЫ могут измеряться, например, в километрах и в часах. Назовите АЛЬФУ.\n",
      "\n",
      "- Айрон Дрю в шутку задаётся вопросом: «Как вы в детстве собирались стать супергероями, если вас повзрослевших не заставишь ДЕЛАТЬ ЭТО?». Ответьте двумя словами, начинающимися на соседние буквы алфавита: что такое ДЕЛАТЬ ЭТО?\n",
      "\n",
      "- Герой одного произведения во время перепалки заявил сопернику: \"Ты – не хищник\". И в качестве доказательства упомянул ИХ, чем крайне разозлил оппонента. Назовите ИХ.\n",
      "\n",
      "- В историческом романе описывается, как бредут потерявшие свои дома люди и их волосы кажутся седыми. Назовите любой из трёх городов, откуда эти люди идут.\n",
      "\n",
      "- У юного Чинуа Ачебе на стенах комнаты висело много различных картинок. Ему особенно нравилась та, которая изображала джентльмена по имени Джон, уже с 1820 года продолжающего свой путь. Какую фамилию носит этот Джон?\n",
      "\n",
      "- Герой спектакля «В начале было...» сотворяет разных животных: собаку, кошку, жирафа... Откуда он достаёт пару травоядных млекопитающих, которых вскоре становится очень много?\n",
      "\n",
      "- В совсем не смешном стихотворении \"Четыре червячка\" червячки поочерёдно умирают, пока последний, отчаявшись, не бросается под НЕЁ, после чего стихотворение зацикливается. Назовите ЕЁ одним словом.\n",
      "\n",
      "=== Топик 1 ===\n",
      "Количество документов: 168\n",
      "Топ-слова: ['роман', 'язык', 'фраза', 'вариант', 'персонаж', 'компания', 'русский', 'произведение', 'прозвище', 'героиня', 'шутка', 'студия', 'получить', 'целиком', 'фильм']\n",
      "\n",
      "Примеры документов:\n",
      "\n",
      "- Во время перформанса, посвященного затягивающей людей рутине, Андрей Кузькин ходил по резервуару, в который был залит ОН, до тех пор, пока оставались силы сопротивляться. Напишите три буквы, которые мы пропустили в предыдущем предложении.\n",
      "\n",
      "- Поначалу ХарУки МуракАми было сложно читать на английском языке, поскольку он не мог привыкнуть к голому тексту. В одном из слов предыдущего предложения мы убрали бОльшую часть букв. Напишите это слово целиком.\n",
      "\n",
      "- Герой одного романа — начитанный немецкий солдат. Вместо того, чтобы праздновать со всеми, он добровольно вызывается дежурить, а на удивлённый вопрос отвечает, что ПРОПУСК под Сталинградом. Заполните ПРОПУСК двумя словами.\n",
      "\n",
      "- У разработчиков программного обеспечения принято делить работу на двухнедельные интервалы. Говоря о годовом планировании, Дэн ЧупАркофф предложил для этих интервалов короткие названия. Напишите любое из них.\n",
      "\n",
      "- Путешествуя по России, Сигизмунд фон Герберштейн подробно описал, например, русские реки, но уделил мало внимания другим образованиям, которые посчитал незначительными. По предположению одного автора, дело в том, что Герберштейн вырос в НИХ. Напишите любое из имён нарицательных, произошедших от названия «ОНИ».\n",
      "\n",
      "- В самом начале мистического произведения главная героиня сталкивается со знаками судьбы. Например, в одном эпизоде она садится в трамвай ПРОПУСК. Этот вопрос тоже ПРОПУСК. Заполните ПРОПУСК.\n",
      "\n",
      "- Средневековые методы расшифровки закодированных посланий основывались на анализе повторяющихся в тексте слов. Особенно сложными считались арабские шифры, ведь в арабском языке во множестве присутствуют ОНИ. В предыдущем предложении мы пропустили в одном из слов пять букв. Напишите это слово целиком.\n",
      "\n",
      "- Во время недавнего экономического кризиса в Венесуэле иностранным журналистам показывали «тёмные» магазины. Напишите в исходном виде слово, которое мы изменили в предыдущем предложении.\n",
      "\n",
      "- Итальянский школьный учебник эпохи Возрождения носил название «Бабино», поскольку дети осваивали чтение, подражая преподавателю. В этом названии пропущено то, что тоже может ассоциироваться со школой. Напишите название учебника в исходном виде.\n",
      "\n",
      "- Село Озерки Новосибирской области после серии находок получило название новое. Напишите в исходном виде слово, в котором было пропущено пять букв.\n",
      "\n",
      "=== Топик 2 ===\n",
      "Количество документов: 129\n",
      "Топ-слова: ['война', 'король', 'корабль', 'испанский', 'мировой', 'гитлер', 'историк', 'местный', 'менеджер', 'штат', 'немец', 'получить', 'дело', 'француз', 'император']\n",
      "\n",
      "Примеры документов:\n",
      "\n",
      "- Кардинал Ришелье считал, что Франции не стоит ввязываться в дорогостоящие военные кампании. Французские историки называют политику Ришелье «дипломатией пистолетов». Какое слово мы немного изменили?\n",
      "\n",
      "- В 1662 году Карл II женился на португальской принцессе Екатерине Браганской. Рассказывают, что однажды на просьбу жены Карл ответил, что в Англии НЕ ДЕЛАЮТ ЭТОГО и предложил ей пива. Что такое ДЕЛАТЬ ЭТО?\n",
      "\n",
      "- [Ведущему: Wolfenstein - Вольфенштайн] \n",
      "Во вселенной компьютерной игры Wolfenstein Германия выиграла Вторую Мировую войну. В своей речи после победы Гитлер заявляет, что теперь из НЕГО польётся чистейшая сталь. Назовите ЕГО.\n",
      "\n",
      "- По мнению историка Брендана Симмса, Тюдоры опасались, что если Шотландией или Ирландией завладеют враги, то страны могут стать ИМ в Англию. Уязвимость, позволяющая получить несанкционированный доступ к операционной системе, называется термином, который можно перевести как ОН. Назовите ЕГО двумя словами.\n",
      "\n",
      "- Барбаджа - это регион на острове Сардиния, жители которого не позволили подчинить себя римлянам. Считается, что название Барбаджа произошло... от какого слова?\n",
      "\n",
      "- На патриотическом лубке времен Первой мировой войны можно увидеть лица кайзера Вильгельма II, императора Франца Иосифа и Энвера-паши. Назовите отчество того, в виде кого на этом лубке изображен русский солдат.\n",
      "\n",
      "- В 1960-е годы профессор Калифорнийского университета в Беркли Джозеф Харрис адаптировал для голосования технологию, в которой использовались АЛЬФЫ. Для этого избиратели пользовались специальной иглой. Назовите АЛЬФУ сложносокращённым словом.\n",
      "\n",
      "- Эмилия Плятер приняла участие в антироссийском восстании 1830 года, возглавив партизанский отряд. Историк Иван Мизеров называет Плятер ТАКОЙ АЛЬФОЙ. ТАКОЙ АЛЬФОЙ можно назвать Вислу. Что мы заменили ТАКОЙ АЛЬФОЙ?\n",
      "\n",
      "- В 1806 году в Калифорнии встретились русский и испанский отряды. Стычки удалось избежать, поскольку и священник Хосе Антонио Уриа, и доктор Григорий Лангсдорф знали... Что?\n",
      "\n",
      "- Под конец Первой мировой войны практически весь полк, в котором служил Лео Силард, был уничтожен в бою. Как ни странно, но можно сказать, что жизнь Силарду спасла АЛЬФА. АЛЬФА убила более ста тысяч АЛЬФ. Назовите АЛЬФУ.\n",
      "\n",
      "=== Топик 3 ===\n",
      "Количество документов: 116\n",
      "Топ-слова: ['учёный', 'животное', 'обнаружить', 'рыба', 'птица', 'динозавр', 'эволюция', 'мозг', 'размер', 'клетка', 'хищник', 'акула', 'развитие', 'способный', 'проводить']\n",
      "\n",
      "Примеры документов:\n",
      "\n",
      "- Прежде чем отправиться на юг, птицы проводят некоторое время за наблюдениями. В каком сооружении орнитологу удалось заставить их изменить направление перелёта?\n",
      "\n",
      "- Жители Аляски не слишком ценили рыбу кетУ и называли её ТАКИМ лососем. «ТАКОЕ ОНО» начинается с нескольких букв «у». Какие два слова, начинающиеся на одну и ту же букву, мы заменили словами «ТАКОЕ ОНО»?\n",
      "\n",
      "- Исследователи обнаружили, что ИХ полнота зависела от климата. Так, найденные на севере гораздо более полные, чем обнаруженные на юге. Назовите ИХ двумя словами.\n",
      "\n",
      "- Самая большая ОНА в мире доросла почти до сорока сантиметров. Размер другой ЕЁ позволил учёным предположить, что у тираннозавра был острый слух. Назовите ЕЁ.\n",
      "\n",
      "- Коч – северное парусное судно, имевшее двойную обшивку и ставшее прообразом современного ледокола. Слово «коч» происходит от диалектного новгородского слова со значением «ОНА». ОНА входит в название блюда. Какого?\n",
      "\n",
      "- Павло Блаватский установил, что высокий индекс массы тела государственных служащих напрямую коррелирует с ЭТИМ. Назовите ЭТО использовав слово с удвоенной согласной.\n",
      "\n",
      "- Алан Маккенна утверждает, что с помощью гидрофона уловил в глубине НЕГО ритмичную пульсацию, напоминающую сердцебиение. Ответьте, использовав дефис: что такое ОНО?\n",
      "\n",
      "- Ученые установили, что птенцы черных ворон, когда им угрожают хищники, выживают значительно чаще, если в гнезде оказываются часики. Какое слово в этом вопросе мы заменили другим?\n",
      "\n",
      "- Рассказывают, что однажды эволюционисту Джону Холдейну задали вопрос, что бы он спросил, оказавшись перед Богом. В ответе Холдейн упомянул чрезмерную ЕЁ, имея в виду разнообразие видов. Другая ОНА охватила мир в 1960-е. Назовите ЕЁ.\n",
      "\n",
      "- Джулия Эндерс пишет, что у каждого из этих профессионалов есть свой набор бактерий, поэтому неудивительно, что они дают разные оценки. Назовите их несклоняемым словом.\n",
      "\n",
      "=== Топик 4 ===\n",
      "Количество документов: 98\n",
      "Топ-слова: ['команда', 'футбольный', 'игра', 'матч', 'футболист', 'чемпионат', 'игрок', 'клуб', 'тренер', 'забег', 'спорт', 'спортсмен', 'болельщик', 'стадион', 'играть']\n",
      "\n",
      "Примеры документов:\n",
      "\n",
      "- Один шуточный тест появился после матча чемпионата России по футболу, сыгранного в конце ноября. В тесте предлагалось СДЕЛАТЬ ЭТО на нескольких кадрах из трансляции матча. СДЕЛАТЬ ЭТО можно и в деревне Гремячка Самарской области, и в белгородском парке Армячий лог. Какие два слова мы заменили словами СДЕЛАТЬ ЭТО?\n",
      "\n",
      "- Сергей Кривохарченко сравнил обмен силового опорника на креативного полузащитника, способного увидеть даже малейшие дыры в обороне соперника, с обменом молотка на НЕГО. Что такое ОН?\n",
      "\n",
      "- Персонажи спортивного аниме в одной из серий жалуются, что сорокаминутная разминка — это очень долго, этого времени хватило бы на две... Чего?\n",
      "\n",
      "- Во время финала Кубка России по футболу, в котором встречались «Урал» из Екатеринбурга и «Локомотив» из Москвы, одного человека на стадионе спросили, за кого он болеет. Тот сказал, что ему без разницы, ведь работа предстоит примерно одинаковая. Назовите профессию этого человека.\n",
      "\n",
      "- Одна статья, рассказывающая о забеге из предыдущего вопроса, называется «ПРОПУСК, но не слишком». Какое несклоняемое слово мы заменили словом ПРОПУСК?\n",
      "\n",
      "- В современном эпизоде мультсериала «Простоквашино» дядя Фёдор не хочет тренироваться на улице, так как уже не лето. Какой певец в этом эпизоде является приглашённой звездой?\n",
      "\n",
      "- Друг автора вопроса, который услышал это от своего знакомого, рассказал следующее: в 2015 году в Новой Зеландии был установлен мировой рекорд по этой игре – в ней приняли участие 1925 человек. \n",
      "На самом деле игра проходила в 2017 году, и в ней участвовали 1763 человека.\n",
      "Назовите эту игру.\n",
      "\n",
      "- Компания Supponor [Сапонор] сотрудничает со многими крупными спортивными лигами. Благодаря технологии Supponor ОНА в трансляциях своя в каждой стране. Работает отлично! И совсем недорого. Назовите ЕЁ одним словом.\n",
      "\n",
      "- Отец игрока «Торонто» Зака Хаймана – крупный бизнесмен, занимающийся недвижимостью. Автор статьи о хоккеисте отмечает, что на площадке Зак – трудяга и, в отличие от отца, скорее относится к НИМ. Назовите ИХ двумя словами.\n",
      "\n",
      "- Достижение, которое игрок получает за первый мат, поставленный ферзем, на сайте chess.com  [чесс дот ком] называется так же, как произведение 1974 года. Назовите это произведение.\n",
      "\n",
      "=== Топик 5 ===\n",
      "Количество документов: 98\n",
      "Топ-слова: ['древний', 'бог', 'язык', 'грех', 'семья', 'церковный', 'согласно', 'средневековый', 'значение', 'часто', 'происхождение', 'корень', 'выполнять', 'символизировать', 'верить']\n",
      "\n",
      "Примеры документов:\n",
      "\n",
      "- Согласно одной конспирологической теории, древние египтяне были негроидной расы. Сторонники этой теории утверждают, что с египетскими статуями ЭТО ПРОИСХОДИЛО благодаря европейским колонизаторам, желавшим скрыть расовую принадлежность египтян. Назовите произведение русской литературы, с главным героем которого ПРОИЗОШЛО ЭТО.\n",
      "\n",
      "- Персонаж МилорАда ПАвича называет четвёртую свечу женской. Кому предназначалась эта свеча?\n",
      "\n",
      "- На староанглийском «витан» означает «мудрый человек», а «гемот» — «собрание». Витенагемот, существовавший в Англии ещё до Нормандского завоевания, считается прообразом ИКСА. Назовите ИКС словом французского происхождения.\n",
      "\n",
      "- Некоторые считают, что кармИн символизирует уравновешенность, послушание и нежелание выделяться, поэтому противопоставляют кармин ЕМУ. Назовите ЕГО несклоняемым словом.\n",
      "\n",
      "- Известный американец рассказывал, что в юности выполнял заказы для местной церкви. Работая в церковном сарае, он часто наблюдал за АЛЬФАМИ. Назовите этого американца, а также ответьте, кто такая АЛЬФА.\n",
      "\n",
      "- Прибывшие в Южную Америку испанцы насмешливо называли ЕГО «шустриком». В казахском языке в ЕГО название входит слово «жалкау» – «лодырь». Назовите ЕГО.\n",
      "\n",
      "- В поэме Теофило Фоленго ИКС говорит, что не в ответе за половину своих грехов. Изображение одного из самых известных ИКСОВ было обнаружено на фреске из Геркуланума. Кто такой ИКС?\n",
      "\n",
      "- Из сорока великих ИХ семнадцать были родом из Папской области, что звучит логично с учётом церковных потребностей. Кто ОНИ?\n",
      "\n",
      "- Персонаж РомЕна ГарИ по имени ИсаАк занимался астрологией. Украшение в виде ЭТОГО, которое он носил на шее, часто принимали за астрологический символ. Какое имя входит в название ЭТОГО?\n",
      "\n",
      "- В Китае есть поверье, что ребенку, зачатому при свете, всю жизнь будет сопутствовать удача. Поэтому китайские пары отправляются для зачатия в определенные европейские страны. Какие два слова, начинающиеся на одну и ту же букву, мы пропустили в этом вопросе?\n",
      "\n",
      "=== Топик 6 ===\n",
      "Количество документов: 92\n",
      "Топ-слова: ['еда', 'блюдо', 'напиток', 'приготовление', 'чай', 'ресторан', 'готовить', 'входить', 'продавать', 'день', 'пекарня', 'коктейль', 'согласно', 'ужин', 'свойство']\n",
      "\n",
      "Примеры документов:\n",
      "\n",
      "- Небольшое количество слабо окрашенного сусла сцеживается из чана с раздавленным красным виноградом и ферментируется отдельно. Такой способ изготовления розового вина называется «ОНО». Назовите ЕГО двухкоренным словом.\n",
      "\n",
      "- По заказу отдела маркетинга известной финансовой компании кондитеры создали фирменное печенье макарон. У печенья два вкуса – цитруса и красного яблока. Назовите эту компанию.\n",
      "\n",
      "- Героиня одного рассказа очень хочет, но не может себе кое-что позволить. Поэтому героиня говорит продавцу, что сыр выпал, и покупает булочку. Что мы заменили словами «сыр выпал»?\n",
      "\n",
      "- Сильная кислота — та, которая эффективно отдаёт протоны молекулам растворителя. В одном американском журнале приводится аналогия между сильной кислотой и хорошим ИКСОМ. Слово ИКС впервые упоминается в последней четверти XIX века. Назовите ИКСА.\n",
      "\n",
      "- Медленноварка — это посуда, еда в которой может готовиться всю ночь. Медленноварки стали популярны благодаря представителям общин, члены которых пользовались этой посудой непосредственно перед НИМ. Назовите ЕГО словом с удвоенной согласной.\n",
      "\n",
      "- Участник детской кулинарной передачи предположил, что определённый вид масла получил своё название из-за того, что делается на улице. Назовите эту улицу.\n",
      "\n",
      "- Согласно легенде, однажды Моисей жарил ЕЁ, но посередине приготовления огонь погас. Тогда Моисей выкинул ЕЁ назад в море. Назовите ЕЁ словом, в котором все гласные одинаковы.\n",
      "\n",
      "- Главные герои одного аниме похожи на обычных людей, но отличаются от них, например, крыльями. В этом аниме в пекарне решили готовить бублики, вдохновившись формой ЕГО. Назовите ЕГО односложным словом.\n",
      "\n",
      "- На Гудзоне ежегодно проходит гонка буксиров. Во время неё проводится конкурс по скоростному поеданию одного растительного продукта. Чьё имя носит этот конкурс?\n",
      "\n",
      "- В эквадорском городе МилАгро выращивается очень много ананасов. В Эквадоре даже появилось выражение, в котором Милагро соответствует ЕЙ, а ананас — ЕМУ. Назовите ЕЁ и ЕГО.\n",
      "\n",
      "=== Топик 7 ===\n",
      "Количество документов: 83\n",
      "Топ-слова: ['роман', 'книга', 'произведение', 'писатель', 'поэт', 'читатель', 'пушкин', 'перевод', 'творчество', 'сергей', 'рукопись', 'герой', 'текст', 'издание', 'лев']\n",
      "\n",
      "Примеры документов:\n",
      "\n",
      "- В 1934 году, через сто лет после первого издания, цензоры усмотрели в ЭТОМ произведении «историю замечательной карьеры сына деревенского кулака». Назовите ЭТО произведение.\n",
      "\n",
      "- Учёный Николай Николаевич Гуртовой собрал большую коллекцию песен и наговорил на пленку текст, сопровождая каждую песню комментариями, а некоторые из них, для лучшего запоминания, ещё и \"переводами\". В этих \"переводах\" можно встретить такие фразы как \"Купи кобылу!\" или \"Чуть-чуть-чуть... три рубля не выиграл!\" Что это были за песни?\n",
      "\n",
      "- Сергея Владимировича МихалкОва любили многие советские дети, зачастую предпочитая его творчество учёбе. Забавно, что в «НЕЙ» главного отрицательного персонажа звали Сергей Владимирович, однако в экранизации имя и отчество изменили. Назовите «ЕЁ» четырьмя словами.\n",
      "\n",
      "- По словам критика, Стивен Холл так мастерски написал книгу «Дневники голодной акулы», что читателю приходится только раскланиваться перед автором. Какое слово мы заменили в предыдущем предложении?\n",
      "\n",
      "- Читая статью Википедии о вокзале Виктория, автор вопроса узнал, что он назван в честь улицы Виктория. Когда же автор вопроса открыл статью об этой улице, он вспомнил ИХ. Назовите ИХ одним словом.\n",
      "\n",
      "- В этом вопросе ИКС является заменой.  В комментариях к книге, автор которой с 1959 по 1961 год жил в ИКСАХ, говорится о пропущенных строфах в одной из глав «Евгения Онегина». Какой ИКС появился через несколько лет после «Евгения Онегина»?\n",
      "\n",
      "- Рассказывают, что на одном обсуждении своего известного текста ОН воскликнул: «Но я совсем не это имел в виду!» Назовите ЕГО.\n",
      "\n",
      "- Герой поэмы Венедикта Ерофеева пытается выбраться из Москвы в Петушки, где обретёт долгожданный покой и счастье. Однако достичь Петушков не удаётся, и электричка опять увозит героя в Москву. По мнению Татьяны Ивлевой, замкнутый маршрут электрички символизирует ЕЁ. Назовите ЕЁ словом с одинаковыми гласными.\n",
      "\n",
      "- Одна из работ Ницше называется «Человеческое. Слишком человеческое». Каким латинским палиндромом начинается название его эссе?\n",
      "\n",
      "- Братья Стругацкие считали термин «ОНА» не совсем точным, а предпочитали говорить о романе-предостережении. Согласно шутке, библейская легенда о Ноевом ковчеге – это ОНА. Назовите ЕЁ.\n",
      "\n",
      "=== Топик 8 ===\n",
      "Количество документов: 77\n",
      "Топ-слова: ['песня', 'музыка', 'группа', 'музыкальный', 'музыкант', 'композитор', 'петь', 'концерт', 'альбом', 'рэпер', 'дэвид', 'бетховен', 'инструмент', 'запись', 'играть']\n",
      "\n",
      "Примеры документов:\n",
      "\n",
      "- Когда композитору Джону Тэшу пришла в голову хорошая мелодия, он был в отеле и не имел возможности записать музыку. Чтобы сохранить мелодию, композитор позвонил на домашний номер... Кому?\n",
      "\n",
      "- Популярная в 20-е годы Клара Боу в следующем десятилетии уже была практически забыта. Рассказывая о чём, Билл Брайсон упоминает «скрип гвоздя по грифельной доске»?\n",
      "\n",
      "- Во время записи песни 1977 года Блю Уивер подсоединил к себе электроды. Назовите эту песню.\n",
      "\n",
      "- Статья \"National Geographic\" \"ПРОПУСК тела против ПРОПУСК\" анонсировала выставку фотографий, на которых артисты театра танцуют в окружении реквизита, собранного волонтёрами Гринписа. Заполните любой из пропусков.\n",
      "\n",
      "- У Бастера Китона отсутствовал иностранный акцент, а также был опыт выступления в водевилях, где он пел и декламировал. Поэтому ОНО, появившееся в своё время, проблемой не стало. Назовите ЕГО двумя словами.\n",
      "\n",
      "- В снятом в 1991 году в Москве клипе ПЕРВЫЙ символически уничтожают ВТОРЫМ. Назовите ПЕРВЫЙ и ВТОРОЙ.\n",
      "\n",
      "- Советская рок-группа «Дети» не баловала поклонников музыкальным разнообразием. ОНИ в одной из песен группы сравнивались с Лениным, Энгельсом и Марксом. Назовите ИХ двумя словами.\n",
      "\n",
      "- Перед концертом группа Beck [бек] была на грани распада и первую песню исполнять вышел только один участник. Впоследствии выступление группы было признано лучшим на фестивале. Автор вопроса назвал начало концерта ЕЙ наоборот. Назовите ЕЁ.\n",
      "\n",
      "- Концерт Красноярского театра оперы и балета длится чуть меньше полутора часов. Он дает возможность познакомиться с музыкой и культурой Франции, Италии, Египта, Индии, Китая, Японии, США и других стран. Название концерта – пять слов, последнее слово – «минут». Напишите первые четыре слова этого названия.\n",
      "\n",
      "- Фрэнсис Уилсон пишет, что количество произведений в репертуаре многих современных пианистов ограничено во многом из-за Клары Шуман, которая одной из первых начала... что делать?\n",
      "\n",
      "=== Топик 9 ===\n",
      "Количество документов: 76\n",
      "Топ-слова: ['фильм', 'актёр', 'съёмка', 'герой', 'персонаж', 'сериал', 'режиссёр', 'новый', 'роль', 'игра', 'должный', 'титр', 'канал', 'планета', 'деталь']\n",
      "\n",
      "Примеры документов:\n",
      "\n",
      "- В этом вопросе ИКС заменяет другое слово.\n",
      "Чтобы лучше узнать жителей Осло, премьер-министр Норвегии на один день стал ИКСОМ. Назовите американца итальянского происхождения, который сыграл в «ИКСЕ» эпизодическую роль.\n",
      "\n",
      "- В передаче \"Тушите свет\" персонаж Филипп Шариков представлял свежие новости в рубрике \"Hot News\" [Хот ньюз]. Что мы пропустили в этом вопросе?\n",
      "\n",
      "- Персонажи компьютерной игры Bulletstorm [Буллетсторм] терпят крушение на планете, где все живое вскоре должно быть уничтожено. Чтобы покинуть планету, они используют спасательную капсулу и ЕЁ. Назовите ЕЁ двумя словами, начинающимися на одну и ту же букву.\n",
      "\n",
      "- В одном из недавних интервью британский актер Гэри Олдман пожаловался на проблемы со здоровьем после съемок. Актер рассказал, что ему приходилось делать по 10-12 ИХ за сцену. Назовите ИХ одним словом.\n",
      "\n",
      "- В вопросе есть замена. Участники протестов в США в 1960-х обращали внимание, что проблемы афроамериканцев никого не волнуют: например, сериалы снимают даже о НИХ, но не об афроамериканцах. В поздних сезонах героиня одного подобного сериала «работала» в Лесной службе США. Назовите эту героиню точно.\n",
      "\n",
      "- Церемонию вручения премии «Оскар» персонаж британского писателя назвал АЛЬФОЙ. В 1935 году экранизация «АЛЬФЫ» принесла Мириам Хопкинс «Оскара» за лучшую женскую роль. Назовите АЛЬФУ двумя словами.\n",
      "\n",
      "- Фильм «Тепло наших тел» рассказывает об отношениях зомби и живой девушки. Девушку зовут Джули, тогда как зомби помнит из своего имени только первую букву. Какую?\n",
      "\n",
      "- На заре кинематографа возможности камер были ограничены. Так, сегодня нельзя увидеть первые часы Тур де Франс – 1923, ведь в тот год гонка... Ответьте двумя словами на одну букву: что сделала?\n",
      "\n",
      "- В комментарии к очередной части известной серии, вышедшей осенью 2020 года, отмечается актуальность ПЕРВОЙ, которую носит ВТОРАЯ. Назовите ПЕРВУЮ и ВТОРУЮ словами, которые начинаются на одну и ту же букву.\n",
      "\n",
      "- Фильм «Кольберг» рассказывает об упорной обороне крепости Кольберг от наполеоновских войск. Он был снят на студии «Универсум Фильм Акциенгезельшафт» примерно в середине ХХ века. В начале какого года этот фильм вышел на экраны?\n",
      "\n",
      "=== Топик 10 ===\n",
      "Количество документов: 34\n",
      "Топ-слова: ['отель', 'построить', 'здание', 'берлинский', 'архитектура', 'ленинград', 'парижский', 'квартира', 'башня', 'турист', 'памятник', 'метр', 'бабельсберг', 'любопытно', 'авеню']\n",
      "\n",
      "Примеры документов:\n",
      "\n",
      "- В 1914 году немецкий корабль «Гёбен» попробовал скрыться от преследователей, но попытка сорвалась из-за НЕГО. ОНО входит в название художественной выставки работ, посвящённой уроженцу Екатеринославской губернии. Назовите ЕГО двухкоренным словом.\n",
      "\n",
      "- Один пятизвёздочный отель в Лондоне известен тем, что когда-то в комнатах в этом здании жили, например, Оскар Уайльд и политическая активистка Эммелин Панкхёрст. Какое существительное мы заменили в этом вопросе?\n",
      "\n",
      "- По-словацки «премия» — cena [цена]. Сокращение, ставшее названием словацкой премии за архитектуру, созвучно имени человека, по приказу которого построили в числе прочего императорский форум. Кто этот человек?\n",
      "\n",
      "- Советские архитекторы ориентировались либо на имперский размах античности, либо на наследовавший ему стиль итальянского Возрождения. Владимир Паперный пишет, что Москва — это ОН ещё и в архитектурном смысле. Назовите ЕГО двумя словами.\n",
      "\n",
      "- В 1894 году в одном из берлинских предместий ОН насыпал двенадцатиметровый холм. Назовите ЕГО.\n",
      "\n",
      "- В Российской империи первый ОН был построен в 1878 году и уже через год оказался в собственности фирмы «БраНОбель». Назовите ЕГО двухкоренным словом\n",
      "\n",
      "- Спроектировавший Нижегородскую ярмарку Августин Бетанкур вдохновлялся архитектурой одного европейского города. Впрочем, лучше всего сходство было заметно весной, во время половодья. О каком городе идет речь?\n",
      "\n",
      "- Историк Филипп Матышак шутит, что ЕГО можно считать основателем современного гостиничного бизнеса, заложившим жёсткие стандарты не для персонала отеля, а для гостей. Напишите ЕГО имя.\n",
      "\n",
      "- Одно из зданий Санкт-Петербурга было построено после Русско-японской войны на пожертвования. По словам историка архитектуры Бориса Кирикова, в годы блокады это здание и само превратилось в НЕГО. Ответьте словом латинского происхождения, кто ОН.\n",
      "\n",
      "- Для привлечения посетителей венский музей провёл необычную акцию: туристы могли увидеть ящик с картиной Эгона ШИле, движущийся по кругу вместе с НИМ. Назовите ЕГО словом французского происхождения.\n",
      "\n",
      "=== Топик 11 ===\n",
      "Количество документов: 32\n",
      "Топ-слова: ['автомобиль', 'модель', 'знак', 'водитель', 'технология', 'транспорт', 'компания', 'авиакомпания', 'итабаси', 'такси', 'стартап', 'рейс', 'метрополитен', 'штраф', 'мексика']\n",
      "\n",
      "Примеры документов:\n",
      "\n",
      "- Итабаси — район Токио, где в середине прошлого века было много предприятий, использовавших передовые для того времени технологии. Мэтт Альт называет Итабаси маленькой транзисторной ЕЮ. Назовите ЕЁ одним словом.\n",
      "\n",
      "- В Мексике наладили выпуск органической кожи Desserto [дезерто], которую изготавливают из ИКСОВ. Назовите ИКСЫ.\n",
      "\n",
      "- Известная компания выпускает ещё и так называемую «ТАКУЮ карту» — плоский прямоугольник размером с кредитку скрывает в себе ножницы, несколько отвёрток, пинцет, увеличительное стекло и многое другое. Какое слово, происходящее от топонима, заменено словом «ТАКАЯ»?\n",
      "\n",
      "- Анна Файфилд отмечает, что в Северной Корее люди пытаются выжить в том числе и нечестными способами. На пропускных пунктах полиция иногда может спросить у водителя, приготовил ли тот домашнее задание, подразумевая ЕЁ. Назовите ЕЁ.\n",
      "\n",
      "- В Японии следят за порядком и соблюдают этикет в общественных местах. Так что ОНА продается в комплекте с небольшим блокнотом отрывных листочков. Назовите ЕЁ.\n",
      "\n",
      "- Лондонский метрополитен работает с середины девятнадцатого века. Так что некоторые запчасти для ремонта метрополитена берут в НЁМ лондонского транспорта. Назовите ЕГО словом греческого происхождения.\n",
      "\n",
      "- «Soundwagon» [саундвэгон], или «Звуковой фургон» — это миниатюрная модель автомобиля, которая ездит по кругу. Несмотря на оригинальный дизайн и компактность, такие модели не стали популярными — ведь считалось, что они повреждают АЛЬФЫ. Назовите АЛЬФУ.\n",
      "\n",
      "- На дорогах США существуют специальные полосы для автомобилей, в которых есть хотя бы один пассажир. Кэндис Дикинсон была оштрафована за то, что передвигалась по такой полосе без пассажира, но попыталась оспорить штраф в суде. На это судебное дело иногда ссылаются, когда спорят сторонники и противники... Чего?\n",
      "\n",
      "- Одна из первых британских компаний по производству ИХ называлась в честь богини Весты. ИХ часто используют в задачах. Назовите ИХ.\n",
      "\n",
      "- Швейцарские полицейские называют автомобилистов, не очищающих свои автомобили от снега, водителями... ответьте несклоняемым словом, чего?\n",
      "\n",
      "=== Топик 12 ===\n",
      "Количество документов: 30\n",
      "Топ-слова: ['харьков', 'родный', 'крикун', 'ме', 'губерман', 'наряд', 'уэллс', 'арсенал', 'венгера', 'урал', 'ле', 'покинуть', 'вспоминать', 'повлиять', 'русский']\n",
      "\n",
      "Примеры документов:\n",
      "\n",
      "- На нарядах свиты принцессы Елизаветы было столько сияющих драгоценностей, что очевидец сравнил длинную процессию с НИМ. В чешском названии ЕГО есть слово draha [драга]. Назовите ЕГО двумя словами.\n",
      "\n",
      "- По славянской традиции среди участников могли быть, в том числе, ТАКОЙ тысяцкий и ТАКОЙ конюший. В пьесе девятнадцатого века роль ТАКОГО ИКСА отводилась отставному капитану. Назовите ТАКОГО ИКСА.\n",
      "\n",
      "- Египетский Тель-Эль-Кебир стал одним из центров белой эмиграции. Вынужденные покинуть Россию поселенцы описывали жизнь в палатках и парадоксально коверкали «Тель-Эль-Кебир»...как именно?\n",
      "\n",
      "- Рассказывают, что, когда в доме задрожали стёкла, известный человек со слезами благодарности подарил Ле Ме своё расшитое золотом царское платье. Ле Ме считался лучшим парижским ИМ. Назовите ЕГО словом, которое происходит от нескольких корней.\n",
      "\n",
      "- Горацио Нельсон учился ДЕЛАТЬ ЭТО, зная, что судьба военного переменчива. В произведении Ивана Тургенева русский распознаёт в Баден-Бадене соотечественников, так как те ДЕЛАЮТ ЭТО. Что такое ДЕЛАТЬ ЭТО?\n",
      "\n",
      "- Будучи в гостях у нувориша, герой Эрнста Юнгера говорит, что ИКСЫ с тем же успехом можно было бы заменить обоями. Форма одного дизайнерского ИКСА повторяет контур головы. Назовите ИКС двумя или тремя словами.\n",
      "\n",
      "- Когда-то, спасаясь от преследований, тысячи бурятских семей покинули родную землю и переселились из Советского Союза в Монголию. Колин Таброн пишет, что тосковавшие по родной земле старые буряты просили близких о НЕЙ и надеялись на сильный южный ветер. Назовите ЕЁ словом латинского происхождения.\n",
      "\n",
      "- Леонид Юзефович пишет, что некрупным монгольским лошадям тяжесть была не под силу, а потому ИХ монголы называли бычьими ружьями. От слова «ОНА», вероятно, образована фамилия классика. Что это за фамилия?\n",
      "\n",
      "- Внимание, в вопросе есть замены. Философ ВольтЕр признавал прусского короля ФрИдриха Второго достойным собеседником и называл его ТАКИМ ИКСОМ. Несколько ТАКИХ ИКСОВЫХ островов сейчас образуют автономный регион. Какие два слова, начинающиеся на одну и ту же букву, заменены ТАКИМ ИКСОМ?\n",
      "\n",
      "- Вспоминая мюнхенский Хофбройхаус, Надежда Константиновна Крупская отмечала, что пивом там смываются все ОНИ. В поездах немецких железных дорог ОНИ проявляются, например, в расстоянии между сиденьями. Назовите ИХ.\n",
      "\n",
      "=== Топик 13 ===\n",
      "Количество документов: 20\n",
      "Топ-слова: ['болезнь', 'пациент', 'повивальный', 'полидорь', 'мальчевский', 'бабка', 'перистальтика', 'железа', 'больница', 'хирург', 'работать', 'медицинский', 'заболевание', 'кожа', 'контроль']\n",
      "\n",
      "Примеры документов:\n",
      "\n",
      "- В 1930-м году обозреватель писал об американцах, которые смеялись над муками роженицы и отмечал, что ОН всё только портит. Назовите ЕГО односложным словом.\n",
      "\n",
      "- Причины для постановки того или иного диагноза иногда берут с потолка. Так, фрагмент одного произведения XVI века на медицинском форуме назвали «Невропатия локтевого нерва». Кто автор этого произведения?\n",
      "\n",
      "- В этом вопросе словом ОНА мы заменили два слова.\n",
      "По данным биолога Алексея Мальчевского, количество двусложных элементов в НЕЙ может доходить до 360. Впрочем, сам Мальчевский прожил только 69 лет. Благодаря кому ОНА появляется?\n",
      "\n",
      "- В одной книге, посвящённой истории медицины, приводится высказывание: «ОН – нянечка для бедняка». В девятнадцатом веке ЕГО действительно могли позволить себе даже представители рабочего класса. Назовите ЕГО.\n",
      "\n",
      "- Джеймс считал, что болезнь возникает из-за закупоренных потовых желёз. Эффективность ИКСА он объяснял очищением этих желёз. ИКС часто упоминается в книге «Заключённые, любовники и шпионы». Назовите ИКС двумя словами.\n",
      "\n",
      "- Перистальтика – это сокращение стенок полых органов, способствующее передвижению их содержимого. Билл Брайсон сравнивает перистальтику с НЕЙ. Одно из ЕЁ названий связано с мероприятием, имевшим место в середине 1980-х. Назовите ЕЁ.\n",
      "\n",
      "- Словом АЛЬФА мы заменили в вопросе одно слово.\n",
      "Популярная в 17-м веке псевдонаучная геронтологическая практика появилась ещё при царе Давиде, которому девственница служила ночью в качестве АЛЬФЫ. В одной идиоме целостность АЛЬФЫ нарушил... Кто именно?\n",
      "\n",
      "- Словами ДЕЛАТЬ ЭТО мы заменили два слова. В начале XX века бытовало мнение, что в некоторых случаях тяжёлые болезни могут передаваться с частичками пыли. В связи с этим один массачусетский клуб даже предлагал своим членам ДЕЛАТЬ ЭТО при любом подозрении на заболевание. В каком романе массово ДЕЛАЛИ ЭТО?\n",
      "\n",
      "- Обостренная чувствительность при некоторых психических заболеваниях — не сказки. Дарья Варламова пишет, что даже грубый шов на одежде может сделать человека похожим на НЕЁ. Ответьте тремя словами: кто такая ОНА?\n",
      "\n",
      "- Спазм икроножной мышцы в английском языке называют выражением, которое можно перевести как «карлова ОНА». По одной из версий, дело в том, что в XVII веке Карл Первый ограничил финансирование элитного патрульного корпуса. ОНА — разговорное название единицы измерения. Какое слово мы заменили словом ОНА?\n"
     ]
    }
   ],
   "source": [
    "df['original_text'] = df['Вопрос']\n",
    "df['topic_id'] = topics \n",
    "\n",
    "def show_cluster_documents(topic_model: BERTopic, df: pd.DataFrame, n_samples: int = 15) -> None:\n",
    "    \"\"\"\n",
    "    Визуализирует документы по кластерам с примерами текстов и ключевыми словами.\n",
    "    \n",
    "    Для каждого топика выводит:\n",
    "    - Идентификатор топика\n",
    "    - Количество документов в кластере\n",
    "    - Примеры документов (случайная выборка)\n",
    "    \n",
    "    Параметры:\n",
    "        topic_model (BERTopic): Обученная модель BERTopic\n",
    "        df (pd.DataFrame): DataFrame с текстами и метками топиков\n",
    "        n_samples (int): Количество примеров документов для отображения на топик\n",
    "        \n",
    "    Возвращает:\n",
    "        None\n",
    "    \"\"\"\n",
    "    \n",
    "    for topic_id in sorted(df['topic_id'].unique()):\n",
    "        cluster_docs = df[df['topic_id'] == topic_id]\n",
    "        \n",
    "        print(f\"\\n=== Топик {topic_id} ===\")\n",
    "        print(f\"Количество документов: {len(cluster_docs)}\")\n",
    "        \n",
    "        if topic_id != -1:  # -1 - это шумовые документы\n",
    "            top_words = [word for word, _ in topic_model.get_topic(topic_id)[:25]]\n",
    "            print(f\"Топ-слова: {top_words}\")\n",
    "        \n",
    "        # Выводим примеры документов\n",
    "        print(\"\\nПримеры документов:\")\n",
    "        for _, row in cluster_docs.sample(min(n_samples, len(cluster_docs)), random_state=42).iterrows():\n",
    "            print(f\"\\n- {row['original_text']}\")\n",
    "\n",
    "show_cluster_documents(topic_model, df, n_samples=10)"
   ]
  },
  {
   "cell_type": "code",
   "execution_count": 26,
   "metadata": {},
   "outputs": [
    {
     "data": {
      "application/vnd.plotly.v1+json": {
       "config": {
        "plotlyServerURL": "https://plot.ly"
       },
       "data": [
        {
         "hoverinfo": "text",
         "marker": {
          "color": "#CFD8DC",
          "opacity": 0.5,
          "size": 5
         },
         "mode": "markers+text",
         "name": "other",
         "showlegend": false,
         "type": "scattergl",
         "x": {
          "bdata": "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",
          "dtype": "f4"
         },
         "y": {
          "bdata": "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",
          "dtype": "f4"
         }
        },
        {
         "hoverinfo": "text",
         "marker": {
          "opacity": 0.5,
          "size": 5
         },
         "mode": "markers+text",
         "name": "0_персонаж_герой_картина",
         "text": [
          "",
          "",
          "",
          "",
          "",
          "",
          "",
          "",
          "",
          "",
          "",
          "",
          "",
          "",
          "",
          "",
          "",
          "",
          "",
          "",
          "",
          "",
          "",
          "",
          "",
          "",
          "",
          "",
          "",
          "",
          "",
          "",
          "",
          "",
          "",
          "",
          "",
          "",
          "",
          "",
          "",
          "",
          "",
          "",
          "",
          "",
          "",
          "",
          "",
          "",
          "",
          "",
          "",
          "",
          "",
          "",
          "",
          "",
          "",
          "",
          "",
          "",
          "",
          "",
          "",
          "",
          "",
          "",
          "",
          "",
          "",
          "",
          "",
          "",
          "",
          "",
          "",
          "",
          "",
          "",
          "",
          "",
          "",
          "",
          "",
          "",
          "",
          "",
          "",
          "",
          "",
          "",
          "",
          "",
          "",
          "",
          "",
          "",
          "",
          "",
          "",
          "",
          "",
          "",
          "",
          "",
          "",
          "",
          "",
          "",
          "",
          "",
          "",
          "",
          "",
          "",
          "",
          "",
          "",
          "",
          "",
          "",
          "",
          "",
          "",
          "",
          "",
          "",
          "",
          "",
          "",
          "",
          "",
          "",
          "",
          "",
          "",
          "",
          "",
          "",
          "",
          "",
          "",
          "",
          "",
          "",
          "",
          "",
          "",
          "",
          "",
          "",
          "",
          "",
          "",
          "",
          "",
          "",
          "",
          "",
          "",
          "",
          "",
          "",
          "",
          "",
          "",
          "",
          "",
          "",
          "",
          "",
          "",
          "",
          "",
          "",
          "",
          "",
          "",
          "",
          "",
          "",
          "",
          "",
          "",
          "",
          "",
          "",
          "",
          "",
          "",
          "",
          "",
          "",
          "",
          "",
          "",
          "",
          "",
          "",
          "",
          "",
          "",
          ""
         ],
         "textfont": {
          "size": 12
         },
         "type": "scattergl",
         "x": {
          "bdata": "7EW5QJu5pEDg/6BAVteOQJU3mUCMrq5AEZKkQNRck0Asa6pAc26QQDddm0Bta5dADDp6QNVHtkADGZ1AVIuKQOblcECxIpJADNaXQCLbcUBiHbhAeOuOQM6EpkDCsaVAA/mgQDARq0A2EJJAOQ6FQM9HmEDgoqNApXt8QHV1ckBd+LtA5fenQGVRikDvVZBAHA2YQHlRdUComKNAH8yLQFwxoUDula9Aqq6jQNEYjkATDp1Aj2KhQJ0MjkAg8XdAVMKTQLQ/eECT5L5AKsqPQNw4jkBuMG9A7/uiQFXsfUD/EJdAAjaWQEHOmEA9Ao5AGVuTQDjunkB4q6VANaGFQNlurkBpyo9A4PSAQA6fr0A7sapAtWCcQBg3kUCWAa5AFISEQP8tnECngZNAsOK0QHPdq0DQoohABpWDQEzArEC/R6RAYH+AQC/8ikDstplA+LSgQEeLjUA6MlZA6S2gQPnTi0CCL5pAtw6hQEAckUDVyqtAiFmvQOyitUAMmLhAreK2QBw9oEAPTJFAJSi+QNQkakDeY5hAfxWbQNa4lUD+4rZA8XCKQKR6jkBkrLVA9fVvQCDfm0C/E3JAdAi5QG/SqEDzh5NAoDamQGgGmECdEZZAn+mjQKCuj0DBFqdAP7OsQOecpUCIrLNAV7uIQPYqo0C4gbFAoWqeQG7ne0CUkbpAUWqDQMqsd0CZVaFAWBCrQHTVrUASonBAf5lwQFBbdUDeNrRAEpaMQBtEeUAdIpRA2AaYQKAvoEBtSLVAiH2gQN+Im0BYWb9A5KxhQI5us0BUlG5ANuysQG+UtEAwYZ9AlW6VQDWisECrhYlAGiqaQCEysUBU7KFAM/agQODQnEB8LJlA0WagQIoDkEA2rYRA3kxyQKe0l0CZV2xAHD21QDs9okBgNLxAPhCkQP0nu0Cqe6FAARq2QLxkl0DKcqNAbfyfQEg6qkCiP5BACj2uQC/Rt0CC3bdAywaYQDCskkA6I6ZAmoCaQF/6rECmlXJAX0WQQGVvukDyerdA7O6DQFZOeUBbbqtA8TyrQKAWjkB00ohA09yaQA3KqkCM96BACqWcQL16uUDhaWdA",
          "dtype": "f4"
         },
         "y": {
          "bdata": "JcouQC82P0DJkVNABG+hQNcobUCq6UdAjjFXQKE2mUBzeVVAAcmkQEL7WUCDE5RAwSeNQGSeZkARpKtA98KnQD6GjUB5K6RA3UVsQI8Gj0AB7VNAP5WnQN4bWkAjW1NAkh1YQODQQUAPI6pACh2eQPXVp0DwXUxArnCGQKvli0BEMlZAuS5BQHpHl0COR6lAurxnQFNBdEBGhUlABi6oQJnCVEACgHdA14lDQDhalED9BWhAWvNZQOgeqkDV/oNAViibQAE3k0DNEGpAPh2PQEPmpkAk+oFADVFVQKuog0DWIq9AfSZvQKpgZECmhatABCKeQAeaVkALNF9AQ5WdQNgccUAua6xAhyeBQNU4PECXe3hAqtdVQFiXmUCpKEJAYL6gQECSZUD6FK9A+L93QNzua0CrwZZAvw2cQF0GWkAt7EVA3P6AQEnRkUCxnqdAUFOrQGLGqkBc1IhAB05MQKM/kkDXDmpAuASsQLPtmUCfR2pA3xU7QOraaEBcGUVAu2xXQNwkb0BWDKpAEGFCQPxscEB4aGhAK+hEQLlQr0B+u01AP0ymQFJej0De34NAAE57QJgErEDl4IpASQ80QP/MUECZ9rBAj0dMQOAIZUBSn7BAMs9TQNkPrUAmlFdAHZ1YQIoFU0BCNFlAUOulQNtsV0CUAadA9iutQPNkeUCzAV9A1BetQCN3jEB8w1FAQ0WmQD3zQEBxT5BAJLqMQGRAjUAq/ExAL++fQAO4ikB+9aVAOCixQHgdYUC67UhAX85BQAnpQ0Bx4nVANfqJQCZNV0AujJJAzoJEQBsXQECYGV1AISiYQDbqXkAl6J9AaYWxQEWqZ0DYv1VAuZhQQPi6rkDoWGlAshRhQPs4oEDwp6JAYAV/QH9ER0DZNIlAy/tfQI+pU0C1OnZAS5JSQDlUQUCiKlpAvdtQQMXGTUCMEVpAWidXQLlkV0BUSJ9AQCl3QLJffUAAXzNAsW1IQOV3P0ANWExA1mevQETgRUArPX1A9TqQQKtygUBfMjNAfPSgQJauiUDrpHxA7nFnQEEQqkBwQKpA/hpIQPRZQkDoW1dADhBbQKlygEA6M4RA",
          "dtype": "f4"
         }
        },
        {
         "hoverinfo": "text",
         "marker": {
          "opacity": 0.5,
          "size": 5
         },
         "mode": "markers+text",
         "name": "1_роман_язык_фраза",
         "text": [
          "",
          "",
          "",
          "",
          "",
          "",
          "",
          "",
          "",
          "",
          "",
          "",
          "",
          "",
          "",
          "",
          "",
          "",
          "",
          "",
          "",
          "",
          "",
          "",
          "",
          "",
          "",
          "",
          "",
          "",
          "",
          "",
          "",
          "",
          "",
          "",
          "",
          "",
          "",
          "",
          "",
          "",
          "",
          "",
          "",
          "",
          "",
          "",
          "",
          "",
          "",
          "",
          "",
          "",
          "",
          "",
          "",
          "",
          "",
          "",
          "",
          "",
          "",
          "",
          "",
          "",
          "",
          "",
          "",
          "",
          "",
          "",
          "",
          "",
          "",
          "",
          "",
          "",
          "",
          "",
          "",
          "",
          "",
          "",
          "",
          "",
          "",
          "",
          "",
          "",
          "",
          "",
          "",
          "",
          "",
          "",
          "",
          "",
          "",
          "",
          "",
          "",
          "",
          "",
          "",
          "",
          "",
          "",
          "",
          "",
          "",
          "",
          "",
          "",
          "",
          "",
          "",
          "",
          "",
          "",
          "",
          "",
          "",
          "",
          "",
          "",
          "",
          "",
          "",
          "",
          "",
          "",
          "",
          "",
          "",
          "",
          "",
          "",
          "",
          "",
          "",
          "",
          "",
          "",
          "",
          "",
          "",
          "",
          "",
          "",
          "",
          "",
          "",
          "",
          "",
          "",
          "",
          "",
          "",
          "",
          "",
          "",
          "",
          "",
          "",
          "",
          "",
          ""
         ],
         "textfont": {
          "size": 12
         },
         "type": "scattergl",
         "x": {
          "bdata": "BlPTQMwIs0BAMrpABi/LQH9HrkBV275A4Wm4QNsAsEAf3chAWlXBQENj0kAPw8VAN6LCQOIa1kANBbxAs+3QQKVEv0CtfstAy+zJQI+wxEBzb61ApCLEQOdVxEDZOMVAMR27QN1TwEA5wcpA8/qyQAVlrEDgKLFANES5QNUSxEB78M1APCGzQHrtp0BI26VAltW9QFMmukAk3KtAmEaxQLTUt0DF58pAV5XHQHqU1ED/8rFA0Jy/QAijw0DzYLtAY6HDQC6+rEDRnLZAUCi0QDTZy0DaNb5ATbi5QPi4xECOQadA5hDNQJrfsUD/2L9AnMmsQBJv1kD7XMJAN87AQFVfyEBZbLZACx7SQObIx0DOj79AD4u/QC4huEBZadRABtfJQCnHrUDcnMNAVuCtQLGwyECgHcNALwHUQD+tx0BXtMpAVoHDQL9nykCwiMJAK/bJQKUMw0ClvcBAk3q9QLjRyEAIrslA3AzRQJ5Iq0B8YL1AYq2tQLODs0DNaKtANqPDQIKMuECslsdA3EK0QNKzxkAL5bJA5lK7QGbftEB1ncdAN4XJQIsrxkCuS7tAExTAQHR7xkAw/bhAY+PKQObruEDg9b9AdP+3QP6QtEAF9M9A4//KQAGs0kBZJa5ADnu7QPl3wkCIbtVA+u+9QGhTtEAsabFATx7NQLeJq0C3Y8tAQC22QFGtrkAeab9AKMS5QG2SxEB/5sJA1Bm6QGbfuUBUYK5ACpLMQAKjqkBHYrlAOybGQD4nzEBifshAU+mwQITewkB3yMZAb2fDQI2BukCmC8BA3F2iQKdxtkDlcL1A8w7BQIt9vUDtoMJAkHvBQJjLykBrHLdAClK1QJmYsECywr9A+XK2QDpYw0CI1LdAwyTFQGHHvkAI7rpA",
          "dtype": "f4"
         },
         "y": {
          "bdata": "CnbPQDCc3EAs49tAskfSQBpVyEBEZdNA7VzfQBAL3UCeqt1AR47RQHeEzUByDdRAaP7cQFR5zkDDJdZAE5DEQO150EBhXtVA0R3UQHpK0kCagtpAszrbQCQ20UCoRdpABLXNQK9c2EAoQMhAl9XZQKiC2UBXwtNAU3fZQMmY1UBO/NZAYkTcQEsxzkAmzs9AFOrZQKgezkBYoMtAIlfUQKkt2kDUdctARdTJQARozEBcSthALqrVQNiFw0Bg9sZAIQHQQKuO2UBv0eBARtHZQA7F0kDDSNhAclTeQHIGzECzZtlAf5jWQFhy1EDwaN1AQ1TZQObYxkBKmNNAO6rWQKQN0kCluttAN4zLQNEazkBHjthAHu3QQPES4EDIk8xAco/LQIRV0UDFkr5ADrXKQOsy2UAiodRACjvPQJX1zUBfpNtAzJfZQF/exUDvcMxAPHDGQE9d2UDoUN9ATAnbQOj71EAXFdJAiyHRQAsI2UB+UddAterWQPUN3kAQVtVAp//OQBSL30B5JtdAMQLgQNk1yUB6ONVALpfcQDPn2ECnX8lAli/YQLPJz0D419xAjRDSQJvW1kCQvtBAVnjSQKnr30AaIMpAQwfbQNCmx0DgJM5AQw7bQGgAzkDAFdtAlW7kQKws1EBfrs5APOfXQJBe3EDUTtRA8TrHQEmR2kBvLsZA/ObRQN3X3UA4ktJAVRbZQIUxx0CJVd1As4zZQFOF30DCVdZAtQLTQEOvy0An495AdJHRQGhL0EBfH8hAqpHWQLVPz0At295AopXVQN7r0EDc59FAt//QQFlS1kDI7tRAWwzaQDR75EBrvNNA7BnOQI1wzUAVW95AndreQEYf2ED7jNRAb2/cQPcgzUB2MONAiODQQMyrzkAEeuFA",
          "dtype": "f4"
         }
        },
        {
         "hoverinfo": "text",
         "marker": {
          "opacity": 0.5,
          "size": 5
         },
         "mode": "markers+text",
         "name": "2_война_король_корабль",
         "text": [
          "",
          "",
          "",
          "",
          "",
          "",
          "",
          "",
          "",
          "",
          "",
          "",
          "",
          "",
          "",
          "",
          "",
          "",
          "",
          "",
          "",
          "",
          "",
          "",
          "",
          "",
          "",
          "",
          "",
          "",
          "",
          "",
          "",
          "",
          "",
          "",
          "",
          "",
          "",
          "",
          "",
          "",
          "",
          "",
          "",
          "",
          "",
          "",
          "",
          "",
          "",
          "",
          "",
          "",
          "",
          "",
          "",
          "",
          "",
          "",
          "",
          "",
          "",
          "",
          "",
          "",
          "",
          "",
          "",
          "",
          "",
          "",
          "",
          "",
          "",
          "",
          "",
          "",
          "",
          "",
          "",
          "",
          "",
          "",
          "",
          "",
          "",
          "",
          "",
          "",
          "",
          "",
          "",
          "",
          "",
          "",
          "",
          "",
          "",
          "",
          "",
          "",
          "",
          "",
          "",
          "",
          "",
          "",
          "",
          "",
          "",
          "",
          "",
          "",
          "",
          "",
          "",
          "",
          "",
          "",
          "",
          "",
          "",
          "",
          "",
          "",
          "",
          "",
          ""
         ],
         "textfont": {
          "size": 12
         },
         "type": "scattergl",
         "x": {
          "bdata": "62+SQDeCGEAUFD1AAxgCQONiekCJ6o1A5HqTQOxnAEB/PDtAZW5rQAZ6DUBXmDRA5pZaQP5ePUDCB5NAfDM6QGjjjEB8SWtAXAkwQGLsJ0DXjQ5AJqwxQHftb0Dw/IlAxCEeQMm/lECuqylAfEQ/QI3BNEDQ/i1AC+ACQEjxFUBV9hxAGqUfQJrTEkB0FRRA+OlcQNhMBEBT7CJAyiJsQPS8I0DornJAejYJQHO5G0B3KjNAMBFYQO/vGkCVro5AbfA5QApUZ0CuSDVAL1dkQGbCiEBSx3pAZJhzQMzHLkDyKVVAFaI5QHirD0AaailANOIbQJb3YEBWQn1A0piJQPIBKEBSyEpAyCwgQG1fVkDIGjRAVPEwQLEUCUAd0yhAzAvuPyR8hECmUCNAyaEiQHqCeEA0IwBAoTYrQK/vJkAXEjBA20ZWQI0aJUDrhwBACJ4SQB3CVEBfPj1AaXl5QKDZOkCOK2FAF/FCQHHaEUA/0ZJA+A8bQG7FRkAyTFxAuUsHQLWwaUBQqZJAhe8PQDKIPkAqf4BAR74OQPiXj0BrLxNAohU4QDcrVEDdrJBAQR8iQBFcckAslZJA6xoCQCaOGkCjkJBAqqcWQLsbZ0C9PfA/haA+QI72BUDwkw5A1H0XQE9DUEDEwx1A8pM5QKGMPUDLVyZAiZ0WQDKjxkArxFZA",
          "dtype": "f4"
         },
         "y": {
          "bdata": "K/kJQOhckkANLHhAD6KSQJtiKECcJuU/O/LiP7/+kUBz83tAXjlAQBARkUCOf4RANnY1QNA2gkDliqw/mR+EQAfUBkAWhDhAo06RQC4RikBQeHtA82FZQPxGPUAb8Og/UlubQBH6tz9Y0IRAjPFrQPL/b0BxF5pAzLyRQDQIkEC+9HhAHPCYQO2Mk0BbLnVAWk8sQHnwjUAlm41Ai6omQK4Rb0B/iDFAgfGEQMK0kEAzgYVAmDMuQLLmkkBvihNAgcN2QJ3XKEDhVnhAzCM7QHRWFkB2bzZAUAU8QMpolUDgzTlAKzGNQAJjkEAhs5NAJTSPQM40WUCfoBxA0g4RQMt/h0ByIUZA5oaUQHkRMkAsAX9AzP6VQGNriUAqioNAbW6OQObdKEBNYZhAsdN/QNeWOUAJX3dADNeZQDVymECBKl5AGatJQCxuhUA+FJFAVv2IQBi8OkDcUH9AAPEoQBXwhkCGel9AgxuQQH6UiUAWM/E/2qWAQDEkO0AnSVRAdTWQQPVMQUCc+/8/sJ+HQB9/iEADUSxAw56KQGoJFECMjJZAnyGDQDqrOUAIIOg/E/iJQGRDM0AV8vU/njSLQEv8mUCXSQpAFWKVQBqMMUCl1I1ATWBvQLpHkUAhcYdAqQCBQCHzNkC5dpNANi+bQHktmUAZVJlA9XmdQM10T0Bm2GBA",
          "dtype": "f4"
         }
        },
        {
         "hoverinfo": "text",
         "marker": {
          "opacity": 0.5,
          "size": 5
         },
         "mode": "markers+text",
         "name": "3_учёный_животное_обнаружить",
         "text": [
          "",
          "",
          "",
          "",
          "",
          "",
          "",
          "",
          "",
          "",
          "",
          "",
          "",
          "",
          "",
          "",
          "",
          "",
          "",
          "",
          "",
          "",
          "",
          "",
          "",
          "",
          "",
          "",
          "",
          "",
          "",
          "",
          "",
          "",
          "",
          "",
          "",
          "",
          "",
          "",
          "",
          "",
          "",
          "",
          "",
          "",
          "",
          "",
          "",
          "",
          "",
          "",
          "",
          "",
          "",
          "",
          "",
          "",
          "",
          "",
          "",
          "",
          "",
          "",
          "",
          "",
          "",
          "",
          "",
          "",
          "",
          "",
          "",
          "",
          "",
          "",
          "",
          "",
          "",
          "",
          "",
          "",
          "",
          "",
          "",
          "",
          "",
          "",
          "",
          "",
          "",
          "",
          "",
          "",
          "",
          "",
          "",
          "",
          "",
          "",
          "",
          "",
          "",
          "",
          "",
          "",
          "",
          "",
          "",
          "",
          "",
          "",
          "",
          "",
          "",
          ""
         ],
         "textfont": {
          "size": 12
         },
         "type": "scattergl",
         "x": {
          "bdata": "PkvdP+S5TEAN0f0/5p4ZQNjyDkCK7QlADJ0XQNJe2j8NgDlAJ9nvPyeeF0BpGR9A8fsQQPmVUUCKsjBAiH7dP/CPQUDIiBtAgqBdQFg2KEC5rQlA97TkP1KGWEDgmzFAcw3oP8FwMUAV/R5AY1xaQCOOHEBfpilA6ddRQK2+XkDWSBhApdk1QMpf/j/ZYitAh3YaQPk+FUD6SeM/MsdfQOTrE0ApsiBAzzsAQNeWFECxtSNAc/IqQHFxFECY2OM/0aBQQAoh9T+BbhFA2VD1P8oSD0D7HO8/14UPQIfXGEB0bTJAt1RYQDMtS0Ca7xdAZrcYQLnrKEAKKVlAcTtbQASzQkAK+V5AlOzzP8UJQ0CKL+w/rJcjQGNSXkBQeUtAHPhaQJ67KEDsCeA/PDLgP6EVVUDNN1ZAtMklQGzQW0Dq8Pw/TmgiQMTQ4D/XwSNAxpU0QAWSIkAqUl5AVeAWQP+aFkAH0ihAsv1UQG5nQ0AcfktAGwwVQKm+SUAjrB5A2PojQFXyHUCs2lZA64ERQOlVBEAbB09AhHFZQK7mPEBrnyFAwmglQJeeGkByh2ZAeBAhQLcpS0CqXyNAnPYiQBNBL0AJt1RAX+XeP5PxKUA=",
          "dtype": "f4"
         },
         "y": {
          "bdata": "A9LDPxYEoj+W2tQ/Hn+UPyHU0j9tstA/MQcNQNlsyT+osME/P9LEP09h0z/9UsY/sc0HQDYowT/1has/wyfAP5yMyT8ZuQZAvCq5P7EqpD/wI7g/mCTGP4rtxD/trwtADYjJP+LvvT+thLU/lCvGP068FED1HQ5Af//SP+hKxz/0FwRAVHivP5z4wj/NMg9AFb+XPxGR4T/1P8Q/XgfAP2WY3j8a8gZA3WXjP/wIlD/qkrw/YVMMQKiY6j9IW78/OoW+P4Zl4j+hxdw/+33ZP960tD/zNuc/vg6xP3Q2oj/siqw/goDQP2Ouuj9O9NA/ROYBQOXW8T8Dmaw/AfifP+Yz5D/6Iqg/WnvPP+AGxD/qqM0/X/gAQMcemT9cpN4/nRG9P3OaDkCvH8Y/6oXSP2fY1D+IW7M/kJAFQNzQ0D/Mrss/hWS+P7i0wj/tPtU//IKuPziOBkCo5Mg/t3vJP6QxCkB2y/4/6HbNP9Nv7j8/Gek/BP2fP0qP3z+SDJ8/bb+wP2mwzz/XV9c/oTjaP7FYxz9LIc0/6PjBP+qA+T8GiaE/5UoUQKk7mz8pAbg/jFXIP02F1z/xU6c/Pd0JQP66wD8R2+M/E3jCPx39GEA=",
          "dtype": "f4"
         }
        },
        {
         "hoverinfo": "text",
         "marker": {
          "opacity": 0.5,
          "size": 5
         },
         "mode": "markers+text",
         "name": "4_команда_футбольный_игра",
         "text": [
          "",
          "",
          "",
          "",
          "",
          "",
          "",
          "",
          "",
          "",
          "",
          "",
          "",
          "",
          "",
          "",
          "",
          "",
          "",
          "",
          "",
          "",
          "",
          "",
          "",
          "",
          "",
          "",
          "",
          "",
          "",
          "",
          "",
          "",
          "",
          "",
          "",
          "",
          "",
          "",
          "",
          "",
          "",
          "",
          "",
          "",
          "",
          "",
          "",
          "",
          "",
          "",
          "",
          "",
          "",
          "",
          "",
          "",
          "",
          "",
          "",
          "",
          "",
          "",
          "",
          "",
          "",
          "",
          "",
          "",
          "",
          "",
          "",
          "",
          "",
          "",
          "",
          "",
          "",
          "",
          "",
          "",
          "",
          "",
          "",
          "",
          "",
          "",
          "",
          "",
          "",
          "",
          "",
          "",
          "",
          "",
          "",
          ""
         ],
         "textfont": {
          "size": 12
         },
         "type": "scattergl",
         "x": {
          "bdata": "u3nkQPZv5EBLceJAnWnWQH+h2kDlJeFA5OfgQAcf1kBRDN5A/zXfQGgm40DUK+RAvRfeQDcN4UC1suFAomjcQCV33kCRC+VAL1jhQLXw0kDG6MtA+hHeQPDb5kBaPtNA60DiQC+82UBvo9pAu1DhQGWI4EDzb9RAS/3eQFeP40BzHuNAq7jmQAUv20D3cttAJGXfQB6510CNNddALkfdQLd52UA3zeRA/GLoQJoA6kCtyOJAXjPjQCvu0kDXmsxANt7gQGkr6kAMfMtA2JfdQDMI2EDFwd1AP0ThQHNy2kA95+BAJozLQEuq2EB/T99AVVXlQFeQ4kBOCOlAa53hQD/x0kD8NtpA1/bjQI5k40A6o9lArvjjQE9T3EAmhc9ADuLdQPJ+2UD/POJA+mXcQIvP3UDBTtZAnSrdQCLJ3ED6u+FAeDfkQIlu1kAkCNxAq8zeQPyA40C4bN1AgT7nQBYy0UDzwuFA4W7hQNuC2UASWd1ABffQQGF64EBOutdAJ8XiQF8u0kA=",
          "dtype": "f4"
         },
         "y": {
          "bdata": "V33qPybF7j/6Qvk/c7H1P0YkBED5HdU//grUP95x2z/q1M0/BXjcPxY94z8mxds/o4/gP6gB4T/cstI/yBTJP/6QC0CIDvA/z5cAQK+76D+ced8/Tz3sPwIi9T/6J/M/HQzYPzmp2T8F/eA/FO/WP5H81z9fHN4/CM3bP7ky4j8MEPk/6LPgP0erzT/oitg/wjDcPxf21D+20dI/guXlP7izC0B83eE/Y2nxPw3v/z+d4wZAOibYPyHiHECtSQdAbtPVP9TY/j/7J9o/KIrHPyiTxz9LLghAgtfTP9Fi1z+iqAdAL2kKQDHv1j8MFuM/hbvlP7O+4z+XiQdA4VHPP9bz5z/wsck/jhzrP55o3T84mc0/EZDaPyCHAUBX8P4/q1XOPzl43D9Z4do/H97sPyHjBUC5B9Y/tanIP30RAEDDpOQ/imrpP7iZwj9YxQJAp/zmP01c6T/eDc0/v+viP3sX6T9RZcQ/Rs7pP7ee9z/gJdE/N9H1P1BgCEBw1NI/3gbdP/0u1T8=",
          "dtype": "f4"
         }
        },
        {
         "hoverinfo": "text",
         "marker": {
          "opacity": 0.5,
          "size": 5
         },
         "mode": "markers+text",
         "name": "5_древний_бог_язык",
         "text": [
          "",
          "",
          "",
          "",
          "",
          "",
          "",
          "",
          "",
          "",
          "",
          "",
          "",
          "",
          "",
          "",
          "",
          "",
          "",
          "",
          "",
          "",
          "",
          "",
          "",
          "",
          "",
          "",
          "",
          "",
          "",
          "",
          "",
          "",
          "",
          "",
          "",
          "",
          "",
          "",
          "",
          "",
          "",
          "",
          "",
          "",
          "",
          "",
          "",
          "",
          "",
          "",
          "",
          "",
          "",
          "",
          "",
          "",
          "",
          "",
          "",
          "",
          "",
          "",
          "",
          "",
          "",
          "",
          "",
          "",
          "",
          "",
          "",
          "",
          "",
          "",
          "",
          "",
          "",
          "",
          "",
          "",
          "",
          "",
          "",
          "",
          "",
          "",
          "",
          "",
          "",
          "",
          "",
          "",
          "",
          "",
          "",
          ""
         ],
         "textfont": {
          "size": 12
         },
         "type": "scattergl",
         "x": {
          "bdata": "6mvxP3wOyT+8MyZADW38P757+T80FtI/RpvdP6K+wD+cBuI/+TfZP6fD6D9rDR5A9r70P5wtHEB0Td4/JU6vP3GVvz/1+8k/wUD0P3SU5D/mLLQ/cVm8P2JS9z9fcus/5IXzP7ZVzT+GHcM/jysBQNSLDkAieb0/zIr9P53hBkDb/uk/RQC6PxKyxz8aNLc/nmjVPyi30z/o99k/K1KwPxO4+D+ls+I/x8W0P5Ux8D+Ox8U/CAMIQPRV8j9ZIeI/8OHbP2uO7T8ZfbQ/MG3qPx5U+T+2OvM/WIjvP1wL7j9zb+I/iH3GPxeUFEDvP/0/XRO1P75nBUA8wtg/cHD6PzqZTEDFlSxASYQHQC7B2z9AcsY/m2DjP4Op2j/42Og/xcEWQIb+zz+Gwg1AFjMCQESGwj+IThFAcbvhPzF5AECG/74/kDvVPxr65T9X79M/6DkbQPUm4D+Xneo/jfriP0U58D+sQPI/tqvNP/grzj8MVcQ/+sziP+5O5T8PHwlAqxvZP4FV3z8=",
          "dtype": "f4"
         },
         "y": {
          "bdata": "l+5PQK93hEADr3BAgD87QKRuWkCmCURAjr1MQH9GiUAOCYBAiS9/QKhvWEAL0ApAG5JSQDN96z/c9WpAYDKIQHV9iUCqFmlA/wshQCxSd0Ar0oVABtyBQBw/ZUDv11lADz1JQKbPPUBRNolAm7Z0QC2bGECgrIdAjfBbQJQyc0CHWjlAxm+DQLdAdkDCoodA1UhtQNJIikAUAjZAnByDQPyNI0AEHyRAQq+GQGPYaEAuNoJA4tDyP2kNeUBcczNA318sQEsBPED474RA52o6QAQMYEBewUxADdI4QHecUkD7v3dATAN/QHPfhkCuG0VACZSCQItqGUCxu0FA1l5hQM0xqECZlYhAGD4+QJF9RUBEwH1ACi0xQJJFL0BeGXdAse36P55wdkDuoQlA8G91QDNEPUDewfo/e49sQA2iO0DfRYhAIjp+QCg/gkAgnzVA5hgKQFgmg0CHOkBAkhFzQBIubEC8jGBA3c13QM5LiUBG54ZAK1iFQFIhdEDYoRdAwsl+QD1FdUA=",
          "dtype": "f4"
         }
        },
        {
         "hoverinfo": "text",
         "marker": {
          "opacity": 0.5,
          "size": 5
         },
         "mode": "markers+text",
         "name": "6_еда_блюдо_напиток",
         "text": [
          "",
          "",
          "",
          "",
          "",
          "",
          "",
          "",
          "",
          "",
          "",
          "",
          "",
          "",
          "",
          "",
          "",
          "",
          "",
          "",
          "",
          "",
          "",
          "",
          "",
          "",
          "",
          "",
          "",
          "",
          "",
          "",
          "",
          "",
          "",
          "",
          "",
          "",
          "",
          "",
          "",
          "",
          "",
          "",
          "",
          "",
          "",
          "",
          "",
          "",
          "",
          "",
          "",
          "",
          "",
          "",
          "",
          "",
          "",
          "",
          "",
          "",
          "",
          "",
          "",
          "",
          "",
          "",
          "",
          "",
          "",
          "",
          "",
          "",
          "",
          "",
          "",
          "",
          "",
          "",
          "",
          "",
          "",
          "",
          "",
          "",
          "",
          "",
          "",
          "",
          "",
          ""
         ],
         "textfont": {
          "size": 12
         },
         "type": "scattergl",
         "x": {
          "bdata": "FkaDQMcPc0AvpVNAqr5/QEiyikD0uIZA7Rt1QKzsiUAX1FJAVsOCQEHdbEBB0oNABlJsQJ9Ch0Ab23VAn16IQDEjeUB1UIdAl8+GQN06dECF4FlA67FeQPGCYECFfmVAkIRgQHU1jUDE71ZA3cNZQLcOhEAUJyZAT46MQKqyV0DywoxAFYpuQEn0g0BbxG5AQ0ZjQFWUM0DVNnRAOm1dQC1xjkCPf4dAMNt+QBDoaUDWizlAjJU2QATug0AYAYBAxIVVQNV9bkDExIRAnxVmQGrYf0BvRnhACINVQB7fJ0A73WVAWRR2QPbrYECA8WZAsmBvQPmEX0BFyGpAdrJSQP9bX0Bt9XNACuViQJU8iUAkKCxACbd5QPxiKkCTQ4tAYRhTQJ6vgkAioIlAZJWKQMQrZUBiHohAgwrNQGCTUUCFZ25AZsFUQFVQekD63IBAmPB5QKZYjUDq5m5AAZ94QENuhUDr5WBAcU5OQFTrU0A=",
          "dtype": "f4"
         },
         "y": {
          "bdata": "2V2jPoZK6z7xpgQ/4zuvPiXn7z6HpNo+fanwPpqy4D65gxk/TzcDPzUeCD8bZgU/YJnpPvJMBz+VAgg/NCb5PoE87T6su+w+2KTFPont4z5h0vg+Sl++PoYRHz/L5/k+CP7CPlzFGj+RxVk/Zb9DPylYKj/V7Xw//28WP0QKTj8oxxo/DL/oPheMQj9q8bI+p5ykPo+Zez8W1+Y+f0IVPzJLJD+BMwM/gTkQP2SU1T7pcIM/IVBhPzKNmD4JncA+8n7tPv/B4j7Raho/mKEhPz/nAz+VHgc/bzOAPzrWhT9U2hM//ssbP/vQoj53wQY/0XsDPzSzEz9m39E+YzUOP7z2uj5Y6Ms+qhrqPnM/8D5dK4M/KUCnPrTDgD+oBfk+xcopP5hgnD6k9eg+sh0GP31JFT8EGvA+8FnZQN78Jz8pFxI/ib9rPw375D6wOwY/PCmrPqA7RT+6Yr0+3YjzPm4UHT8g08A+aYWAP9qYWT8=",
          "dtype": "f4"
         }
        },
        {
         "hoverinfo": "text",
         "marker": {
          "opacity": 0.5,
          "size": 5
         },
         "mode": "markers+text",
         "name": "7_роман_книга_произведение",
         "text": [
          "",
          "",
          "",
          "",
          "",
          "",
          "",
          "",
          "",
          "",
          "",
          "",
          "",
          "",
          "",
          "",
          "",
          "",
          "",
          "",
          "",
          "",
          "",
          "",
          "",
          "",
          "",
          "",
          "",
          "",
          "",
          "",
          "",
          "",
          "",
          "",
          "",
          "",
          "",
          "",
          "",
          "",
          "",
          "",
          "",
          "",
          "",
          "",
          "",
          "",
          "",
          "",
          "",
          "",
          "",
          "",
          "",
          "",
          "",
          "",
          "",
          "",
          "",
          "",
          "",
          "",
          "",
          "",
          "",
          "",
          "",
          "",
          "",
          "",
          "",
          "",
          "",
          "",
          "",
          "",
          "",
          "",
          ""
         ],
         "textfont": {
          "size": 12
         },
         "type": "scattergl",
         "x": {
          "bdata": "YiGfQJJxh0Bui5ZA/kR+QG+qikB0H4ZAcA2eQGEQi0AeUYRAa+NmQDQ/mECeZZVABnOtQAgxjkC4HZFAdk2RQB1JskBEJbRALTFlQATxjEDAo5pARCBjQMUUmUBE3H5AnKKfQIGMekBzToVAfz6OQHU7c0A8ApRAKCdjQK2CckBa4pZAdv+KQOEzmUAwK2lA46mQQItym0CwD3NAH6ORQCzLfUBteWhAUP+TQClKdEDiUntAJ7uaQORHmECLEplAQEJuQHvtaUD6vpdA4JePQFLrj0Ds8I5Akxd7QF+Sl0B5Nn1ABMp8QAnskUAg7JZAn4SUQB5CZUBByIRA5k2dQG6osEAs+JFAxlOVQMQ0gUBRhHpANHR0QH/zj0AUNo5AntOJQCH4hUCP3qVAZBV8QEKhjkAOJqNAqDWGQFqbbkDrR5ZAfT6IQMFqZ0A=",
          "dtype": "f4"
         },
         "y": {
          "bdata": "ZVS6QGsgvkDR8LpAXfzCQNgjukD9XL1Ag4m8QNu/v0DswrpAwWC6QOHhwEAC6rtAkIOoQPz4t0CcPMNAvp/BQNDjrUBl2KdAWZK8QDyZuUAaJsdAGXe1QEjktkDuzsBA4oW6QPfxwkA7I7FABrbAQH4VvUAMGsRA/Ya1QM4Pv0BjF7NAlka2QNwUtEBj7btAe3/CQOZHwEDAAb9AzIvDQOF6vUDrCr5AySi4QBJFuUDq7r5AXh2xQHUcv0AucL1AYaO/QLD6vEDNS75A8hq8QBp9wUBgWsJAcZi8QJ57tkCzUL9A8tq3QDyiv0DJZ7tACti8QK/4vEB1SrJAXRK8QPpAqUAQGMFAJ3i+QEbhtECYSMBAGDi9QKgNwUAPVcBAXPC4QDzpukBrjbBAh8PBQKS5vkD4c7tAsRy7QKPSvUC47bpAB+eyQPCkvkA=",
          "dtype": "f4"
         }
        },
        {
         "hoverinfo": "text",
         "marker": {
          "opacity": 0.5,
          "size": 5
         },
         "mode": "markers+text",
         "name": "8_песня_музыка_группа",
         "text": [
          "",
          "",
          "",
          "",
          "",
          "",
          "",
          "",
          "",
          "",
          "",
          "",
          "",
          "",
          "",
          "",
          "",
          "",
          "",
          "",
          "",
          "",
          "",
          "",
          "",
          "",
          "",
          "",
          "",
          "",
          "",
          "",
          "",
          "",
          "",
          "",
          "",
          "",
          "",
          "",
          "",
          "",
          "",
          "",
          "",
          "",
          "",
          "",
          "",
          "",
          "",
          "",
          "",
          "",
          "",
          "",
          "",
          "",
          "",
          "",
          "",
          "",
          "",
          "",
          "",
          "",
          "",
          "",
          "",
          "",
          "",
          "",
          "",
          "",
          "",
          "",
          ""
         ],
         "textfont": {
          "size": 12
         },
         "type": "scattergl",
         "x": {
          "bdata": "ao7aQOdd7UAC6OZAptbtQA2N5kAGke1A7xHlQKlV6kCDi+9As+3lQGbl4UDdBOxACKTnQMul6UCP/+hAg/TuQPV/50D/XONAjOrfQHkm5EABje1AkX/mQJjo7UDUtOVAubHqQHtO6kCpXORA0VvoQKTK7UCFsOtAUSnqQGNH5kC34OhAvwrrQKKA2kAwNepAgdbmQLUb4UARzORAaa/qQFOm60DFx+ZAQF7cQH0I60BO5+ZA11XkQEb94kBZwddAmnffQELQ50AtcO9ACNvoQOYv5kA3uOZAOPvrQFIS5kC5qetATs7qQIhn6kCPM+xAhEDjQMhu6UA9DeVAKhLsQN7y6kBtJOJAjRPoQDgY4EBgzutAy9LuQHvq40Bf5epAr/vgQL+L6ECfU+pAbe/sQNkd60A=",
          "dtype": "f4"
         },
         "y": {
          "bdata": "7vRPQJ/Vb0BihIJAZl9pQCMTckDPnmlAxD6EQPuebkC4dXxAaG5VQBoyU0AgXohAm59WQMhYi0BpHoJAUZGBQBThi0DobVpAZZGIQP0xVkDpVnJAz/tSQEEmgkCN4IlAbwqEQNdKcEDcTXtAb+GMQCnlcEAZ84lAnipvQA//jUCfooFAeySBQBeITUC1YnpABkOCQPq3R0D31H9A2IdiQKrgZkAl0VRA1i9SQPXWfECkHWhA8wNiQBD4XEB3QUtABnaEQE+OXkCWaIFAzGhhQC+dgEC4yn5AYsGEQHypgECBE4ZAIs6GQLabgUDsL3BAfTyLQOV8jUCOik1Antl9QAIgX0DcMYpA4BZfQK5xTEAJ4nBAL7VtQCHme0AoM4ZAzYtVQKIFaEBe4WVApj6AQHaOdUA=",
          "dtype": "f4"
         }
        },
        {
         "hoverinfo": "text",
         "marker": {
          "opacity": 0.5,
          "size": 5
         },
         "mode": "markers+text",
         "name": "9_фильм_актёр_съёмка",
         "text": [
          "",
          "",
          "",
          "",
          "",
          "",
          "",
          "",
          "",
          "",
          "",
          "",
          "",
          "",
          "",
          "",
          "",
          "",
          "",
          "",
          "",
          "",
          "",
          "",
          "",
          "",
          "",
          "",
          "",
          "",
          "",
          "",
          "",
          "",
          "",
          "",
          "",
          "",
          "",
          "",
          "",
          "",
          "",
          "",
          "",
          "",
          "",
          "",
          "",
          "",
          "",
          "",
          "",
          "",
          "",
          "",
          "",
          "",
          "",
          "",
          "",
          "",
          "",
          "",
          "",
          "",
          "",
          "",
          "",
          "",
          "",
          "",
          "",
          "",
          "",
          ""
         ],
         "textfont": {
          "size": 12
         },
         "type": "scattergl",
         "x": {
          "bdata": "QSvPQF11wUAdD8lAleaxQB1QsUCxmcZAvXDIQCqnykBru89AgmfLQMsUw0AJt9JAF0PPQPwoz0DcZcxAtJfCQJI0xECfCdRADz+/QBvIzkAthsxA/3yzQJDOxkCrtL9Af4/KQPIYxUB9hMVAtXrPQPPw1kDhm8ZAMFnJQPY+y0BHw8pACkDQQAmIyEB1bsFAQHzMQHcer0Dpzq5A8vG5QIEux0DXTdNAHDLKQKEzyUBN0MlAE/PLQOTMzEB/5sJABjjHQD6VzUCfj9JADjLQQEEqz0CneMlAX0/SQM/SsEBM9LpA98nRQCx3y0ALx89AFzzGQC3dzkBC/clAtIqzQP5TykDZwNJAnz/FQHQpyEB6rctAA3zRQBeoyEDiuMhApLrUQI5NzEArCchAhVvFQA==",
          "dtype": "f4"
         },
         "y": {
          "bdata": "AkxaQN6Ra0CA7W1AZzkeQG6/GUDv+nlAeZGBQICcd0CdyVFAutlZQKRxfkCG90NATN1jQHdpR0BgEVtA0Cx6QNy0b0D8UVdAGdGEQINlRkDAZkZA+vgaQBQEbEAovjNA91ssQGYUK0D4WWRAe8tQQOnEUUCj931ADXVmQN3oW0BDwWFATrN0QAyHeUBywoJA3Dp6QELcG0AxPypAT5E2QPJxL0AEzFFAQShvQBe8dkAPGGRA00FeQMLjYEDFbWFAwxlsQLD8VkDPKS5AOb1aQAN2RkAQa3hAQX0+QFCSGUDlAytAuDtaQPKFNEAd50NAIXFhQIZSSEDbKCxAbcMgQL7CZ0DkRE1AqJt6QPtdM0DemnpAVpJLQBHEfUDhG1xABmtLQIvZKUCE4H5ARelrQA==",
          "dtype": "f4"
         }
        },
        {
         "hoverinfo": "text",
         "marker": {
          "opacity": 0.5,
          "size": 5
         },
         "mode": "markers+text",
         "name": "10_отель_построить_здание",
         "text": [
          "",
          "",
          "",
          "",
          "",
          "",
          "",
          "",
          "",
          "",
          "",
          "",
          "",
          "",
          "",
          "",
          "",
          "",
          "",
          "",
          "",
          "",
          "",
          "",
          "",
          "",
          "",
          "",
          "",
          "",
          "",
          "",
          "",
          ""
         ],
         "textfont": {
          "size": 12
         },
         "type": "scattergl",
         "x": {
          "bdata": "VY9wQJdEaUC67UFANMg5QANSUECtgDBArN1pQHjhQEBqQgdAnso6QARHK0CqayNA1mU2QHotLECalCJArnIZQNjpaUAHLjJARH4pQEJ2IkBaZz1AswhCQELzMEDQp2NAH1AhQPlkK0BorR1AHlMKQDfrHUDkHS1AnHkqQGwaK0An1DRAf5g5QA==",
          "dtype": "f4"
         },
         "y": {
          "bdata": "ObikQMCDo0CTJqVAOEWYQGSyp0DViKNAhbWdQBKjpUD0cZ9AAiKdQHeyrEDWbalAuLahQDlipUB21qtAxzigQCPHnEC2NqZAkY+nQC3TqkCxdaRA0HKjQKqPpUBamqRAXSGpQJIVqED1E6JAD5qZQGmGpkDEpKtAq4qmQCdkqECQ/qVArmujQA==",
          "dtype": "f4"
         }
        },
        {
         "hoverinfo": "text",
         "marker": {
          "opacity": 0.5,
          "size": 5
         },
         "mode": "markers+text",
         "name": "11_автомобиль_модель_знак",
         "text": [
          "",
          "",
          "",
          "",
          "",
          "",
          "",
          "",
          "",
          "",
          "",
          "",
          "",
          "",
          "",
          "",
          "",
          "",
          "",
          "",
          "",
          "",
          "",
          "",
          "",
          "",
          "",
          "",
          "",
          "",
          "",
          ""
         ],
         "textfont": {
          "size": 12
         },
         "type": "scattergl",
         "x": {
          "bdata": "jXCJQBuNp0Cn3ZlAFUygQIB7mEDlnaFAihOhQK7qnUCsnKhAkc7JQCOWokDF+p9AwImIQFFRmEB7gqBA1qCjQHnin0Cicp5AWpiiQIyUnEAKuaNAv5mhQEqHpEDITZ5AEjWmQEAKpECjpaFAmkaiQPHOpUCaa5lAp6iWQLxBpkA=",
          "dtype": "f4"
         },
         "y": {
          "bdata": "IpS2P7U70j/UegFARqHCPwfExD8vC9U/eTPYP55Mzz8mNtc/MuDBQFkRyD9+HNA/zr61P1yOAkBVFcM/2NHXP5YL1z9zwcc/9s3fP6IX8j9r990/NQrgP28tyD+Oysc/kUnUP4lt0T+C/cg/0ifGPwrnzT9OS8o/43iyP+Qg0D8=",
          "dtype": "f4"
         }
        },
        {
         "hoverinfo": "text",
         "marker": {
          "opacity": 0.5,
          "size": 5
         },
         "mode": "markers+text",
         "name": "12_харьков_родный_крикун",
         "text": [
          "",
          "",
          "",
          "",
          "",
          "",
          "",
          "",
          "",
          "",
          "",
          "",
          "",
          "",
          "",
          "",
          "",
          "",
          "",
          "",
          "",
          "",
          "",
          "",
          "",
          "",
          "",
          "",
          "",
          ""
         ],
         "textfont": {
          "size": 12
         },
         "type": "scattergl",
         "x": {
          "bdata": "hY1HQHiJN0C6azVAvl5HQHfuVUBxfFNAOApHQMbiT0ADRWBAN2BeQPNKMkCgTzZA3ytQQNToO0AnRC5AniU/QMA+V0C9IDJAj2VZQE7UNEBUCkFAtqJRQEvzMEDxlEdAPpNbQGWFSUANf1JAmP5TQKElRkAXIzxA",
          "dtype": "f4"
         },
         "y": {
          "bdata": "aZKzQOsPskD4Cq5Aks6iQF2ZoUDwCqZAQ9GjQLNtoUDO9p1A4TijQEDPs0ALXrVA9TKIQJQJrUAytrJAB9KfQBT1pED9uLNAloekQJx1tEBXG7RAY86xQF4jskA6E6dAnSaVQD4NmEDq7JxAVcmxQOAxqkDSXrRA",
          "dtype": "f4"
         }
        },
        {
         "hoverinfo": "text",
         "marker": {
          "opacity": 0.5,
          "size": 5
         },
         "mode": "markers+text",
         "name": "13_болезнь_пациент_повивальный",
         "text": [
          "",
          "",
          "",
          "",
          "",
          "",
          "",
          "",
          "",
          "",
          "",
          "",
          "",
          "",
          "",
          "",
          "",
          "",
          "",
          ""
         ],
         "textfont": {
          "size": 12
         },
         "type": "scattergl",
         "x": {
          "bdata": "2gxQQLgdVkBJM1JA4ntTQNd9YEDRWU1AeztRQLHKW0BQA1tAFmVRQPU4XUC2zjtAoZpdQPrsSkB7Ym1Aj/RQQFWRWUDLak5A/RxLQCRJQUA=",
          "dtype": "f4"
         },
         "y": {
          "bdata": "aBP0P+vfAUBwmANApHL8P2WqC0D/LwJAjUYCQH8aD0BaagVAwejsP066E0Bs5ghAGGwEQOOMAUA+9h1AAvDrP7zrC0Cr3AJAND0LQMn0C0A=",
          "dtype": "f4"
         }
        }
       ],
       "layout": {
        "annotations": [
         {
          "showarrow": false,
          "text": "D1",
          "x": 1.1641364395618439,
          "y": 4.232152380049229,
          "yshift": 10
         },
         {
          "showarrow": false,
          "text": "D2",
          "x": 4.886391857266426,
          "xshift": 10,
          "y": 8.211045360565185
         }
        ],
        "height": 750,
        "shapes": [
         {
          "line": {
           "color": "#CFD8DC",
           "width": 2
          },
          "type": "line",
          "x0": 4.886391857266426,
          "x1": 4.886391857266426,
          "y0": 0.2532593995332718,
          "y1": 8.211045360565185
         },
         {
          "line": {
           "color": "#9E9E9E",
           "width": 2
          },
          "type": "line",
          "x0": 1.1641364395618439,
          "x1": 8.608647274971009,
          "y0": 4.232152380049229,
          "y1": 4.232152380049229
         }
        ],
        "template": {
         "data": {
          "bar": [
           {
            "error_x": {
             "color": "rgb(36,36,36)"
            },
            "error_y": {
             "color": "rgb(36,36,36)"
            },
            "marker": {
             "line": {
              "color": "white",
              "width": 0.5
             },
             "pattern": {
              "fillmode": "overlay",
              "size": 10,
              "solidity": 0.2
             }
            },
            "type": "bar"
           }
          ],
          "barpolar": [
           {
            "marker": {
             "line": {
              "color": "white",
              "width": 0.5
             },
             "pattern": {
              "fillmode": "overlay",
              "size": 10,
              "solidity": 0.2
             }
            },
            "type": "barpolar"
           }
          ],
          "carpet": [
           {
            "aaxis": {
             "endlinecolor": "rgb(36,36,36)",
             "gridcolor": "white",
             "linecolor": "white",
             "minorgridcolor": "white",
             "startlinecolor": "rgb(36,36,36)"
            },
            "baxis": {
             "endlinecolor": "rgb(36,36,36)",
             "gridcolor": "white",
             "linecolor": "white",
             "minorgridcolor": "white",
             "startlinecolor": "rgb(36,36,36)"
            },
            "type": "carpet"
           }
          ],
          "choropleth": [
           {
            "colorbar": {
             "outlinewidth": 1,
             "tickcolor": "rgb(36,36,36)",
             "ticks": "outside"
            },
            "type": "choropleth"
           }
          ],
          "contour": [
           {
            "colorbar": {
             "outlinewidth": 1,
             "tickcolor": "rgb(36,36,36)",
             "ticks": "outside"
            },
            "colorscale": [
             [
              0,
              "#440154"
             ],
             [
              0.1111111111111111,
              "#482878"
             ],
             [
              0.2222222222222222,
              "#3e4989"
             ],
             [
              0.3333333333333333,
              "#31688e"
             ],
             [
              0.4444444444444444,
              "#26828e"
             ],
             [
              0.5555555555555556,
              "#1f9e89"
             ],
             [
              0.6666666666666666,
              "#35b779"
             ],
             [
              0.7777777777777778,
              "#6ece58"
             ],
             [
              0.8888888888888888,
              "#b5de2b"
             ],
             [
              1,
              "#fde725"
             ]
            ],
            "type": "contour"
           }
          ],
          "contourcarpet": [
           {
            "colorbar": {
             "outlinewidth": 1,
             "tickcolor": "rgb(36,36,36)",
             "ticks": "outside"
            },
            "type": "contourcarpet"
           }
          ],
          "heatmap": [
           {
            "colorbar": {
             "outlinewidth": 1,
             "tickcolor": "rgb(36,36,36)",
             "ticks": "outside"
            },
            "colorscale": [
             [
              0,
              "#440154"
             ],
             [
              0.1111111111111111,
              "#482878"
             ],
             [
              0.2222222222222222,
              "#3e4989"
             ],
             [
              0.3333333333333333,
              "#31688e"
             ],
             [
              0.4444444444444444,
              "#26828e"
             ],
             [
              0.5555555555555556,
              "#1f9e89"
             ],
             [
              0.6666666666666666,
              "#35b779"
             ],
             [
              0.7777777777777778,
              "#6ece58"
             ],
             [
              0.8888888888888888,
              "#b5de2b"
             ],
             [
              1,
              "#fde725"
             ]
            ],
            "type": "heatmap"
           }
          ],
          "histogram": [
           {
            "marker": {
             "line": {
              "color": "white",
              "width": 0.6
             }
            },
            "type": "histogram"
           }
          ],
          "histogram2d": [
           {
            "colorbar": {
             "outlinewidth": 1,
             "tickcolor": "rgb(36,36,36)",
             "ticks": "outside"
            },
            "colorscale": [
             [
              0,
              "#440154"
             ],
             [
              0.1111111111111111,
              "#482878"
             ],
             [
              0.2222222222222222,
              "#3e4989"
             ],
             [
              0.3333333333333333,
              "#31688e"
             ],
             [
              0.4444444444444444,
              "#26828e"
             ],
             [
              0.5555555555555556,
              "#1f9e89"
             ],
             [
              0.6666666666666666,
              "#35b779"
             ],
             [
              0.7777777777777778,
              "#6ece58"
             ],
             [
              0.8888888888888888,
              "#b5de2b"
             ],
             [
              1,
              "#fde725"
             ]
            ],
            "type": "histogram2d"
           }
          ],
          "histogram2dcontour": [
           {
            "colorbar": {
             "outlinewidth": 1,
             "tickcolor": "rgb(36,36,36)",
             "ticks": "outside"
            },
            "colorscale": [
             [
              0,
              "#440154"
             ],
             [
              0.1111111111111111,
              "#482878"
             ],
             [
              0.2222222222222222,
              "#3e4989"
             ],
             [
              0.3333333333333333,
              "#31688e"
             ],
             [
              0.4444444444444444,
              "#26828e"
             ],
             [
              0.5555555555555556,
              "#1f9e89"
             ],
             [
              0.6666666666666666,
              "#35b779"
             ],
             [
              0.7777777777777778,
              "#6ece58"
             ],
             [
              0.8888888888888888,
              "#b5de2b"
             ],
             [
              1,
              "#fde725"
             ]
            ],
            "type": "histogram2dcontour"
           }
          ],
          "mesh3d": [
           {
            "colorbar": {
             "outlinewidth": 1,
             "tickcolor": "rgb(36,36,36)",
             "ticks": "outside"
            },
            "type": "mesh3d"
           }
          ],
          "parcoords": [
           {
            "line": {
             "colorbar": {
              "outlinewidth": 1,
              "tickcolor": "rgb(36,36,36)",
              "ticks": "outside"
             }
            },
            "type": "parcoords"
           }
          ],
          "pie": [
           {
            "automargin": true,
            "type": "pie"
           }
          ],
          "scatter": [
           {
            "fillpattern": {
             "fillmode": "overlay",
             "size": 10,
             "solidity": 0.2
            },
            "type": "scatter"
           }
          ],
          "scatter3d": [
           {
            "line": {
             "colorbar": {
              "outlinewidth": 1,
              "tickcolor": "rgb(36,36,36)",
              "ticks": "outside"
             }
            },
            "marker": {
             "colorbar": {
              "outlinewidth": 1,
              "tickcolor": "rgb(36,36,36)",
              "ticks": "outside"
             }
            },
            "type": "scatter3d"
           }
          ],
          "scattercarpet": [
           {
            "marker": {
             "colorbar": {
              "outlinewidth": 1,
              "tickcolor": "rgb(36,36,36)",
              "ticks": "outside"
             }
            },
            "type": "scattercarpet"
           }
          ],
          "scattergeo": [
           {
            "marker": {
             "colorbar": {
              "outlinewidth": 1,
              "tickcolor": "rgb(36,36,36)",
              "ticks": "outside"
             }
            },
            "type": "scattergeo"
           }
          ],
          "scattergl": [
           {
            "marker": {
             "colorbar": {
              "outlinewidth": 1,
              "tickcolor": "rgb(36,36,36)",
              "ticks": "outside"
             }
            },
            "type": "scattergl"
           }
          ],
          "scattermap": [
           {
            "marker": {
             "colorbar": {
              "outlinewidth": 1,
              "tickcolor": "rgb(36,36,36)",
              "ticks": "outside"
             }
            },
            "type": "scattermap"
           }
          ],
          "scattermapbox": [
           {
            "marker": {
             "colorbar": {
              "outlinewidth": 1,
              "tickcolor": "rgb(36,36,36)",
              "ticks": "outside"
             }
            },
            "type": "scattermapbox"
           }
          ],
          "scatterpolar": [
           {
            "marker": {
             "colorbar": {
              "outlinewidth": 1,
              "tickcolor": "rgb(36,36,36)",
              "ticks": "outside"
             }
            },
            "type": "scatterpolar"
           }
          ],
          "scatterpolargl": [
           {
            "marker": {
             "colorbar": {
              "outlinewidth": 1,
              "tickcolor": "rgb(36,36,36)",
              "ticks": "outside"
             }
            },
            "type": "scatterpolargl"
           }
          ],
          "scatterternary": [
           {
            "marker": {
             "colorbar": {
              "outlinewidth": 1,
              "tickcolor": "rgb(36,36,36)",
              "ticks": "outside"
             }
            },
            "type": "scatterternary"
           }
          ],
          "surface": [
           {
            "colorbar": {
             "outlinewidth": 1,
             "tickcolor": "rgb(36,36,36)",
             "ticks": "outside"
            },
            "colorscale": [
             [
              0,
              "#440154"
             ],
             [
              0.1111111111111111,
              "#482878"
             ],
             [
              0.2222222222222222,
              "#3e4989"
             ],
             [
              0.3333333333333333,
              "#31688e"
             ],
             [
              0.4444444444444444,
              "#26828e"
             ],
             [
              0.5555555555555556,
              "#1f9e89"
             ],
             [
              0.6666666666666666,
              "#35b779"
             ],
             [
              0.7777777777777778,
              "#6ece58"
             ],
             [
              0.8888888888888888,
              "#b5de2b"
             ],
             [
              1,
              "#fde725"
             ]
            ],
            "type": "surface"
           }
          ],
          "table": [
           {
            "cells": {
             "fill": {
              "color": "rgb(237,237,237)"
             },
             "line": {
              "color": "white"
             }
            },
            "header": {
             "fill": {
              "color": "rgb(217,217,217)"
             },
             "line": {
              "color": "white"
             }
            },
            "type": "table"
           }
          ]
         },
         "layout": {
          "annotationdefaults": {
           "arrowhead": 0,
           "arrowwidth": 1
          },
          "autotypenumbers": "strict",
          "coloraxis": {
           "colorbar": {
            "outlinewidth": 1,
            "tickcolor": "rgb(36,36,36)",
            "ticks": "outside"
           }
          },
          "colorscale": {
           "diverging": [
            [
             0,
             "rgb(103,0,31)"
            ],
            [
             0.1,
             "rgb(178,24,43)"
            ],
            [
             0.2,
             "rgb(214,96,77)"
            ],
            [
             0.3,
             "rgb(244,165,130)"
            ],
            [
             0.4,
             "rgb(253,219,199)"
            ],
            [
             0.5,
             "rgb(247,247,247)"
            ],
            [
             0.6,
             "rgb(209,229,240)"
            ],
            [
             0.7,
             "rgb(146,197,222)"
            ],
            [
             0.8,
             "rgb(67,147,195)"
            ],
            [
             0.9,
             "rgb(33,102,172)"
            ],
            [
             1,
             "rgb(5,48,97)"
            ]
           ],
           "sequential": [
            [
             0,
             "#440154"
            ],
            [
             0.1111111111111111,
             "#482878"
            ],
            [
             0.2222222222222222,
             "#3e4989"
            ],
            [
             0.3333333333333333,
             "#31688e"
            ],
            [
             0.4444444444444444,
             "#26828e"
            ],
            [
             0.5555555555555556,
             "#1f9e89"
            ],
            [
             0.6666666666666666,
             "#35b779"
            ],
            [
             0.7777777777777778,
             "#6ece58"
            ],
            [
             0.8888888888888888,
             "#b5de2b"
            ],
            [
             1,
             "#fde725"
            ]
           ],
           "sequentialminus": [
            [
             0,
             "#440154"
            ],
            [
             0.1111111111111111,
             "#482878"
            ],
            [
             0.2222222222222222,
             "#3e4989"
            ],
            [
             0.3333333333333333,
             "#31688e"
            ],
            [
             0.4444444444444444,
             "#26828e"
            ],
            [
             0.5555555555555556,
             "#1f9e89"
            ],
            [
             0.6666666666666666,
             "#35b779"
            ],
            [
             0.7777777777777778,
             "#6ece58"
            ],
            [
             0.8888888888888888,
             "#b5de2b"
            ],
            [
             1,
             "#fde725"
            ]
           ]
          },
          "colorway": [
           "#1F77B4",
           "#FF7F0E",
           "#2CA02C",
           "#D62728",
           "#9467BD",
           "#8C564B",
           "#E377C2",
           "#7F7F7F",
           "#BCBD22",
           "#17BECF"
          ],
          "font": {
           "color": "rgb(36,36,36)"
          },
          "geo": {
           "bgcolor": "white",
           "lakecolor": "white",
           "landcolor": "white",
           "showlakes": true,
           "showland": true,
           "subunitcolor": "white"
          },
          "hoverlabel": {
           "align": "left"
          },
          "hovermode": "closest",
          "mapbox": {
           "style": "light"
          },
          "paper_bgcolor": "white",
          "plot_bgcolor": "white",
          "polar": {
           "angularaxis": {
            "gridcolor": "rgb(232,232,232)",
            "linecolor": "rgb(36,36,36)",
            "showgrid": false,
            "showline": true,
            "ticks": "outside"
           },
           "bgcolor": "white",
           "radialaxis": {
            "gridcolor": "rgb(232,232,232)",
            "linecolor": "rgb(36,36,36)",
            "showgrid": false,
            "showline": true,
            "ticks": "outside"
           }
          },
          "scene": {
           "xaxis": {
            "backgroundcolor": "white",
            "gridcolor": "rgb(232,232,232)",
            "gridwidth": 2,
            "linecolor": "rgb(36,36,36)",
            "showbackground": true,
            "showgrid": false,
            "showline": true,
            "ticks": "outside",
            "zeroline": false,
            "zerolinecolor": "rgb(36,36,36)"
           },
           "yaxis": {
            "backgroundcolor": "white",
            "gridcolor": "rgb(232,232,232)",
            "gridwidth": 2,
            "linecolor": "rgb(36,36,36)",
            "showbackground": true,
            "showgrid": false,
            "showline": true,
            "ticks": "outside",
            "zeroline": false,
            "zerolinecolor": "rgb(36,36,36)"
           },
           "zaxis": {
            "backgroundcolor": "white",
            "gridcolor": "rgb(232,232,232)",
            "gridwidth": 2,
            "linecolor": "rgb(36,36,36)",
            "showbackground": true,
            "showgrid": false,
            "showline": true,
            "ticks": "outside",
            "zeroline": false,
            "zerolinecolor": "rgb(36,36,36)"
           }
          },
          "shapedefaults": {
           "fillcolor": "black",
           "line": {
            "width": 0
           },
           "opacity": 0.3
          },
          "ternary": {
           "aaxis": {
            "gridcolor": "rgb(232,232,232)",
            "linecolor": "rgb(36,36,36)",
            "showgrid": false,
            "showline": true,
            "ticks": "outside"
           },
           "baxis": {
            "gridcolor": "rgb(232,232,232)",
            "linecolor": "rgb(36,36,36)",
            "showgrid": false,
            "showline": true,
            "ticks": "outside"
           },
           "bgcolor": "white",
           "caxis": {
            "gridcolor": "rgb(232,232,232)",
            "linecolor": "rgb(36,36,36)",
            "showgrid": false,
            "showline": true,
            "ticks": "outside"
           }
          },
          "title": {
           "x": 0.05
          },
          "xaxis": {
           "automargin": true,
           "gridcolor": "rgb(232,232,232)",
           "linecolor": "rgb(36,36,36)",
           "showgrid": false,
           "showline": true,
           "ticks": "outside",
           "title": {
            "standoff": 15
           },
           "zeroline": false,
           "zerolinecolor": "rgb(36,36,36)"
          },
          "yaxis": {
           "automargin": true,
           "gridcolor": "rgb(232,232,232)",
           "linecolor": "rgb(36,36,36)",
           "showgrid": false,
           "showline": true,
           "ticks": "outside",
           "title": {
            "standoff": 15
           },
           "zeroline": false,
           "zerolinecolor": "rgb(36,36,36)"
          }
         }
        },
        "title": {
         "font": {
          "color": "Black",
          "size": 22
         },
         "text": "<b>Documents and Topics</b>",
         "x": 0.5,
         "xanchor": "center",
         "yanchor": "top"
        },
        "width": 1200,
        "xaxis": {
         "visible": false
        },
        "yaxis": {
         "visible": false
        }
       }
      }
     },
     "metadata": {},
     "output_type": "display_data"
    }
   ],
   "source": [
    "topic_model.visualize_documents(docs, reduced_embeddings=reduced_embeddings,\n",
    "                                hide_document_hover=True, hide_annotations=True)"
   ]
  },
  {
   "cell_type": "code",
   "execution_count": 27,
   "metadata": {},
   "outputs": [
    {
     "name": "stdout",
     "output_type": "stream",
     "text": [
      "    Topic                                     Name\n",
      "0      -1     -1_роман_герой_персонаж_произведение\n",
      "1       0    0_персонаж_герой_картина_произведение\n",
      "2       1               1_роман_язык_фраза_вариант\n",
      "3       2         2_война_король_корабль_испанский\n",
      "4       3        3_учёный_животное_обнаружить_рыба\n",
      "5       4           4_команда_футбольный_игра_матч\n",
      "6       5                  5_древний_бог_язык_грех\n",
      "7       6        6_еда_блюдо_напиток_приготовление\n",
      "8       7      7_роман_книга_произведение_писатель\n",
      "9       8        8_песня_музыка_группа_музыкальный\n",
      "10      9               9_фильм_актёр_съёмка_герой\n",
      "11     10     10_отель_построить_здание_берлинский\n",
      "12     11       11_автомобиль_модель_знак_водитель\n",
      "13     12              12_харьков_родный_крикун_ме\n",
      "14     13  13_болезнь_пациент_повивальный_полидорь\n"
     ]
    }
   ],
   "source": [
    "topic_info = topic_model.get_topic_info()\n",
    "custom_names = {\n",
    "    -1: \"Шум\",\n",
    "    0: \"Произведения и персонажи\",\n",
    "    1: \"Языки и загадки\",\n",
    "    2: \"История, войны и правители\",\n",
    "    3: \"Наука и природа\",\n",
    "    4: \"Спорт и игры\",\n",
    "    5: \"Религии и традиции\",\n",
    "    6: \"Еда и напитки\",\n",
    "    7: \"Литература\",\n",
    "    8: \"Музыка\",\n",
    "    9: \"Кино, сериалы и актеры\",\n",
    "    10: \"Архитектура\",\n",
    "    11: \"Технологии\",\n",
    "    12: \"Люди и события\",\n",
    "    13: \"Медицина\"}\n",
    "\n",
    "topic_model.set_topic_labels(custom_names)\n",
    "\n",
    "print(topic_model.get_topic_info()[['Topic', 'Name']])"
   ]
  },
  {
   "cell_type": "code",
   "execution_count": 28,
   "metadata": {},
   "outputs": [
    {
     "data": {
      "text/html": [
       "<div>\n",
       "<style scoped>\n",
       "    .dataframe tbody tr th:only-of-type {\n",
       "        vertical-align: middle;\n",
       "    }\n",
       "\n",
       "    .dataframe tbody tr th {\n",
       "        vertical-align: top;\n",
       "    }\n",
       "\n",
       "    .dataframe thead th {\n",
       "        text-align: right;\n",
       "    }\n",
       "</style>\n",
       "<table border=\"1\" class=\"dataframe\">\n",
       "  <thead>\n",
       "    <tr style=\"text-align: right;\">\n",
       "      <th></th>\n",
       "      <th>Topic</th>\n",
       "      <th>Count</th>\n",
       "      <th>Name</th>\n",
       "      <th>CustomName</th>\n",
       "      <th>Representation</th>\n",
       "      <th>Representative_Docs</th>\n",
       "    </tr>\n",
       "  </thead>\n",
       "  <tbody>\n",
       "    <tr>\n",
       "      <th>0</th>\n",
       "      <td>-1</td>\n",
       "      <td>1343</td>\n",
       "      <td>-1_роман_герой_персонаж_произведение</td>\n",
       "      <td>Шум</td>\n",
       "      <td>[роман, герой, персонаж, произведение, героиня...</td>\n",
       "      <td>[query: По сюжету “Женитьбы Фигаро” пажа графа...</td>\n",
       "    </tr>\n",
       "    <tr>\n",
       "      <th>1</th>\n",
       "      <td>0</td>\n",
       "      <td>204</td>\n",
       "      <td>0_персонаж_герой_картина_произведение</td>\n",
       "      <td>Произведения и персонажи</td>\n",
       "      <td>[персонаж, герой, картина, произведение, сериа...</td>\n",
       "      <td>[query: Герой Веры Богдановой, работавший круп...</td>\n",
       "    </tr>\n",
       "    <tr>\n",
       "      <th>2</th>\n",
       "      <td>1</td>\n",
       "      <td>168</td>\n",
       "      <td>1_роман_язык_фраза_вариант</td>\n",
       "      <td>Языки и загадки</td>\n",
       "      <td>[роман, язык, фраза, вариант, персонаж, компан...</td>\n",
       "      <td>[query: Один из переводчиков Гомера на латынь ...</td>\n",
       "    </tr>\n",
       "    <tr>\n",
       "      <th>3</th>\n",
       "      <td>2</td>\n",
       "      <td>129</td>\n",
       "      <td>2_война_король_корабль_испанский</td>\n",
       "      <td>История, войны и правители</td>\n",
       "      <td>[война, король, корабль, испанский, мировой, г...</td>\n",
       "      <td>[query: Революция на Кубе вызвала восторг сред...</td>\n",
       "    </tr>\n",
       "    <tr>\n",
       "      <th>4</th>\n",
       "      <td>3</td>\n",
       "      <td>116</td>\n",
       "      <td>3_учёный_животное_обнаружить_рыба</td>\n",
       "      <td>Наука и природа</td>\n",
       "      <td>[учёный, животное, обнаружить, рыба, птица, ди...</td>\n",
       "      <td>[query: Около 400 миллионов лет назад некоторы...</td>\n",
       "    </tr>\n",
       "    <tr>\n",
       "      <th>5</th>\n",
       "      <td>4</td>\n",
       "      <td>98</td>\n",
       "      <td>4_команда_футбольный_игра_матч</td>\n",
       "      <td>Спорт и игры</td>\n",
       "      <td>[команда, футбольный, игра, матч, футболист, ч...</td>\n",
       "      <td>[query: автора , который услышал от своего зна...</td>\n",
       "    </tr>\n",
       "    <tr>\n",
       "      <th>6</th>\n",
       "      <td>5</td>\n",
       "      <td>98</td>\n",
       "      <td>5_древний_бог_язык_грех</td>\n",
       "      <td>Религии и традиции</td>\n",
       "      <td>[древний, бог, язык, грех, семья, церковный, с...</td>\n",
       "      <td>[query: Есть версия, реформа 15 века связана г...</td>\n",
       "    </tr>\n",
       "    <tr>\n",
       "      <th>7</th>\n",
       "      <td>6</td>\n",
       "      <td>92</td>\n",
       "      <td>6_еда_блюдо_напиток_приготовление</td>\n",
       "      <td>Еда и напитки</td>\n",
       "      <td>[еда, блюдо, напиток, приготовление, чай, рест...</td>\n",
       "      <td>[query: Праздник середины осени Китае отмечают...</td>\n",
       "    </tr>\n",
       "    <tr>\n",
       "      <th>8</th>\n",
       "      <td>7</td>\n",
       "      <td>83</td>\n",
       "      <td>7_роман_книга_произведение_писатель</td>\n",
       "      <td>Литература</td>\n",
       "      <td>[роман, книга, произведение, писатель, поэт, ч...</td>\n",
       "      <td>[query: Учёный Николай Николаевич Гуртовой соб...</td>\n",
       "    </tr>\n",
       "    <tr>\n",
       "      <th>9</th>\n",
       "      <td>8</td>\n",
       "      <td>77</td>\n",
       "      <td>8_песня_музыка_группа_музыкальный</td>\n",
       "      <td>Музыка</td>\n",
       "      <td>[песня, музыка, группа, музыкальный, музыкант,...</td>\n",
       "      <td>[query: молодости рэпер Бобби Шмёрда жил небла...</td>\n",
       "    </tr>\n",
       "    <tr>\n",
       "      <th>10</th>\n",
       "      <td>9</td>\n",
       "      <td>76</td>\n",
       "      <td>9_фильм_актёр_съёмка_герой</td>\n",
       "      <td>Кино, сериалы и актеры</td>\n",
       "      <td>[фильм, актёр, съёмка, герой, персонаж, сериал...</td>\n",
       "      <td>[query: Фильм «Кольберг» рассказывает об упорн...</td>\n",
       "    </tr>\n",
       "    <tr>\n",
       "      <th>11</th>\n",
       "      <td>10</td>\n",
       "      <td>34</td>\n",
       "      <td>10_отель_построить_здание_берлинский</td>\n",
       "      <td>Архитектура</td>\n",
       "      <td>[отель, построить, здание, берлинский, архитек...</td>\n",
       "      <td>[query: 1900 году на Парижской выставке был пр...</td>\n",
       "    </tr>\n",
       "    <tr>\n",
       "      <th>12</th>\n",
       "      <td>11</td>\n",
       "      <td>32</td>\n",
       "      <td>11_автомобиль_модель_знак_водитель</td>\n",
       "      <td>Технологии</td>\n",
       "      <td>[автомобиль, модель, знак, водитель, технологи...</td>\n",
       "      <td>[query: «Эль Пакет» — еженедельно обновляемая ...</td>\n",
       "    </tr>\n",
       "    <tr>\n",
       "      <th>13</th>\n",
       "      <td>12</td>\n",
       "      <td>30</td>\n",
       "      <td>12_харьков_родный_крикун_ме</td>\n",
       "      <td>Люди и события</td>\n",
       "      <td>[харьков, родный, крикун, ме, губерман, наряд,...</td>\n",
       "      <td>[query: Египетский Тель-Эль-Кебир стал одним и...</td>\n",
       "    </tr>\n",
       "    <tr>\n",
       "      <th>14</th>\n",
       "      <td>13</td>\n",
       "      <td>20</td>\n",
       "      <td>13_болезнь_пациент_повивальный_полидорь</td>\n",
       "      <td>Медицина</td>\n",
       "      <td>[болезнь, пациент, повивальный, полидорь, маль...</td>\n",
       "      <td>[query: АргирОз — отравление серебром, при кот...</td>\n",
       "    </tr>\n",
       "  </tbody>\n",
       "</table>\n",
       "</div>"
      ],
      "text/plain": [
       "    Topic  Count                                     Name  \\\n",
       "0      -1   1343     -1_роман_герой_персонаж_произведение   \n",
       "1       0    204    0_персонаж_герой_картина_произведение   \n",
       "2       1    168               1_роман_язык_фраза_вариант   \n",
       "3       2    129         2_война_король_корабль_испанский   \n",
       "4       3    116        3_учёный_животное_обнаружить_рыба   \n",
       "5       4     98           4_команда_футбольный_игра_матч   \n",
       "6       5     98                  5_древний_бог_язык_грех   \n",
       "7       6     92        6_еда_блюдо_напиток_приготовление   \n",
       "8       7     83      7_роман_книга_произведение_писатель   \n",
       "9       8     77        8_песня_музыка_группа_музыкальный   \n",
       "10      9     76               9_фильм_актёр_съёмка_герой   \n",
       "11     10     34     10_отель_построить_здание_берлинский   \n",
       "12     11     32       11_автомобиль_модель_знак_водитель   \n",
       "13     12     30              12_харьков_родный_крикун_ме   \n",
       "14     13     20  13_болезнь_пациент_повивальный_полидорь   \n",
       "\n",
       "                    CustomName  \\\n",
       "0                          Шум   \n",
       "1     Произведения и персонажи   \n",
       "2              Языки и загадки   \n",
       "3   История, войны и правители   \n",
       "4              Наука и природа   \n",
       "5                 Спорт и игры   \n",
       "6           Религии и традиции   \n",
       "7                Еда и напитки   \n",
       "8                   Литература   \n",
       "9                       Музыка   \n",
       "10      Кино, сериалы и актеры   \n",
       "11                 Архитектура   \n",
       "12                  Технологии   \n",
       "13              Люди и события   \n",
       "14                    Медицина   \n",
       "\n",
       "                                       Representation  \\\n",
       "0   [роман, герой, персонаж, произведение, героиня...   \n",
       "1   [персонаж, герой, картина, произведение, сериа...   \n",
       "2   [роман, язык, фраза, вариант, персонаж, компан...   \n",
       "3   [война, король, корабль, испанский, мировой, г...   \n",
       "4   [учёный, животное, обнаружить, рыба, птица, ди...   \n",
       "5   [команда, футбольный, игра, матч, футболист, ч...   \n",
       "6   [древний, бог, язык, грех, семья, церковный, с...   \n",
       "7   [еда, блюдо, напиток, приготовление, чай, рест...   \n",
       "8   [роман, книга, произведение, писатель, поэт, ч...   \n",
       "9   [песня, музыка, группа, музыкальный, музыкант,...   \n",
       "10  [фильм, актёр, съёмка, герой, персонаж, сериал...   \n",
       "11  [отель, построить, здание, берлинский, архитек...   \n",
       "12  [автомобиль, модель, знак, водитель, технологи...   \n",
       "13  [харьков, родный, крикун, ме, губерман, наряд,...   \n",
       "14  [болезнь, пациент, повивальный, полидорь, маль...   \n",
       "\n",
       "                                  Representative_Docs  \n",
       "0   [query: По сюжету “Женитьбы Фигаро” пажа графа...  \n",
       "1   [query: Герой Веры Богдановой, работавший круп...  \n",
       "2   [query: Один из переводчиков Гомера на латынь ...  \n",
       "3   [query: Революция на Кубе вызвала восторг сред...  \n",
       "4   [query: Около 400 миллионов лет назад некоторы...  \n",
       "5   [query: автора , который услышал от своего зна...  \n",
       "6   [query: Есть версия, реформа 15 века связана г...  \n",
       "7   [query: Праздник середины осени Китае отмечают...  \n",
       "8   [query: Учёный Николай Николаевич Гуртовой соб...  \n",
       "9   [query: молодости рэпер Бобби Шмёрда жил небла...  \n",
       "10  [query: Фильм «Кольберг» рассказывает об упорн...  \n",
       "11  [query: 1900 году на Парижской выставке был пр...  \n",
       "12  [query: «Эль Пакет» — еженедельно обновляемая ...  \n",
       "13  [query: Египетский Тель-Эль-Кебир стал одним и...  \n",
       "14  [query: АргирОз — отравление серебром, при кот...  "
      ]
     },
     "execution_count": 28,
     "metadata": {},
     "output_type": "execute_result"
    }
   ],
   "source": [
    "topic_model.get_topic_info()"
   ]
  },
  {
   "cell_type": "code",
   "execution_count": 29,
   "metadata": {},
   "outputs": [
    {
     "data": {
      "application/vnd.plotly.v1+json": {
       "config": {
        "plotlyServerURL": "https://plot.ly"
       },
       "data": [
        {
         "marker": {
          "color": "#D55E00"
         },
         "orientation": "h",
         "type": "bar",
         "x": [
          0.011868740011950684,
          0.011882851026203732,
          0.01230649177117281,
          0.012582819604756537,
          0.01292208534109288,
          0.013202208471123167,
          0.016424928469335277,
          0.016921426185362617,
          0.01940187566556305,
          0.020682320673984213,
          0.021663727204423854,
          0.027369919889239563,
          0.03413770738205159,
          0.04169315684017842,
          0.05510472664620014
         ],
         "xaxis": "x",
         "y": [
          "шутить  ",
          "девочка  ",
          "сцена  ",
          "атрибут  ",
          "фильм  ",
          "героиня  ",
          "роман  ",
          "мультфильм  ",
          "рука  ",
          "художник  ",
          "сериал  ",
          "произведение  ",
          "картина  ",
          "герой  ",
          "персонаж  "
         ],
         "yaxis": "y"
        },
        {
         "marker": {
          "color": "#0072B2"
         },
         "orientation": "h",
         "type": "bar",
         "x": [
          0.011977892059919844,
          0.01269261058431401,
          0.01288315298341519,
          0.01295935094898978,
          0.013224950231110578,
          0.01335005138416756,
          0.013427495246468569,
          0.013781261514600438,
          0.014134219289502075,
          0.01435474339566048,
          0.015630525517989977,
          0.016617273602752114,
          0.018535679442147252,
          0.01973777216903316,
          0.02029971841278301
         ],
         "xaxis": "x2",
         "y": [
          "фильм  ",
          "целиком  ",
          "получить  ",
          "студия  ",
          "шутка  ",
          "героиня  ",
          "прозвище  ",
          "произведение  ",
          "русский  ",
          "компания  ",
          "персонаж  ",
          "вариант  ",
          "фраза  ",
          "язык  ",
          "роман  "
         ],
         "yaxis": "y2"
        },
        {
         "marker": {
          "color": "#CC79A7"
         },
         "orientation": "h",
         "type": "bar",
         "x": [
          0.011715461285899472,
          0.011715461285899472,
          0.011757313980679526,
          0.012186017808770586,
          0.012608323753577675,
          0.0132416239161822,
          0.013242590197655862,
          0.014347551961363203,
          0.014784955386001664,
          0.015436010660857282,
          0.01698534579689778,
          0.017064675532420134,
          0.0203876516417872,
          0.02383492304912796,
          0.03175680892902851
         ],
         "xaxis": "x3",
         "y": [
          "император  ",
          "француз  ",
          "дело  ",
          "получить  ",
          "немец  ",
          "штат  ",
          "менеджер  ",
          "местный  ",
          "историк  ",
          "гитлер  ",
          "мировой  ",
          "испанский  ",
          "корабль  ",
          "король  ",
          "война  "
         ],
         "yaxis": "y3"
        },
        {
         "marker": {
          "color": "#E69F00"
         },
         "orientation": "h",
         "type": "bar",
         "x": [
          0.01562938126426804,
          0.01562938126426804,
          0.016579162530915407,
          0.016871321559708788,
          0.017194423205351493,
          0.017555770990010787,
          0.018518351872224077,
          0.018755257517121645,
          0.01899896913631242,
          0.01899896913631242,
          0.024703803226548963,
          0.025007010022828863,
          0.025548903662248875,
          0.027027337674350515,
          0.030959193935585425
         ],
         "xaxis": "x4",
         "y": [
          "проводить  ",
          "способный  ",
          "развитие  ",
          "акула  ",
          "хищник  ",
          "клетка  ",
          "размер  ",
          "мозг  ",
          "эволюция  ",
          "динозавр  ",
          "птица  ",
          "рыба  ",
          "обнаружить  ",
          "животное  ",
          "учёный  "
         ],
         "yaxis": "y4"
        },
        {
         "marker": {
          "color": "#56B4E9"
         },
         "orientation": "h",
         "type": "bar",
         "x": [
          0.018821945315465875,
          0.021073052135432313,
          0.021713107584357048,
          0.023580923253053474,
          0.023580923253053474,
          0.025287662562518777,
          0.025287662562518777,
          0.026100085549497717,
          0.02982866919942596,
          0.03470671863711521,
          0.03470671863711521,
          0.03537138487958021,
          0.0445646520282394,
          0.045854966540745334,
          0.04866457840428357
         ],
         "xaxis": "x5",
         "y": [
          "играть  ",
          "стадион  ",
          "болельщик  ",
          "спортсмен  ",
          "спорт  ",
          "забег  ",
          "тренер  ",
          "клуб  ",
          "игрок  ",
          "чемпионат  ",
          "футболист  ",
          "матч  ",
          "игра  ",
          "футбольный  ",
          "команда  "
         ],
         "yaxis": "y5"
        },
        {
         "marker": {
          "color": "#009E73"
         },
         "orientation": "h",
         "type": "bar",
         "x": [
          0.0162210374544185,
          0.016650484378720617,
          0.01688896841022562,
          0.017625899296621686,
          0.018095029314904025,
          0.018591607557479795,
          0.018998137431741037,
          0.018998137431741037,
          0.019489621236598986,
          0.01997043746108179,
          0.02070868155095571,
          0.023066805896260128,
          0.025550514134670757,
          0.029577671461209265,
          0.030265142692555414
         ],
         "xaxis": "x6",
         "y": [
          "верить  ",
          "символизировать  ",
          "выполнять  ",
          "корень  ",
          "происхождение  ",
          "часто  ",
          "значение  ",
          "средневековый  ",
          "согласно  ",
          "церковный  ",
          "семья  ",
          "грех  ",
          "язык  ",
          "бог  ",
          "древний  "
         ],
         "yaxis": "y6"
        },
        {
         "marker": {
          "color": "#F0E442"
         },
         "orientation": "h",
         "type": "bar",
         "x": [
          0.018912485630366516,
          0.019863885296483794,
          0.019974437685270602,
          0.02120593948242332,
          0.02120593948242332,
          0.021917311282665303,
          0.021966489911061513,
          0.02328852177792253,
          0.023640607037958145,
          0.024192489058000425,
          0.024829856620604742,
          0.025584018140440604,
          0.027784819189543106,
          0.03953968183991072,
          0.0397248717485466
         ],
         "xaxis": "x7",
         "y": [
          "свойство  ",
          "ужин  ",
          "согласно  ",
          "коктейль  ",
          "пекарня  ",
          "день  ",
          "продавать  ",
          "входить  ",
          "готовить  ",
          "ресторан  ",
          "чай  ",
          "приготовление  ",
          "напиток  ",
          "блюдо  ",
          "еда  "
         ],
         "yaxis": "y7"
        },
        {
         "marker": {
          "color": "#D55E00"
         },
         "orientation": "h",
         "type": "bar",
         "x": [
          0.018574294010685492,
          0.01887786850145951,
          0.018956121456402304,
          0.02159884415814601,
          0.022413990373183635,
          0.022868936190883947,
          0.023597335626824385,
          0.024242722493422245,
          0.02498735502872701,
          0.026244353272961717,
          0.02831680275218926,
          0.031137589749570274,
          0.033819046661596165,
          0.04029223914771221,
          0.04348951261868013
         ],
         "xaxis": "x8",
         "y": [
          "лев  ",
          "издание  ",
          "текст  ",
          "герой  ",
          "рукопись  ",
          "сергей  ",
          "творчество  ",
          "перевод  ",
          "пушкин  ",
          "читатель  ",
          "поэт  ",
          "писатель  ",
          "произведение  ",
          "книга  ",
          "роман  "
         ],
         "yaxis": "y8"
        },
        {
         "marker": {
          "color": "#0072B2"
         },
         "orientation": "h",
         "type": "bar",
         "x": [
          0.01986481305204769,
          0.02080295315789555,
          0.020928429470260183,
          0.021351021094081508,
          0.021576191883318323,
          0.02749939917769284,
          0.031204429736843325,
          0.033595707602753364,
          0.03557468887957979,
          0.036405168026317214,
          0.038395094403146694,
          0.03883714538997299,
          0.04976877820065109,
          0.06904381402661863,
          0.09306860933001163
         ],
         "xaxis": "x9",
         "y": [
          "играть  ",
          "запись  ",
          "инструмент  ",
          "бетховен  ",
          "дэвид  ",
          "рэпер  ",
          "альбом  ",
          "концерт  ",
          "петь  ",
          "композитор  ",
          "музыкант  ",
          "музыкальный  ",
          "группа  ",
          "музыка  ",
          "песня  "
         ],
         "yaxis": "y9"
        },
        {
         "marker": {
          "color": "#CC79A7"
         },
         "orientation": "h",
         "type": "bar",
         "x": [
          0.01840765092308243,
          0.019009949475944896,
          0.01923470636887778,
          0.01923470636887778,
          0.019472058148038512,
          0.021449600496374007,
          0.021562464971604335,
          0.021743030496485627,
          0.02299025495927011,
          0.030149033534908994,
          0.03064388742901791,
          0.03074622412646638,
          0.04134289435732302,
          0.04551290369377589,
          0.12644607740798297
         ],
         "xaxis": "x10",
         "y": [
          "деталь  ",
          "планета  ",
          "канал  ",
          "титр  ",
          "должный  ",
          "игра  ",
          "роль  ",
          "новый  ",
          "режиссёр  ",
          "сериал  ",
          "персонаж  ",
          "герой  ",
          "съёмка  ",
          "актёр  ",
          "фильм  "
         ],
         "yaxis": "y10"
        },
        {
         "marker": {
          "color": "#E69F00"
         },
         "orientation": "h",
         "type": "bar",
         "x": [
          0.03067489811413684,
          0.03067489811413684,
          0.03067489811413684,
          0.0344046582243379,
          0.035583150925931256,
          0.035583150925931256,
          0.03789109325188118,
          0.03789109325188118,
          0.040070553087495284,
          0.040070553087495284,
          0.0433821732388975,
          0.0433821732388975,
          0.04454545171449931,
          0.06431288101926813,
          0.09174575526490106
         ],
         "xaxis": "x11",
         "y": [
          "авеню  ",
          "любопытно  ",
          "бабельсберг  ",
          "метр  ",
          "памятник  ",
          "турист  ",
          "башня  ",
          "квартира  ",
          "парижский  ",
          "ленинград  ",
          "архитектура  ",
          "берлинский  ",
          "здание  ",
          "построить  ",
          "отель  "
         ],
         "yaxis": "y11"
        },
        {
         "marker": {
          "color": "#56B4E9"
         },
         "orientation": "h",
         "type": "bar",
         "x": [
          0.03348799337739456,
          0.03348799337739456,
          0.035518303079526865,
          0.035518303079526865,
          0.035518303079526865,
          0.035518303079526865,
          0.035518303079526865,
          0.035518303079526865,
          0.049468100674268566,
          0.05023199006609184,
          0.05493539090319211,
          0.06186331002981727,
          0.06539713331779093,
          0.07131495586302929,
          0.0915559866449073
         ],
         "xaxis": "x12",
         "y": [
          "мексика  ",
          "штраф  ",
          "метрополитен  ",
          "рейс  ",
          "стартап  ",
          "такси  ",
          "итабаси  ",
          "авиакомпания  ",
          "компания  ",
          "транспорт  ",
          "технология  ",
          "водитель  ",
          "знак  ",
          "модель  ",
          "автомобиль  "
         ],
         "yaxis": "y12"
        },
        {
         "marker": {
          "color": "#009E73"
         },
         "orientation": "h",
         "type": "bar",
         "x": [
          0.026930094489236056,
          0.026952555938982457,
          0.027645851175611108,
          0.028502841457155998,
          0.028502841457155998,
          0.030858451172241178,
          0.030858451172241178,
          0.030858451172241178,
          0.03272933701785501,
          0.03272933701785501,
          0.03272933701785501,
          0.03272933701785501,
          0.03272933701785501,
          0.039506566403386865,
          0.04628767675836177
         ],
         "xaxis": "x13",
         "y": [
          "русский  ",
          "повлиять  ",
          "вспоминать  ",
          "покинуть  ",
          "ле  ",
          "урал  ",
          "венгера  ",
          "арсенал  ",
          "уэллс  ",
          "наряд  ",
          "губерман  ",
          "ме  ",
          "крикун  ",
          "родный  ",
          "харьков  "
         ],
         "yaxis": "y13"
        },
        {
         "marker": {
          "color": "#F0E442"
         },
         "orientation": "h",
         "type": "bar",
         "x": [
          0.03905557820243496,
          0.03905557820243496,
          0.03996731753965549,
          0.04102028367732783,
          0.041691543678608486,
          0.04226619983201557,
          0.04575927862185079,
          0.04575927862185079,
          0.04853357167373706,
          0.04853357167373706,
          0.04853357167373706,
          0.04853357167373706,
          0.04853357167373706,
          0.055324438253849216,
          0.07506582524100566
         ],
         "xaxis": "x14",
         "y": [
          "контроль  ",
          "кожа  ",
          "заболевание  ",
          "медицинский  ",
          "работать  ",
          "хирург  ",
          "больница  ",
          "железа  ",
          "перистальтика  ",
          "бабка  ",
          "мальчевский  ",
          "полидорь  ",
          "повивальный  ",
          "пациент  ",
          "болезнь  "
         ],
         "yaxis": "y14"
        }
       ],
       "layout": {
        "annotations": [
         {
          "font": {
           "size": 16
          },
          "showarrow": false,
          "text": "Произведения и персонажи",
          "x": 0.0875,
          "xanchor": "center",
          "xref": "paper",
          "y": 1,
          "yanchor": "bottom",
          "yref": "paper"
         },
         {
          "font": {
           "size": 16
          },
          "showarrow": false,
          "text": "Языки и загадки",
          "x": 0.36250000000000004,
          "xanchor": "center",
          "xref": "paper",
          "y": 1,
          "yanchor": "bottom",
          "yref": "paper"
         },
         {
          "font": {
           "size": 16
          },
          "showarrow": false,
          "text": "История, войны и правители",
          "x": 0.6375000000000001,
          "xanchor": "center",
          "xref": "paper",
          "y": 1,
          "yanchor": "bottom",
          "yref": "paper"
         },
         {
          "font": {
           "size": 16
          },
          "showarrow": false,
          "text": "Наука и природа",
          "x": 0.9125,
          "xanchor": "center",
          "xref": "paper",
          "y": 1,
          "yanchor": "bottom",
          "yref": "paper"
         },
         {
          "font": {
           "size": 16
          },
          "showarrow": false,
          "text": "Спорт и игры",
          "x": 0.0875,
          "xanchor": "center",
          "xref": "paper",
          "y": 0.7250000000000001,
          "yanchor": "bottom",
          "yref": "paper"
         },
         {
          "font": {
           "size": 16
          },
          "showarrow": false,
          "text": "Религии и традиции",
          "x": 0.36250000000000004,
          "xanchor": "center",
          "xref": "paper",
          "y": 0.7250000000000001,
          "yanchor": "bottom",
          "yref": "paper"
         },
         {
          "font": {
           "size": 16
          },
          "showarrow": false,
          "text": "Еда и напитки",
          "x": 0.6375000000000001,
          "xanchor": "center",
          "xref": "paper",
          "y": 0.7250000000000001,
          "yanchor": "bottom",
          "yref": "paper"
         },
         {
          "font": {
           "size": 16
          },
          "showarrow": false,
          "text": "Литература",
          "x": 0.9125,
          "xanchor": "center",
          "xref": "paper",
          "y": 0.7250000000000001,
          "yanchor": "bottom",
          "yref": "paper"
         },
         {
          "font": {
           "size": 16
          },
          "showarrow": false,
          "text": "Музыка",
          "x": 0.0875,
          "xanchor": "center",
          "xref": "paper",
          "y": 0.45,
          "yanchor": "bottom",
          "yref": "paper"
         },
         {
          "font": {
           "size": 16
          },
          "showarrow": false,
          "text": "Кино, сериалы и актеры",
          "x": 0.36250000000000004,
          "xanchor": "center",
          "xref": "paper",
          "y": 0.45,
          "yanchor": "bottom",
          "yref": "paper"
         },
         {
          "font": {
           "size": 16
          },
          "showarrow": false,
          "text": "Архитектура",
          "x": 0.6375000000000001,
          "xanchor": "center",
          "xref": "paper",
          "y": 0.45,
          "yanchor": "bottom",
          "yref": "paper"
         },
         {
          "font": {
           "size": 16
          },
          "showarrow": false,
          "text": "Технологии",
          "x": 0.9125,
          "xanchor": "center",
          "xref": "paper",
          "y": 0.45,
          "yanchor": "bottom",
          "yref": "paper"
         },
         {
          "font": {
           "size": 16
          },
          "showarrow": false,
          "text": "Люди и события",
          "x": 0.0875,
          "xanchor": "center",
          "xref": "paper",
          "y": 0.175,
          "yanchor": "bottom",
          "yref": "paper"
         },
         {
          "font": {
           "size": 16
          },
          "showarrow": false,
          "text": "Медицина",
          "x": 0.36250000000000004,
          "xanchor": "center",
          "xref": "paper",
          "y": 0.175,
          "yanchor": "bottom",
          "yref": "paper"
         }
        ],
        "height": 1000,
        "hoverlabel": {
         "bgcolor": "white",
         "font": {
          "family": "Rockwell",
          "size": 16
         }
        },
        "showlegend": false,
        "template": {
         "data": {
          "bar": [
           {
            "error_x": {
             "color": "#2a3f5f"
            },
            "error_y": {
             "color": "#2a3f5f"
            },
            "marker": {
             "line": {
              "color": "white",
              "width": 0.5
             },
             "pattern": {
              "fillmode": "overlay",
              "size": 10,
              "solidity": 0.2
             }
            },
            "type": "bar"
           }
          ],
          "barpolar": [
           {
            "marker": {
             "line": {
              "color": "white",
              "width": 0.5
             },
             "pattern": {
              "fillmode": "overlay",
              "size": 10,
              "solidity": 0.2
             }
            },
            "type": "barpolar"
           }
          ],
          "carpet": [
           {
            "aaxis": {
             "endlinecolor": "#2a3f5f",
             "gridcolor": "#C8D4E3",
             "linecolor": "#C8D4E3",
             "minorgridcolor": "#C8D4E3",
             "startlinecolor": "#2a3f5f"
            },
            "baxis": {
             "endlinecolor": "#2a3f5f",
             "gridcolor": "#C8D4E3",
             "linecolor": "#C8D4E3",
             "minorgridcolor": "#C8D4E3",
             "startlinecolor": "#2a3f5f"
            },
            "type": "carpet"
           }
          ],
          "choropleth": [
           {
            "colorbar": {
             "outlinewidth": 0,
             "ticks": ""
            },
            "type": "choropleth"
           }
          ],
          "contour": [
           {
            "colorbar": {
             "outlinewidth": 0,
             "ticks": ""
            },
            "colorscale": [
             [
              0,
              "#0d0887"
             ],
             [
              0.1111111111111111,
              "#46039f"
             ],
             [
              0.2222222222222222,
              "#7201a8"
             ],
             [
              0.3333333333333333,
              "#9c179e"
             ],
             [
              0.4444444444444444,
              "#bd3786"
             ],
             [
              0.5555555555555556,
              "#d8576b"
             ],
             [
              0.6666666666666666,
              "#ed7953"
             ],
             [
              0.7777777777777778,
              "#fb9f3a"
             ],
             [
              0.8888888888888888,
              "#fdca26"
             ],
             [
              1,
              "#f0f921"
             ]
            ],
            "type": "contour"
           }
          ],
          "contourcarpet": [
           {
            "colorbar": {
             "outlinewidth": 0,
             "ticks": ""
            },
            "type": "contourcarpet"
           }
          ],
          "heatmap": [
           {
            "colorbar": {
             "outlinewidth": 0,
             "ticks": ""
            },
            "colorscale": [
             [
              0,
              "#0d0887"
             ],
             [
              0.1111111111111111,
              "#46039f"
             ],
             [
              0.2222222222222222,
              "#7201a8"
             ],
             [
              0.3333333333333333,
              "#9c179e"
             ],
             [
              0.4444444444444444,
              "#bd3786"
             ],
             [
              0.5555555555555556,
              "#d8576b"
             ],
             [
              0.6666666666666666,
              "#ed7953"
             ],
             [
              0.7777777777777778,
              "#fb9f3a"
             ],
             [
              0.8888888888888888,
              "#fdca26"
             ],
             [
              1,
              "#f0f921"
             ]
            ],
            "type": "heatmap"
           }
          ],
          "histogram": [
           {
            "marker": {
             "pattern": {
              "fillmode": "overlay",
              "size": 10,
              "solidity": 0.2
             }
            },
            "type": "histogram"
           }
          ],
          "histogram2d": [
           {
            "colorbar": {
             "outlinewidth": 0,
             "ticks": ""
            },
            "colorscale": [
             [
              0,
              "#0d0887"
             ],
             [
              0.1111111111111111,
              "#46039f"
             ],
             [
              0.2222222222222222,
              "#7201a8"
             ],
             [
              0.3333333333333333,
              "#9c179e"
             ],
             [
              0.4444444444444444,
              "#bd3786"
             ],
             [
              0.5555555555555556,
              "#d8576b"
             ],
             [
              0.6666666666666666,
              "#ed7953"
             ],
             [
              0.7777777777777778,
              "#fb9f3a"
             ],
             [
              0.8888888888888888,
              "#fdca26"
             ],
             [
              1,
              "#f0f921"
             ]
            ],
            "type": "histogram2d"
           }
          ],
          "histogram2dcontour": [
           {
            "colorbar": {
             "outlinewidth": 0,
             "ticks": ""
            },
            "colorscale": [
             [
              0,
              "#0d0887"
             ],
             [
              0.1111111111111111,
              "#46039f"
             ],
             [
              0.2222222222222222,
              "#7201a8"
             ],
             [
              0.3333333333333333,
              "#9c179e"
             ],
             [
              0.4444444444444444,
              "#bd3786"
             ],
             [
              0.5555555555555556,
              "#d8576b"
             ],
             [
              0.6666666666666666,
              "#ed7953"
             ],
             [
              0.7777777777777778,
              "#fb9f3a"
             ],
             [
              0.8888888888888888,
              "#fdca26"
             ],
             [
              1,
              "#f0f921"
             ]
            ],
            "type": "histogram2dcontour"
           }
          ],
          "mesh3d": [
           {
            "colorbar": {
             "outlinewidth": 0,
             "ticks": ""
            },
            "type": "mesh3d"
           }
          ],
          "parcoords": [
           {
            "line": {
             "colorbar": {
              "outlinewidth": 0,
              "ticks": ""
             }
            },
            "type": "parcoords"
           }
          ],
          "pie": [
           {
            "automargin": true,
            "type": "pie"
           }
          ],
          "scatter": [
           {
            "fillpattern": {
             "fillmode": "overlay",
             "size": 10,
             "solidity": 0.2
            },
            "type": "scatter"
           }
          ],
          "scatter3d": [
           {
            "line": {
             "colorbar": {
              "outlinewidth": 0,
              "ticks": ""
             }
            },
            "marker": {
             "colorbar": {
              "outlinewidth": 0,
              "ticks": ""
             }
            },
            "type": "scatter3d"
           }
          ],
          "scattercarpet": [
           {
            "marker": {
             "colorbar": {
              "outlinewidth": 0,
              "ticks": ""
             }
            },
            "type": "scattercarpet"
           }
          ],
          "scattergeo": [
           {
            "marker": {
             "colorbar": {
              "outlinewidth": 0,
              "ticks": ""
             }
            },
            "type": "scattergeo"
           }
          ],
          "scattergl": [
           {
            "marker": {
             "colorbar": {
              "outlinewidth": 0,
              "ticks": ""
             }
            },
            "type": "scattergl"
           }
          ],
          "scattermap": [
           {
            "marker": {
             "colorbar": {
              "outlinewidth": 0,
              "ticks": ""
             }
            },
            "type": "scattermap"
           }
          ],
          "scattermapbox": [
           {
            "marker": {
             "colorbar": {
              "outlinewidth": 0,
              "ticks": ""
             }
            },
            "type": "scattermapbox"
           }
          ],
          "scatterpolar": [
           {
            "marker": {
             "colorbar": {
              "outlinewidth": 0,
              "ticks": ""
             }
            },
            "type": "scatterpolar"
           }
          ],
          "scatterpolargl": [
           {
            "marker": {
             "colorbar": {
              "outlinewidth": 0,
              "ticks": ""
             }
            },
            "type": "scatterpolargl"
           }
          ],
          "scatterternary": [
           {
            "marker": {
             "colorbar": {
              "outlinewidth": 0,
              "ticks": ""
             }
            },
            "type": "scatterternary"
           }
          ],
          "surface": [
           {
            "colorbar": {
             "outlinewidth": 0,
             "ticks": ""
            },
            "colorscale": [
             [
              0,
              "#0d0887"
             ],
             [
              0.1111111111111111,
              "#46039f"
             ],
             [
              0.2222222222222222,
              "#7201a8"
             ],
             [
              0.3333333333333333,
              "#9c179e"
             ],
             [
              0.4444444444444444,
              "#bd3786"
             ],
             [
              0.5555555555555556,
              "#d8576b"
             ],
             [
              0.6666666666666666,
              "#ed7953"
             ],
             [
              0.7777777777777778,
              "#fb9f3a"
             ],
             [
              0.8888888888888888,
              "#fdca26"
             ],
             [
              1,
              "#f0f921"
             ]
            ],
            "type": "surface"
           }
          ],
          "table": [
           {
            "cells": {
             "fill": {
              "color": "#EBF0F8"
             },
             "line": {
              "color": "white"
             }
            },
            "header": {
             "fill": {
              "color": "#C8D4E3"
             },
             "line": {
              "color": "white"
             }
            },
            "type": "table"
           }
          ]
         },
         "layout": {
          "annotationdefaults": {
           "arrowcolor": "#2a3f5f",
           "arrowhead": 0,
           "arrowwidth": 1
          },
          "autotypenumbers": "strict",
          "coloraxis": {
           "colorbar": {
            "outlinewidth": 0,
            "ticks": ""
           }
          },
          "colorscale": {
           "diverging": [
            [
             0,
             "#8e0152"
            ],
            [
             0.1,
             "#c51b7d"
            ],
            [
             0.2,
             "#de77ae"
            ],
            [
             0.3,
             "#f1b6da"
            ],
            [
             0.4,
             "#fde0ef"
            ],
            [
             0.5,
             "#f7f7f7"
            ],
            [
             0.6,
             "#e6f5d0"
            ],
            [
             0.7,
             "#b8e186"
            ],
            [
             0.8,
             "#7fbc41"
            ],
            [
             0.9,
             "#4d9221"
            ],
            [
             1,
             "#276419"
            ]
           ],
           "sequential": [
            [
             0,
             "#0d0887"
            ],
            [
             0.1111111111111111,
             "#46039f"
            ],
            [
             0.2222222222222222,
             "#7201a8"
            ],
            [
             0.3333333333333333,
             "#9c179e"
            ],
            [
             0.4444444444444444,
             "#bd3786"
            ],
            [
             0.5555555555555556,
             "#d8576b"
            ],
            [
             0.6666666666666666,
             "#ed7953"
            ],
            [
             0.7777777777777778,
             "#fb9f3a"
            ],
            [
             0.8888888888888888,
             "#fdca26"
            ],
            [
             1,
             "#f0f921"
            ]
           ],
           "sequentialminus": [
            [
             0,
             "#0d0887"
            ],
            [
             0.1111111111111111,
             "#46039f"
            ],
            [
             0.2222222222222222,
             "#7201a8"
            ],
            [
             0.3333333333333333,
             "#9c179e"
            ],
            [
             0.4444444444444444,
             "#bd3786"
            ],
            [
             0.5555555555555556,
             "#d8576b"
            ],
            [
             0.6666666666666666,
             "#ed7953"
            ],
            [
             0.7777777777777778,
             "#fb9f3a"
            ],
            [
             0.8888888888888888,
             "#fdca26"
            ],
            [
             1,
             "#f0f921"
            ]
           ]
          },
          "colorway": [
           "#636efa",
           "#EF553B",
           "#00cc96",
           "#ab63fa",
           "#FFA15A",
           "#19d3f3",
           "#FF6692",
           "#B6E880",
           "#FF97FF",
           "#FECB52"
          ],
          "font": {
           "color": "#2a3f5f"
          },
          "geo": {
           "bgcolor": "white",
           "lakecolor": "white",
           "landcolor": "white",
           "showlakes": true,
           "showland": true,
           "subunitcolor": "#C8D4E3"
          },
          "hoverlabel": {
           "align": "left"
          },
          "hovermode": "closest",
          "mapbox": {
           "style": "light"
          },
          "paper_bgcolor": "white",
          "plot_bgcolor": "white",
          "polar": {
           "angularaxis": {
            "gridcolor": "#EBF0F8",
            "linecolor": "#EBF0F8",
            "ticks": ""
           },
           "bgcolor": "white",
           "radialaxis": {
            "gridcolor": "#EBF0F8",
            "linecolor": "#EBF0F8",
            "ticks": ""
           }
          },
          "scene": {
           "xaxis": {
            "backgroundcolor": "white",
            "gridcolor": "#DFE8F3",
            "gridwidth": 2,
            "linecolor": "#EBF0F8",
            "showbackground": true,
            "ticks": "",
            "zerolinecolor": "#EBF0F8"
           },
           "yaxis": {
            "backgroundcolor": "white",
            "gridcolor": "#DFE8F3",
            "gridwidth": 2,
            "linecolor": "#EBF0F8",
            "showbackground": true,
            "ticks": "",
            "zerolinecolor": "#EBF0F8"
           },
           "zaxis": {
            "backgroundcolor": "white",
            "gridcolor": "#DFE8F3",
            "gridwidth": 2,
            "linecolor": "#EBF0F8",
            "showbackground": true,
            "ticks": "",
            "zerolinecolor": "#EBF0F8"
           }
          },
          "shapedefaults": {
           "line": {
            "color": "#2a3f5f"
           }
          },
          "ternary": {
           "aaxis": {
            "gridcolor": "#DFE8F3",
            "linecolor": "#A2B1C6",
            "ticks": ""
           },
           "baxis": {
            "gridcolor": "#DFE8F3",
            "linecolor": "#A2B1C6",
            "ticks": ""
           },
           "bgcolor": "white",
           "caxis": {
            "gridcolor": "#DFE8F3",
            "linecolor": "#A2B1C6",
            "ticks": ""
           }
          },
          "title": {
           "x": 0.05
          },
          "xaxis": {
           "automargin": true,
           "gridcolor": "#EBF0F8",
           "linecolor": "#EBF0F8",
           "ticks": "",
           "title": {
            "standoff": 15
           },
           "zerolinecolor": "#EBF0F8",
           "zerolinewidth": 2
          },
          "yaxis": {
           "automargin": true,
           "gridcolor": "#EBF0F8",
           "linecolor": "#EBF0F8",
           "ticks": "",
           "title": {
            "standoff": 15
           },
           "zerolinecolor": "#EBF0F8",
           "zerolinewidth": 2
          }
         }
        },
        "title": {
         "font": {
          "color": "Black",
          "size": 22
         },
         "text": "Topic Word Scores",
         "x": 0.5,
         "xanchor": "center",
         "yanchor": "top"
        },
        "width": 1200,
        "xaxis": {
         "anchor": "y",
         "domain": [
          0,
          0.175
         ],
         "showgrid": true
        },
        "xaxis10": {
         "anchor": "y10",
         "domain": [
          0.275,
          0.45
         ],
         "showgrid": true
        },
        "xaxis11": {
         "anchor": "y11",
         "domain": [
          0.55,
          0.7250000000000001
         ],
         "showgrid": true
        },
        "xaxis12": {
         "anchor": "y12",
         "domain": [
          0.825,
          1
         ],
         "showgrid": true
        },
        "xaxis13": {
         "anchor": "y13",
         "domain": [
          0,
          0.175
         ],
         "showgrid": true
        },
        "xaxis14": {
         "anchor": "y14",
         "domain": [
          0.275,
          0.45
         ],
         "showgrid": true
        },
        "xaxis15": {
         "anchor": "y15",
         "domain": [
          0.55,
          0.7250000000000001
         ],
         "showgrid": true
        },
        "xaxis16": {
         "anchor": "y16",
         "domain": [
          0.825,
          1
         ],
         "showgrid": true
        },
        "xaxis2": {
         "anchor": "y2",
         "domain": [
          0.275,
          0.45
         ],
         "showgrid": true
        },
        "xaxis3": {
         "anchor": "y3",
         "domain": [
          0.55,
          0.7250000000000001
         ],
         "showgrid": true
        },
        "xaxis4": {
         "anchor": "y4",
         "domain": [
          0.825,
          1
         ],
         "showgrid": true
        },
        "xaxis5": {
         "anchor": "y5",
         "domain": [
          0,
          0.175
         ],
         "showgrid": true
        },
        "xaxis6": {
         "anchor": "y6",
         "domain": [
          0.275,
          0.45
         ],
         "showgrid": true
        },
        "xaxis7": {
         "anchor": "y7",
         "domain": [
          0.55,
          0.7250000000000001
         ],
         "showgrid": true
        },
        "xaxis8": {
         "anchor": "y8",
         "domain": [
          0.825,
          1
         ],
         "showgrid": true
        },
        "xaxis9": {
         "anchor": "y9",
         "domain": [
          0,
          0.175
         ],
         "showgrid": true
        },
        "yaxis": {
         "anchor": "x",
         "domain": [
          0.825,
          1
         ],
         "showgrid": true
        },
        "yaxis10": {
         "anchor": "x10",
         "domain": [
          0.275,
          0.45
         ],
         "showgrid": true
        },
        "yaxis11": {
         "anchor": "x11",
         "domain": [
          0.275,
          0.45
         ],
         "showgrid": true
        },
        "yaxis12": {
         "anchor": "x12",
         "domain": [
          0.275,
          0.45
         ],
         "showgrid": true
        },
        "yaxis13": {
         "anchor": "x13",
         "domain": [
          0,
          0.175
         ],
         "showgrid": true
        },
        "yaxis14": {
         "anchor": "x14",
         "domain": [
          0,
          0.175
         ],
         "showgrid": true
        },
        "yaxis15": {
         "anchor": "x15",
         "domain": [
          0,
          0.175
         ],
         "showgrid": true
        },
        "yaxis16": {
         "anchor": "x16",
         "domain": [
          0,
          0.175
         ],
         "showgrid": true
        },
        "yaxis2": {
         "anchor": "x2",
         "domain": [
          0.825,
          1
         ],
         "showgrid": true
        },
        "yaxis3": {
         "anchor": "x3",
         "domain": [
          0.825,
          1
         ],
         "showgrid": true
        },
        "yaxis4": {
         "anchor": "x4",
         "domain": [
          0.825,
          1
         ],
         "showgrid": true
        },
        "yaxis5": {
         "anchor": "x5",
         "domain": [
          0.55,
          0.7250000000000001
         ],
         "showgrid": true
        },
        "yaxis6": {
         "anchor": "x6",
         "domain": [
          0.55,
          0.7250000000000001
         ],
         "showgrid": true
        },
        "yaxis7": {
         "anchor": "x7",
         "domain": [
          0.55,
          0.7250000000000001
         ],
         "showgrid": true
        },
        "yaxis8": {
         "anchor": "x8",
         "domain": [
          0.55,
          0.7250000000000001
         ],
         "showgrid": true
        },
        "yaxis9": {
         "anchor": "x9",
         "domain": [
          0.275,
          0.45
         ],
         "showgrid": true
        }
       }
      }
     },
     "metadata": {},
     "output_type": "display_data"
    }
   ],
   "source": [
    "fig = topic_model.visualize_barchart(\n",
    "    top_n_topics=20,\n",
    "    n_words=40,\n",
    "    width=300,\n",
    "    height=250,\n",
    "    custom_labels=custom_names\n",
    ")\n",
    "\n",
    "fig.show()"
   ]
  },
  {
   "cell_type": "code",
   "execution_count": null,
   "metadata": {},
   "outputs": [
    {
     "name": "stdout",
     "output_type": "stream",
     "text": [
      "\n",
      "=== Топик -1 ===\n",
      "Количество документов: 1343\n",
      "Средняя длина: 29.3, Медианная длина: 29.0\n",
      "Средний % взятия: 45.7%, Медианный % взятия: 44.0%\n",
      "\n",
      "Примеры документов:\n",
      "\n",
      "Распределение длины вопросов:\n",
      "count    1343.000000\n",
      "mean       29.291884\n",
      "std         8.311627\n",
      "min         8.000000\n",
      "25%        23.000000\n",
      "50%        29.000000\n",
      "75%        35.000000\n",
      "max        60.000000\n",
      "Name: Длина, dtype: float64\n"
     ]
    },
    {
     "data": {
      "image/png": "[encoded data removed]",
      "text/plain": [
       "<Figure size 800x300 with 1 Axes>"
      ]
     },
     "metadata": {},
     "output_type": "display_data"
    },
    {
     "name": "stdout",
     "output_type": "stream",
     "text": [
      "\n",
      "=== Топик 0 ===\n",
      "Количество документов: 204\n",
      "Средняя длина: 27.7, Медианная длина: 27.0\n",
      "Средний % взятия: 45.0%, Медианный % взятия: 44.0%\n",
      "Топ-слова: персонаж, герой, картина, произведение, сериал, художник, рука, мультфильм, роман, героиня, фильм, атрибут, сцена, девочка, шутить\n",
      "\n",
      "Примеры документов:\n",
      "\n",
      "Распределение длины вопросов:\n",
      "count    204.000000\n",
      "mean      27.661765\n",
      "std        7.893273\n",
      "min        7.000000\n",
      "25%       22.000000\n",
      "50%       27.000000\n",
      "75%       32.000000\n",
      "max       56.000000\n",
      "Name: Длина, dtype: float64\n"
     ]
    },
    {
     "data": {
      "image/png": "[encoded data removed]",
      "text/plain": [
       "<Figure size 800x300 with 1 Axes>"
      ]
     },
     "metadata": {},
     "output_type": "display_data"
    },
    {
     "name": "stdout",
     "output_type": "stream",
     "text": [
      "\n",
      "=== Топик 1 ===\n",
      "Количество документов: 168\n",
      "Средняя длина: 30.0, Медианная длина: 29.0\n",
      "Средний % взятия: 41.6%, Медианный % взятия: 39.0%\n",
      "Топ-слова: роман, язык, фраза, вариант, персонаж, компания, русский, произведение, прозвище, героиня, шутка, студия, получить, целиком, фильм\n",
      "\n",
      "Примеры документов:\n",
      "\n",
      "Распределение длины вопросов:\n",
      "count    168.000000\n",
      "mean      29.976190\n",
      "std        9.182092\n",
      "min       10.000000\n",
      "25%       23.000000\n",
      "50%       29.000000\n",
      "75%       36.000000\n",
      "max       65.000000\n",
      "Name: Длина, dtype: float64\n"
     ]
    },
    {
     "data": {
      "image/png": "[encoded data removed]",
      "text/plain": [
       "<Figure size 800x300 with 1 Axes>"
      ]
     },
     "metadata": {},
     "output_type": "display_data"
    },
    {
     "name": "stdout",
     "output_type": "stream",
     "text": [
      "\n",
      "=== Топик 2 ===\n",
      "Количество документов: 129\n",
      "Средняя длина: 30.0, Медианная длина: 29.0\n",
      "Средний % взятия: 48.0%, Медианный % взятия: 44.0%\n",
      "Топ-слова: война, король, корабль, испанский, мировой, гитлер, историк, местный, менеджер, штат, немец, получить, дело, француз, император\n",
      "\n",
      "Примеры документов:\n",
      "\n",
      "Распределение длины вопросов:\n",
      "count    129.000000\n",
      "mean      29.968992\n",
      "std        7.458152\n",
      "min       12.000000\n",
      "25%       25.000000\n",
      "50%       29.000000\n",
      "75%       35.000000\n",
      "max       48.000000\n",
      "Name: Длина, dtype: float64\n"
     ]
    },
    {
     "data": {
      "image/png": "[encoded data removed]",
      "text/plain": [
       "<Figure size 800x300 with 1 Axes>"
      ]
     },
     "metadata": {},
     "output_type": "display_data"
    },
    {
     "name": "stdout",
     "output_type": "stream",
     "text": [
      "\n",
      "=== Топик 3 ===\n",
      "Количество документов: 116\n",
      "Средняя длина: 28.4, Медианная длина: 27.0\n",
      "Средний % взятия: 41.7%, Медианный % взятия: 36.5%\n",
      "Топ-слова: учёный, животное, обнаружить, рыба, птица, динозавр, эволюция, мозг, размер, клетка, хищник, акула, развитие, способный, проводить\n",
      "\n",
      "Примеры документов:\n",
      "\n",
      "Распределение длины вопросов:\n",
      "count    116.000000\n",
      "mean      28.405172\n",
      "std        7.249562\n",
      "min       15.000000\n",
      "25%       23.000000\n",
      "50%       27.000000\n",
      "75%       33.000000\n",
      "max       47.000000\n",
      "Name: Длина, dtype: float64\n"
     ]
    },
    {
     "data": {
      "image/png": "[encoded data removed]",
      "text/plain": [
       "<Figure size 800x300 with 1 Axes>"
      ]
     },
     "metadata": {},
     "output_type": "display_data"
    },
    {
     "name": "stdout",
     "output_type": "stream",
     "text": [
      "\n",
      "=== Топик 4 ===\n",
      "Количество документов: 98\n",
      "Средняя длина: 30.0, Медианная длина: 29.5\n",
      "Средний % взятия: 55.1%, Медианный % взятия: 60.0%\n",
      "Топ-слова: команда, футбольный, игра, матч, футболист, чемпионат, игрок, клуб, тренер, забег, спорт, спортсмен, болельщик, стадион, играть\n",
      "\n",
      "Примеры документов:\n",
      "\n",
      "Распределение длины вопросов:\n",
      "count    98.000000\n",
      "mean     30.040816\n",
      "std       7.503839\n",
      "min      15.000000\n",
      "25%      25.000000\n",
      "50%      29.500000\n",
      "75%      34.000000\n",
      "max      52.000000\n",
      "Name: Длина, dtype: float64\n"
     ]
    },
    {
     "data": {
      "image/png": "[encoded data removed]",
      "text/plain": [
       "<Figure size 800x300 with 1 Axes>"
      ]
     },
     "metadata": {},
     "output_type": "display_data"
    },
    {
     "name": "stdout",
     "output_type": "stream",
     "text": [
      "\n",
      "=== Топик 5 ===\n",
      "Количество документов: 98\n",
      "Средняя длина: 27.2, Медианная длина: 27.0\n",
      "Средний % взятия: 42.1%, Медианный % взятия: 41.0%\n",
      "Топ-слова: древний, бог, язык, грех, семья, церковный, согласно, средневековый, значение, часто, происхождение, корень, выполнять, символизировать, верить\n",
      "\n",
      "Примеры документов:\n",
      "\n",
      "Распределение длины вопросов:\n",
      "count    98.000000\n",
      "mean     27.183673\n",
      "std       7.920152\n",
      "min      11.000000\n",
      "25%      21.250000\n",
      "50%      27.000000\n",
      "75%      33.000000\n",
      "max      47.000000\n",
      "Name: Длина, dtype: float64\n"
     ]
    },
    {
     "data": {
      "image/png": "[encoded data removed]",
      "text/plain": [
       "<Figure size 800x300 with 1 Axes>"
      ]
     },
     "metadata": {},
     "output_type": "display_data"
    },
    {
     "name": "stdout",
     "output_type": "stream",
     "text": [
      "\n",
      "=== Топик 6 ===\n",
      "Количество документов: 92\n",
      "Средняя длина: 27.9, Медианная длина: 26.5\n",
      "Средний % взятия: 48.1%, Медианный % взятия: 44.5%\n",
      "Топ-слова: еда, блюдо, напиток, приготовление, чай, ресторан, готовить, входить, продавать, день, пекарня, коктейль, согласно, ужин, свойство\n",
      "\n",
      "Примеры документов:\n",
      "\n",
      "Распределение длины вопросов:\n",
      "count    92.000000\n",
      "mean     27.913043\n",
      "std       8.215039\n",
      "min      13.000000\n",
      "25%      22.750000\n",
      "50%      26.500000\n",
      "75%      33.000000\n",
      "max      61.000000\n",
      "Name: Длина, dtype: float64\n"
     ]
    },
    {
     "data": {
      "image/png": "[encoded data removed]",
      "text/plain": [
       "<Figure size 800x300 with 1 Axes>"
      ]
     },
     "metadata": {},
     "output_type": "display_data"
    },
    {
     "name": "stdout",
     "output_type": "stream",
     "text": [
      "\n",
      "=== Топик 7 ===\n",
      "Количество документов: 83\n",
      "Средняя длина: 29.9, Медианная длина: 29.0\n",
      "Средний % взятия: 45.9%, Медианный % взятия: 45.0%\n",
      "Топ-слова: роман, книга, произведение, писатель, поэт, читатель, пушкин, перевод, творчество, сергей, рукопись, герой, текст, издание, лев\n",
      "\n",
      "Примеры документов:\n",
      "\n",
      "Распределение длины вопросов:\n",
      "count    83.000000\n",
      "mean     29.867470\n",
      "std       7.538149\n",
      "min      12.000000\n",
      "25%      25.000000\n",
      "50%      29.000000\n",
      "75%      35.000000\n",
      "max      48.000000\n",
      "Name: Длина, dtype: float64\n"
     ]
    },
    {
     "data": {
      "image/png": "[encoded data removed]",
      "text/plain": [
       "<Figure size 800x300 with 1 Axes>"
      ]
     },
     "metadata": {},
     "output_type": "display_data"
    },
    {
     "name": "stdout",
     "output_type": "stream",
     "text": [
      "\n",
      "=== Топик 8 ===\n",
      "Количество документов: 77\n",
      "Средняя длина: 30.4, Медианная длина: 30.0\n",
      "Средний % взятия: 43.8%, Медианный % взятия: 42.0%\n",
      "Топ-слова: песня, музыка, группа, музыкальный, музыкант, композитор, петь, концерт, альбом, рэпер, дэвид, бетховен, инструмент, запись, играть\n",
      "\n",
      "Примеры документов:\n",
      "\n",
      "Распределение длины вопросов:\n",
      "count    77.000000\n",
      "mean     30.441558\n",
      "std       7.133120\n",
      "min      14.000000\n",
      "25%      26.000000\n",
      "50%      30.000000\n",
      "75%      35.000000\n",
      "max      48.000000\n",
      "Name: Длина, dtype: float64\n"
     ]
    },
    {
     "data": {
      "image/png": "[encoded data removed]",
      "text/plain": [
       "<Figure size 800x300 with 1 Axes>"
      ]
     },
     "metadata": {},
     "output_type": "display_data"
    },
    {
     "name": "stdout",
     "output_type": "stream",
     "text": [
      "\n",
      "=== Топик 9 ===\n",
      "Количество документов: 76\n",
      "Средняя длина: 29.3, Медианная длина: 29.0\n",
      "Средний % взятия: 51.7%, Медианный % взятия: 51.0%\n",
      "Топ-слова: фильм, актёр, съёмка, герой, персонаж, сериал, режиссёр, новый, роль, игра, должный, титр, канал, планета, деталь\n",
      "\n",
      "Примеры документов:\n",
      "\n",
      "Распределение длины вопросов:\n",
      "count    76.000000\n",
      "mean     29.276316\n",
      "std       6.516847\n",
      "min      15.000000\n",
      "25%      25.750000\n",
      "50%      29.000000\n",
      "75%      33.250000\n",
      "max      45.000000\n",
      "Name: Длина, dtype: float64\n"
     ]
    },
    {
     "data": {
      "image/png": "[encoded data removed]",
      "text/plain": [
       "<Figure size 800x300 with 1 Axes>"
      ]
     },
     "metadata": {},
     "output_type": "display_data"
    },
    {
     "name": "stdout",
     "output_type": "stream",
     "text": [
      "\n",
      "=== Топик 10 ===\n",
      "Количество документов: 34\n",
      "Средняя длина: 28.6, Медианная длина: 27.5\n",
      "Средний % взятия: 52.7%, Медианный % взятия: 56.0%\n",
      "Топ-слова: отель, построить, здание, берлинский, архитектура, ленинград, парижский, квартира, башня, турист, памятник, метр, бабельсберг, любопытно, авеню\n",
      "\n",
      "Примеры документов:\n",
      "\n",
      "Распределение длины вопросов:\n",
      "count    34.000000\n",
      "mean     28.647059\n",
      "std       6.094619\n",
      "min      14.000000\n",
      "25%      25.000000\n",
      "50%      27.500000\n",
      "75%      32.750000\n",
      "max      41.000000\n",
      "Name: Длина, dtype: float64\n"
     ]
    },
    {
     "data": {
      "image/png": "[encoded data removed]",
      "text/plain": [
       "<Figure size 800x300 with 1 Axes>"
      ]
     },
     "metadata": {},
     "output_type": "display_data"
    },
    {
     "name": "stdout",
     "output_type": "stream",
     "text": [
      "\n",
      "=== Топик 11 ===\n",
      "Количество документов: 32\n",
      "Средняя длина: 26.1, Медианная длина: 25.0\n",
      "Средний % взятия: 46.2%, Медианный % взятия: 43.5%\n",
      "Топ-слова: автомобиль, модель, знак, водитель, технология, транспорт, компания, авиакомпания, итабаси, такси, стартап, рейс, метрополитен, штраф, мексика\n",
      "\n",
      "Примеры документов:\n",
      "\n",
      "Распределение длины вопросов:\n",
      "count    32.000000\n",
      "mean     26.125000\n",
      "std       7.962614\n",
      "min      13.000000\n",
      "25%      19.750000\n",
      "50%      25.000000\n",
      "75%      32.500000\n",
      "max      46.000000\n",
      "Name: Длина, dtype: float64\n"
     ]
    },
    {
     "data": {
      "image/png": "[encoded data removed]",
      "text/plain": [
       "<Figure size 800x300 with 1 Axes>"
      ]
     },
     "metadata": {},
     "output_type": "display_data"
    },
    {
     "name": "stdout",
     "output_type": "stream",
     "text": [
      "\n",
      "=== Топик 12 ===\n",
      "Количество документов: 30\n",
      "Средняя длина: 29.1, Медианная длина: 28.0\n",
      "Средний % взятия: 40.2%, Медианный % взятия: 32.5%\n",
      "Топ-слова: харьков, родный, крикун, ме, губерман, наряд, уэллс, арсенал, венгера, урал, ле, покинуть, вспоминать, повлиять, русский\n",
      "\n",
      "Примеры документов:\n",
      "\n",
      "Распределение длины вопросов:\n",
      "count    30.000000\n",
      "mean     29.066667\n",
      "std       6.241868\n",
      "min      17.000000\n",
      "25%      25.500000\n",
      "50%      28.000000\n",
      "75%      33.000000\n",
      "max      42.000000\n",
      "Name: Длина, dtype: float64\n"
     ]
    },
    {
     "data": {
      "image/png": "[encoded data removed]",
      "text/plain": [
       "<Figure size 800x300 with 1 Axes>"
      ]
     },
     "metadata": {},
     "output_type": "display_data"
    },
    {
     "name": "stdout",
     "output_type": "stream",
     "text": [
      "\n",
      "=== Топик 13 ===\n",
      "Количество документов: 20\n",
      "Средняя длина: 32.9, Медианная длина: 31.5\n",
      "Средний % взятия: 45.3%, Медианный % взятия: 44.0%\n",
      "Топ-слова: болезнь, пациент, повивальный, полидорь, мальчевский, бабка, перистальтика, железа, больница, хирург, работать, медицинский, заболевание, кожа, контроль\n",
      "\n",
      "Примеры документов:\n",
      "\n",
      "Распределение длины вопросов:\n",
      "count    20.000000\n",
      "mean     32.900000\n",
      "std       7.926637\n",
      "min      23.000000\n",
      "25%      27.750000\n",
      "50%      31.500000\n",
      "75%      35.500000\n",
      "max      48.000000\n",
      "Name: Длина, dtype: float64\n"
     ]
    },
    {
     "data": {
      "image/png": "[encoded data removed]",
      "text/plain": [
       "<Figure size 800x300 with 1 Axes>"
      ]
     },
     "metadata": {},
     "output_type": "display_data"
    }
   ],
   "source": [
    "df[\"Длина\"] = df[\"Вопрос\"].apply(lambda x: len(str(x).split()))\n",
    "\n",
    "def show_cluster_documents_with_stats(topic_model: BERTopic, \n",
    "                                     df: pd.DataFrame, \n",
    "                                     n_samples: int = 15, \n",
    "                                     show_distributions: bool = False) -> pd.DataFrame:\n",
    "    \"\"\"\n",
    "    Анализирует кластеры документов с выводом статистики и примеров текстов.\n",
    "    \n",
    "    Для каждого кластера выводит:\n",
    "    - Базовую информацию (ID, количество документов)\n",
    "    - Статистику длины текстов (среднее, медиана)\n",
    "    - Статистику успешности (если есть столбец 'Процент взятия')\n",
    "    - Топ-ключевые слова\n",
    "    - Примеры документов\n",
    "    - Визуализацию распределения длин\n",
    "    \n",
    "    Параметры:\n",
    "        topic_model (BERTopic): Обученная тематическая модель\n",
    "        df (pd.DataFrame): DataFrame с текстами и метками кластеров\n",
    "        n_samples (int): Количество примеров документов на кластер\n",
    "        show_distributions (bool): Включать визуализацию распределений\n",
    "        \n",
    "    Возвращает:\n",
    "        pd.DataFrame: Статистика по кластерам\n",
    "    \"\"\"\n",
    "    cluster_stats = []\n",
    "    \n",
    "    for topic_id in sorted(df['topic_id'].unique()):\n",
    "        cluster_docs = df[df['topic_id'] == topic_id]\n",
    "        \n",
    "        mean_length = cluster_docs['Длина'].mean()\n",
    "        median_length = cluster_docs['Длина'].median()\n",
    "        mean_success = cluster_docs['Процент взятия'].mean()\n",
    "        median_success = cluster_docs['Процент взятия'].median()\n",
    "        count = len(cluster_docs)\n",
    "        \n",
    "        cluster_stats.append({\n",
    "            'topic_id': topic_id,\n",
    "            'count': count,\n",
    "            'mean_length': mean_length,\n",
    "            'median_length': median_length,\n",
    "            'mean_success': mean_success,\n",
    "            'median_success': median_success\n",
    "        })\n",
    "        \n",
    "        print(f\"\\n=== Топик {topic_id} ===\")\n",
    "        print(f\"Количество документов: {count}\")\n",
    "        print(f\"Средняя длина: {mean_length:.1f}, Медианная длина: {median_length:.1f}\")\n",
    "        print(f\"Средний % взятия: {mean_success:.1f}%, Медианный % взятия: {median_success:.1f}%\")\n",
    "        \n",
    "        if topic_id != -1:\n",
    "            top_words = [word for word, _ in topic_model.get_topic(topic_id)[:25]]\n",
    "            print(f\"Топ-слова: {', '.join(top_words)}\")\n",
    "        \n",
    "        print(\"\\nПримеры документов:\")\n",
    "        for _, row in cluster_docs.sample(min(n_samples, len(cluster_docs)), random_state=42).iterrows():\n",
    "            print(f\"\\n- {row['original_text']}\")\n",
    "            \n",
    "        if show_distributions and not cluster_docs.empty:\n",
    "            print(\"\\nРаспределение длины вопросов:\")\n",
    "            print(cluster_docs['Длина'].describe())\n",
    "\n",
    "            # Визуализация для кластера\n",
    "            plt.figure(figsize=(8, 3))\n",
    "            sns.histplot(cluster_docs['Длина'], bins=20)\n",
    "            plt.title(f'Распределение длины вопросов в кластере {topic_id}')\n",
    "            plt.show()\n",
    "    \n",
    "    return pd.DataFrame(cluster_stats)\n",
    "\n",
    "\n",
    "# Используем функцию с включенной визуализацией распределений\n",
    "cluster_stats_df = show_cluster_documents_with_stats(topic_model, df, n_samples=0, show_distributions=True)"
   ]
  },
  {
   "cell_type": "code",
   "execution_count": null,
   "metadata": {},
   "outputs": [
    {
     "name": "stdout",
     "output_type": "stream",
     "text": [
      "    topic_id  correlation   p_value  n_questions\n",
      "4          3     0.088097  0.347016          116\n",
      "12        11     0.082805  0.652311           32\n",
      "0         -1     0.039155  0.151537         1343\n",
      "1          0     0.033173  0.637619          204\n",
      "8          7     0.030323  0.785526           83\n",
      "9          8     0.023129  0.841747           77\n",
      "6          5    -0.008955  0.930260           98\n",
      "11        10    -0.038783  0.827612           34\n",
      "7          6    -0.042301  0.688882           92\n",
      "5          4    -0.066764  0.513641           98\n",
      "2          1    -0.081551  0.293314          168\n",
      "3          2    -0.165829  0.060361          129\n",
      "13        12    -0.170613  0.367370           30\n",
      "14        13    -0.187500  0.428598           20\n",
      "10         9    -0.318737  0.005013           76\n"
     ]
    }
   ],
   "source": [
    "from scipy import stats\n",
    "\n",
    "def calculate_correlations(df: pd.DataFrame) -> pd.DataFrame:\n",
    "    \"\"\"\n",
    "    Рассчитывает корреляцию Спирмена между длиной вопроса и процентом взятия \n",
    "    для каждого тематического кластера.\n",
    "    \n",
    "    Для каждого кластера вычисляет:\n",
    "    - Коэффициент корреляции Спирмена\n",
    "    - p-значение статистической значимости\n",
    "    - Количество вопросов в кластере\n",
    "    \n",
    "    Параметры:\n",
    "        df (pd.DataFrame): DataFrame с данными:\n",
    "                           'topic_id', 'Длина', 'Процент взятия'\n",
    "    \n",
    "    Возвращает:\n",
    "        pd.DataFrame: Результаты корреляционного анализа по кластерам\n",
    "    \"\"\"\n",
    "    corr_results = []\n",
    "    for topic_id in sorted(df['topic_id'].unique()):\n",
    "        cluster_data = df[df['topic_id'] == topic_id]\n",
    "        if len(cluster_data) > 1:  # Нужно хотя бы 2 наблюдения для корреляции\n",
    "            corr, p_value = stats.spearmanr(cluster_data['Длина'], cluster_data['Процент взятия'])\n",
    "            corr_results.append({\n",
    "                'topic_id': topic_id,\n",
    "                'correlation': corr,\n",
    "                'p_value': p_value,\n",
    "                'n_questions': len(cluster_data)\n",
    "            })\n",
    "    \n",
    "    return pd.DataFrame(corr_results)\n",
    "\n",
    "corr_df = calculate_correlations(df)\n",
    "print(corr_df.sort_values('correlation', ascending=False))"
   ]
  },
  {
   "cell_type": "code",
   "execution_count": 41,
   "metadata": {},
   "outputs": [
    {
     "name": "stdout",
     "output_type": "stream",
     "text": [
      "               mean        std  count\n",
      "topic_id                             \n",
      " 4        55.051020  27.076590     98\n",
      " 10       52.676471  24.751762     34\n",
      " 9        51.723684  25.919670     76\n",
      " 6        48.086957  25.649648     92\n",
      " 2        47.961240  24.605450    129\n",
      " 11       46.250000  22.755361     32\n",
      " 7        45.915663  23.138609     83\n",
      "-1        45.745346  23.934786   1343\n",
      " 13       45.300000  25.866255     20\n",
      " 0        44.975490  22.758626    204\n",
      " 8        43.831169  26.489026     77\n",
      " 5        42.081633  26.690542     98\n",
      " 3        41.706897  25.457900    116\n",
      " 1        41.642857  23.986095    168\n",
      " 12       40.200000  23.269634     30\n"
     ]
    }
   ],
   "source": [
    "success_by_topic = df.groupby('topic_id')['Процент взятия'].agg(['mean', 'std', 'count'])\n",
    "print(success_by_topic.sort_values('mean', ascending=False))"
   ]
  },
  {
   "cell_type": "code",
   "execution_count": null,
   "metadata": {},
   "outputs": [
    {
     "data": {
      "image/png": "[encoded data removed]",
      "text/plain": [
       "<Figure size 1400x700 with 1 Axes>"
      ]
     },
     "metadata": {},
     "output_type": "display_data"
    }
   ],
   "source": [
    "plt.figure(figsize=(14, 7))\n",
    "\n",
    "ax = sns.boxplot(x='topic_id', y='Процент взятия', data=df, palette='viridis')\n",
    "\n",
    "custom_names = {\n",
    "    -1: \"-1.Шум\",\n",
    "    0: \"0.Произведения и персонажи\",\n",
    "    1: \"1.Языки и загадки\",\n",
    "    2: \"2.История, войны и правители\",\n",
    "    3: \"3.Наука и природа\",\n",
    "    4: \"4.Спорт и игры\",\n",
    "    5: \"5.Религии и традиции\",\n",
    "    6: \"6.Еда и напитки\",\n",
    "    7: \"7.Литература\",\n",
    "    8: \"8.Музыка\",\n",
    "    9: \"9.Кино, сериалы и актеры\",\n",
    "    10: \"10.Архитектура\",\n",
    "    11: \"11.Технологии\",\n",
    "    12: \"12.Люди и события\",\n",
    "    13: \"13.Медицина\"\n",
    "}\n",
    "\n",
    "handles = []\n",
    "palette = sns.color_palette(\"viridis\", len(custom_names))\n",
    "\n",
    "for i, (topic_id, name) in enumerate(custom_names.items()):\n",
    "    if topic_id in df['topic_id'].unique():\n",
    "        handles.append(plt.Rectangle((0,0), 1, 1, fc=palette[i], label=name))\n",
    "\n",
    "plt.legend(handles=handles, bbox_to_anchor=(1.05, 1), loc='upper left', title='Кластеры')\n",
    "\n",
    "plt.title('Распределение успешности ответов по кластерам', pad=20)\n",
    "plt.xlabel('ID кластера')\n",
    "plt.ylabel('Процент успешных ответов')\n",
    "plt.xticks(rotation=45)\n",
    "plt.tight_layout()\n",
    "\n",
    "plt.show()"
   ]
  },
  {
   "cell_type": "code",
   "execution_count": null,
   "metadata": {},
   "outputs": [
    {
     "name": "stdout",
     "output_type": "stream",
     "text": [
      "Результат Крускала-Уоллиса: H = 33.644, p-value = 0.002\n"
     ]
    }
   ],
   "source": [
    "groups = [group['success_rate'].values for name, group in df.groupby('topic_id')]\n",
    "\n",
    "h_stat, p_value = kruskal(*groups)\n",
    "print(f\"Результат Крускала-Уоллиса: H = {h_stat:.3f}, p-value = {p_value:.3f}\")"
   ]
  },
  {
   "cell_type": "code",
   "execution_count": null,
   "metadata": {},
   "outputs": [
    {
     "name": "stdout",
     "output_type": "stream",
     "text": [
      "Топик -1: p-value = 0.000 (не нормальное)\n",
      "Топик 0: p-value = 0.001 (не нормальное)\n",
      "Топик 8: p-value = 0.004 (не нормальное)\n",
      "Топик 4: p-value = 0.000 (не нормальное)\n",
      "Топик 9: p-value = 0.016 (не нормальное)\n",
      "Топик 11: p-value = 0.326 (нормальное)\n",
      "Топик 5: p-value = 0.002 (не нормальное)\n",
      "Топик 1: p-value = 0.002 (не нормальное)\n",
      "Топик 3: p-value = 0.000 (не нормальное)\n",
      "Топик 7: p-value = 0.074 (нормальное)\n",
      "Топик 2: p-value = 0.001 (не нормальное)\n",
      "Топик 13: p-value = 0.743 (нормальное)\n",
      "Топик 6: p-value = 0.007 (не нормальное)\n",
      "Топик 12: p-value = 0.116 (нормальное)\n",
      "Топик 10: p-value = 0.172 (нормальное)\n"
     ]
    }
   ],
   "source": [
    "for topic in df['topic_id'].unique():\n",
    "    data = df[df['topic_id'] == topic]['success_rate']\n",
    "    stat, p = shapiro(data)\n",
    "    print(f\"Топик {topic}: p-value = {p:.3f} {'(нормальное)' if p > 0.05 else '(не нормальное)'}\")"
   ]
  },
  {
   "cell_type": "code",
   "execution_count": null,
   "metadata": {},
   "outputs": [
    {
     "name": "stdout",
     "output_type": "stream",
     "text": [
      "                            topic_name      Длина  count\n",
      "topic_id                                                \n",
      " 13                        13.Медицина  32.900000     20\n",
      " 8                            8.Музыка  30.441558     77\n",
      " 4                      4.Спорт и игры  30.040816     98\n",
      " 1                   1.Языки и загадки  29.976190    168\n",
      " 2        2.История, войны и правители  29.968992    129\n",
      " 7                        7.Литература  29.867470     83\n",
      "-1                              -1.Шум  29.291884   1343\n",
      " 9            9.Кино, сериалы и актеры  29.276316     76\n",
      " 12                  12.Люди и события  29.066667     30\n",
      " 10                     10.Архитектура  28.647059     34\n",
      " 3                   3.Наука и природа  28.405172    116\n",
      " 6                     6.Еда и напитки  27.913043     92\n",
      " 0          0.Произведения и персонажи  27.661765    204\n",
      " 5                5.Религии и традиции  27.183673     98\n",
      " 11                      11.Технологии  26.125000     32\n"
     ]
    }
   ],
   "source": [
    "# Группируем по темам и считаем среднюю длину вопроса\n",
    "topic_length = df.groupby('topic_id')['Длина'].agg(['mean', 'count', 'std'])\n",
    "topic_length = topic_length.rename(columns={'mean': 'Длина'})\n",
    "\n",
    "topic_length['topic_name'] = topic_length.index.map(custom_names)\n",
    "\n",
    "# Сортируем по убыванию\n",
    "topic_length = topic_length.sort_values('Длина', ascending=False)\n",
    "\n",
    "print(topic_length[['topic_name', 'Длина', 'count']])"
   ]
  },
  {
   "cell_type": "code",
   "execution_count": null,
   "metadata": {},
   "outputs": [
    {
     "name": "stdout",
     "output_type": "stream",
     "text": [
      "                            topic_name  Процент взятия  count\n",
      "topic_id                                                     \n",
      " 4                      4.Спорт и игры       55.051020     98\n",
      " 10                     10.Архитектура       52.676471     34\n",
      " 9            9.Кино, сериалы и актеры       51.723684     76\n",
      " 6                     6.Еда и напитки       48.086957     92\n",
      " 2        2.История, войны и правители       47.961240    129\n",
      " 11                      11.Технологии       46.250000     32\n",
      " 7                        7.Литература       45.915663     83\n",
      "-1                              -1.Шум       45.745346   1343\n",
      " 13                        13.Медицина       45.300000     20\n",
      " 0          0.Произведения и персонажи       44.975490    204\n",
      " 8                            8.Музыка       43.831169     77\n",
      " 5                5.Религии и традиции       42.081633     98\n",
      " 3                   3.Наука и природа       41.706897    116\n",
      " 1                   1.Языки и загадки       41.642857    168\n",
      " 12                  12.Люди и события       40.200000     30\n"
     ]
    }
   ],
   "source": [
    "# Группируем по темам и считаем среднюю  успешность\n",
    "topic_success = df.groupby('topic_id')['Процент взятия'].agg(['mean', 'count', 'std'])\n",
    "topic_success = topic_success.rename(columns={'mean': 'Процент взятия'})\n",
    "\n",
    "topic_success['topic_name'] = topic_success.index.map(custom_names)\n",
    "\n",
    "# Сортируем по убыванию\n",
    "topic_success = topic_success.sort_values('Процент взятия', ascending=False)\n",
    "\n",
    "print(topic_success[['topic_name', 'Процент взятия', 'count']])"
   ]
  },
  {
   "cell_type": "code",
   "execution_count": 49,
   "metadata": {},
   "outputs": [
    {
     "data": {
      "image/png": "[encoded data removed]",
      "text/plain": [
       "<Figure size 1000x600 with 1 Axes>"
      ]
     },
     "metadata": {},
     "output_type": "display_data"
    }
   ],
   "source": [
    "plt.figure(figsize=(10, 6))\n",
    "top_topics = topic_success.head(5)\n",
    "sns.barplot(x='Процент взятия', y='topic_name', data=top_topics, palette='viridis')\n",
    "plt.title('Топ-5 самых успешных топиков')\n",
    "plt.xlabel('Средний процент успешных ответов')\n",
    "plt.ylabel('Топик')\n",
    "plt.show()"
   ]
  },
  {
   "cell_type": "markdown",
   "metadata": {},
   "source": [
    "# СВОДНАЯ ТАБЛИЦА"
   ]
  },
  {
   "cell_type": "code",
   "execution_count": 28,
   "metadata": {},
   "outputs": [
    {
     "name": "stdout",
     "output_type": "stream",
     "text": [
      "Информация о кластерах успешно добавлена!\n"
     ]
    }
   ],
   "source": [
    "import json\n",
    "\n",
    "selected_columns = df[['id', 'topic_id', 'topic_name']]\n",
    "selected_columns.to_json('theme_topics_data.json', orient='records', force_ascii=False, indent=2)\n",
    "\n",
    "print(\"Информация о кластерах успешно добавлена!\")"
   ]
  },
  {
   "cell_type": "code",
   "execution_count": null,
   "metadata": {},
   "outputs": [
    {
     "data": {
      "text/html": [
       "<div>\n",
       "<style scoped>\n",
       "    .dataframe tbody tr th:only-of-type {\n",
       "        vertical-align: middle;\n",
       "    }\n",
       "\n",
       "    .dataframe tbody tr th {\n",
       "        vertical-align: top;\n",
       "    }\n",
       "\n",
       "    .dataframe thead th {\n",
       "        text-align: right;\n",
       "    }\n",
       "</style>\n",
       "<table border=\"1\" class=\"dataframe\">\n",
       "  <thead>\n",
       "    <tr style=\"text-align: right;\">\n",
       "      <th></th>\n",
       "      <th>id</th>\n",
       "      <th>Пакет</th>\n",
       "      <th>№</th>\n",
       "      <th>Вопрос</th>\n",
       "      <th>Ответ</th>\n",
       "      <th>Зачет</th>\n",
       "      <th>Комментарий</th>\n",
       "      <th>Источник</th>\n",
       "      <th>Авторы</th>\n",
       "      <th>Доля взятия</th>\n",
       "      <th>Процент взятия</th>\n",
       "      <th>Год</th>\n",
       "      <th>topic_id</th>\n",
       "      <th>topic_name</th>\n",
       "    </tr>\n",
       "  </thead>\n",
       "  <tbody>\n",
       "    <tr>\n",
       "      <th>0</th>\n",
       "      <td>1</td>\n",
       "      <td>Умлаут Special: Сова в пабе 2019</td>\n",
       "      <td>1.0</td>\n",
       "      <td>В передаче Андрея Понкратова рассказывается, ч...</td>\n",
       "      <td>Носами</td>\n",
       "      <td>Нос</td>\n",
       "      <td>Приветствие касанием носа – традиция жителей с...</td>\n",
       "      <td>https://youtu.be/BW63sNTOD8Q?t=1513</td>\n",
       "      <td>Андрей Кунилов (Мюнхен), Марина Парр (Мюнхен)</td>\n",
       "      <td>120/132</td>\n",
       "      <td>91.0</td>\n",
       "      <td>2018_2019</td>\n",
       "      <td>-1</td>\n",
       "      <td>Шум</td>\n",
       "    </tr>\n",
       "    <tr>\n",
       "      <th>1</th>\n",
       "      <td>2</td>\n",
       "      <td>Умлаут Special: Сова в пабе 2019</td>\n",
       "      <td>2.0</td>\n",
       "      <td>Одна из сцен “Московского центра драматургии и...</td>\n",
       "      <td>выключать мобильные телефоны</td>\n",
       "      <td>выключать сотовые телефоны, синонимичные ответы</td>\n",
       "      <td>перед началом спектакля голос по громкоговорит...</td>\n",
       "      <td>https://typical-moscow.ru/mama-cdr-istoriya-od...</td>\n",
       "      <td>Андрей Кунилов (Мюнхен), Марина Парр (Мюнхен)</td>\n",
       "      <td>107/132</td>\n",
       "      <td>81.0</td>\n",
       "      <td>2018_2019</td>\n",
       "      <td>0</td>\n",
       "      <td>Произведения и персонажи</td>\n",
       "    </tr>\n",
       "    <tr>\n",
       "      <th>2</th>\n",
       "      <td>3</td>\n",
       "      <td>Умлаут Special: Сова в пабе 2019</td>\n",
       "      <td>3.0</td>\n",
       "      <td>Статья \"National Geographic\" \"ПРОПУСК тела про...</td>\n",
       "      <td>пластика</td>\n",
       "      <td>точный ответ</td>\n",
       "      <td>В фотопроекте Григория Шелухина \"Крохотная сме...</td>\n",
       "      <td>http://www.nat-geo.ru/planet/1190948-plastika-...</td>\n",
       "      <td>Борис Рабинович (Тель-Авив)</td>\n",
       "      <td>93/132</td>\n",
       "      <td>70.0</td>\n",
       "      <td>2018_2019</td>\n",
       "      <td>8</td>\n",
       "      <td>Музыка</td>\n",
       "    </tr>\n",
       "    <tr>\n",
       "      <th>3</th>\n",
       "      <td>4</td>\n",
       "      <td>Умлаут Special: Сова в пабе 2019</td>\n",
       "      <td>4.0</td>\n",
       "      <td>Фантастическое животное демимаска, придуманное...</td>\n",
       "      <td>Нострадамус</td>\n",
       "      <td>Точный ответ</td>\n",
       "      <td>Особо неуязвимым демимаску делает способность ...</td>\n",
       "      <td>https://ru.wikipedia.org/wiki/Нострадамус</td>\n",
       "      <td>Борис Рабинович (Тель-Авив)</td>\n",
       "      <td>40/132</td>\n",
       "      <td>30.0</td>\n",
       "      <td>2018_2019</td>\n",
       "      <td>-1</td>\n",
       "      <td>Шум</td>\n",
       "    </tr>\n",
       "    <tr>\n",
       "      <th>4</th>\n",
       "      <td>5</td>\n",
       "      <td>Умлаут Special: Сова в пабе 2019</td>\n",
       "      <td>5.0</td>\n",
       "      <td>В постановке мюнхенского детского театра один ...</td>\n",
       "      <td>[вместо] мозгов</td>\n",
       "      <td>[вместо] ума. Зачет по слову “мозг”, “ум”, “ра...</td>\n",
       "      <td>Речь о постановке Волшебника страны Оз. В сцен...</td>\n",
       "      <td>NaN</td>\n",
       "      <td>Максим Мозуль (Мюнхен)</td>\n",
       "      <td>44/132</td>\n",
       "      <td>33.0</td>\n",
       "      <td>2018_2019</td>\n",
       "      <td>0</td>\n",
       "      <td>Произведения и персонажи</td>\n",
       "    </tr>\n",
       "    <tr>\n",
       "      <th>...</th>\n",
       "      <td>...</td>\n",
       "      <td>...</td>\n",
       "      <td>...</td>\n",
       "      <td>...</td>\n",
       "      <td>...</td>\n",
       "      <td>...</td>\n",
       "      <td>...</td>\n",
       "      <td>...</td>\n",
       "      <td>...</td>\n",
       "      <td>...</td>\n",
       "      <td>...</td>\n",
       "      <td>...</td>\n",
       "      <td>...</td>\n",
       "      <td>...</td>\n",
       "    </tr>\n",
       "    <tr>\n",
       "      <th>2595</th>\n",
       "      <td>3515</td>\n",
       "      <td>Школьная лига Евразии. IV тур</td>\n",
       "      <td>32.0</td>\n",
       "      <td>Однажды серб Стефан Янкович решил спуститься в...</td>\n",
       "      <td>берлогер</td>\n",
       "      <td>NaN</td>\n",
       "      <td>яма оказалась медвежьей берлогой, и туда верну...</td>\n",
       "      <td>https://contorra.ru/ru/berloger-kak-serb-stefa...</td>\n",
       "      <td>Александр Коробейников (Саратов)</td>\n",
       "      <td>246/1364</td>\n",
       "      <td>18.0</td>\n",
       "      <td>2024_2025</td>\n",
       "      <td>8</td>\n",
       "      <td>Музыка</td>\n",
       "    </tr>\n",
       "    <tr>\n",
       "      <th>2596</th>\n",
       "      <td>3516</td>\n",
       "      <td>Школьная лига Евразии. IV тур</td>\n",
       "      <td>33.0</td>\n",
       "      <td>Алеуты верили, что где-то в почву воткнут огро...</td>\n",
       "      <td>землетрясения</td>\n",
       "      <td>NaN</td>\n",
       "      <td>землетрясения нередки в Тихоокеанском регионе,...</td>\n",
       "      <td>https://litmir.club/br/?b=927593&amp;p=25</td>\n",
       "      <td>Александр Коробейников (Саратов)</td>\n",
       "      <td>944/1364</td>\n",
       "      <td>69.0</td>\n",
       "      <td>2024_2025</td>\n",
       "      <td>-1</td>\n",
       "      <td>Шум</td>\n",
       "    </tr>\n",
       "    <tr>\n",
       "      <th>2597</th>\n",
       "      <td>3517</td>\n",
       "      <td>Школьная лига Евразии. IV тур</td>\n",
       "      <td>34.0</td>\n",
       "      <td>Античный герой Нестор спасся от разъярённого к...</td>\n",
       "      <td>прыжки с шестом.</td>\n",
       "      <td>прыжки в высоту</td>\n",
       "      <td>Нестор “успел, на копье оперевшись, Прыгнуть н...</td>\n",
       "      <td>https://flibusta.is/b/794443/read</td>\n",
       "      <td>Александр Коробейников (Саратов)</td>\n",
       "      <td>523/1364</td>\n",
       "      <td>38.0</td>\n",
       "      <td>2024_2025</td>\n",
       "      <td>0</td>\n",
       "      <td>Произведения и персонажи</td>\n",
       "    </tr>\n",
       "    <tr>\n",
       "      <th>2598</th>\n",
       "      <td>3518</td>\n",
       "      <td>Школьная лига Евразии. IV тур</td>\n",
       "      <td>35.0</td>\n",
       "      <td>В начале марта в Якутске городские автобусы од...</td>\n",
       "      <td>цветы</td>\n",
       "      <td>NaN</td>\n",
       "      <td>в Якутске в начале марта ещё очень холодно. Чт...</td>\n",
       "      <td>https://www.vokrugsveta.ru/articles/pila-dlya-...</td>\n",
       "      <td>Сергей Митюнин (Иваново)</td>\n",
       "      <td>604/1364</td>\n",
       "      <td>44.0</td>\n",
       "      <td>2024_2025</td>\n",
       "      <td>11</td>\n",
       "      <td>Технологии</td>\n",
       "    </tr>\n",
       "    <tr>\n",
       "      <th>2599</th>\n",
       "      <td>3519</td>\n",
       "      <td>Школьная лига Евразии. IV тур</td>\n",
       "      <td>36.0</td>\n",
       "      <td>Одна компания выпустила предмет, который иногд...</td>\n",
       "      <td>точилка для карандашей</td>\n",
       "      <td>точилка</td>\n",
       "      <td>считается, что вампира можно убить, вонзив ему...</td>\n",
       "      <td>/upload/iblock/f1b/lliblj1agb38kmt38u8wdfhdxfs...</td>\n",
       "      <td>Источник: https://odditymall.com/dracula-penci...</td>\n",
       "      <td>590/1364</td>\n",
       "      <td>43.0</td>\n",
       "      <td>2024_2025</td>\n",
       "      <td>-1</td>\n",
       "      <td>Шум</td>\n",
       "    </tr>\n",
       "  </tbody>\n",
       "</table>\n",
       "<p>2600 rows × 14 columns</p>\n",
       "</div>"
      ],
      "text/plain": [
       "        id                             Пакет     №  \\\n",
       "0        1  Умлаут Special: Сова в пабе 2019   1.0   \n",
       "1        2  Умлаут Special: Сова в пабе 2019   2.0   \n",
       "2        3  Умлаут Special: Сова в пабе 2019   3.0   \n",
       "3        4  Умлаут Special: Сова в пабе 2019   4.0   \n",
       "4        5  Умлаут Special: Сова в пабе 2019   5.0   \n",
       "...    ...                               ...   ...   \n",
       "2595  3515     Школьная лига Евразии. IV тур  32.0   \n",
       "2596  3516     Школьная лига Евразии. IV тур  33.0   \n",
       "2597  3517     Школьная лига Евразии. IV тур  34.0   \n",
       "2598  3518     Школьная лига Евразии. IV тур  35.0   \n",
       "2599  3519     Школьная лига Евразии. IV тур  36.0   \n",
       "\n",
       "                                                 Вопрос  \\\n",
       "0     В передаче Андрея Понкратова рассказывается, ч...   \n",
       "1     Одна из сцен “Московского центра драматургии и...   \n",
       "2     Статья \"National Geographic\" \"ПРОПУСК тела про...   \n",
       "3     Фантастическое животное демимаска, придуманное...   \n",
       "4     В постановке мюнхенского детского театра один ...   \n",
       "...                                                 ...   \n",
       "2595  Однажды серб Стефан Янкович решил спуститься в...   \n",
       "2596  Алеуты верили, что где-то в почву воткнут огро...   \n",
       "2597  Античный герой Нестор спасся от разъярённого к...   \n",
       "2598  В начале марта в Якутске городские автобусы од...   \n",
       "2599  Одна компания выпустила предмет, который иногд...   \n",
       "\n",
       "                             Ответ  \\\n",
       "0                           Носами   \n",
       "1     выключать мобильные телефоны   \n",
       "2                         пластика   \n",
       "3                      Нострадамус   \n",
       "4                  [вместо] мозгов   \n",
       "...                            ...   \n",
       "2595                      берлогер   \n",
       "2596                 землетрясения   \n",
       "2597              прыжки с шестом.   \n",
       "2598                         цветы   \n",
       "2599        точилка для карандашей   \n",
       "\n",
       "                                                  Зачет  \\\n",
       "0                                                   Нос   \n",
       "1       выключать сотовые телефоны, синонимичные ответы   \n",
       "2                                          точный ответ   \n",
       "3                                          Точный ответ   \n",
       "4     [вместо] ума. Зачет по слову “мозг”, “ум”, “ра...   \n",
       "...                                                 ...   \n",
       "2595                                                NaN   \n",
       "2596                                                NaN   \n",
       "2597                                    прыжки в высоту   \n",
       "2598                                                NaN   \n",
       "2599                                            точилка   \n",
       "\n",
       "                                            Комментарий  \\\n",
       "0     Приветствие касанием носа – традиция жителей с...   \n",
       "1     перед началом спектакля голос по громкоговорит...   \n",
       "2     В фотопроекте Григория Шелухина \"Крохотная сме...   \n",
       "3     Особо неуязвимым демимаску делает способность ...   \n",
       "4     Речь о постановке Волшебника страны Оз. В сцен...   \n",
       "...                                                 ...   \n",
       "2595  яма оказалась медвежьей берлогой, и туда верну...   \n",
       "2596  землетрясения нередки в Тихоокеанском регионе,...   \n",
       "2597  Нестор “успел, на копье оперевшись, Прыгнуть н...   \n",
       "2598  в Якутске в начале марта ещё очень холодно. Чт...   \n",
       "2599  считается, что вампира можно убить, вонзив ему...   \n",
       "\n",
       "                                               Источник  \\\n",
       "0                   https://youtu.be/BW63sNTOD8Q?t=1513   \n",
       "1     https://typical-moscow.ru/mama-cdr-istoriya-od...   \n",
       "2     http://www.nat-geo.ru/planet/1190948-plastika-...   \n",
       "3             https://ru.wikipedia.org/wiki/Нострадамус   \n",
       "4                                                   NaN   \n",
       "...                                                 ...   \n",
       "2595  https://contorra.ru/ru/berloger-kak-serb-stefa...   \n",
       "2596              https://litmir.club/br/?b=927593&p=25   \n",
       "2597                  https://flibusta.is/b/794443/read   \n",
       "2598  https://www.vokrugsveta.ru/articles/pila-dlya-...   \n",
       "2599  /upload/iblock/f1b/lliblj1agb38kmt38u8wdfhdxfs...   \n",
       "\n",
       "                                                 Авторы Доля взятия  \\\n",
       "0         Андрей Кунилов (Мюнхен), Марина Парр (Мюнхен)     120/132   \n",
       "1         Андрей Кунилов (Мюнхен), Марина Парр (Мюнхен)     107/132   \n",
       "2                           Борис Рабинович (Тель-Авив)      93/132   \n",
       "3                           Борис Рабинович (Тель-Авив)      40/132   \n",
       "4                                Максим Мозуль (Мюнхен)      44/132   \n",
       "...                                                 ...         ...   \n",
       "2595                   Александр Коробейников (Саратов)    246/1364   \n",
       "2596                   Александр Коробейников (Саратов)    944/1364   \n",
       "2597                   Александр Коробейников (Саратов)    523/1364   \n",
       "2598                           Сергей Митюнин (Иваново)    604/1364   \n",
       "2599  Источник: https://odditymall.com/dracula-penci...    590/1364   \n",
       "\n",
       "      Процент взятия        Год  topic_id                topic_name  \n",
       "0               91.0  2018_2019        -1                       Шум  \n",
       "1               81.0  2018_2019         0  Произведения и персонажи  \n",
       "2               70.0  2018_2019         8                    Музыка  \n",
       "3               30.0  2018_2019        -1                       Шум  \n",
       "4               33.0  2018_2019         0  Произведения и персонажи  \n",
       "...              ...        ...       ...                       ...  \n",
       "2595            18.0  2024_2025         8                    Музыка  \n",
       "2596            69.0  2024_2025        -1                       Шум  \n",
       "2597            38.0  2024_2025         0  Произведения и персонажи  \n",
       "2598            44.0  2024_2025        11                Технологии  \n",
       "2599            43.0  2024_2025        -1                       Шум  \n",
       "\n",
       "[2600 rows x 14 columns]"
      ]
     },
     "execution_count": 25,
     "metadata": {},
     "output_type": "execute_result"
    }
   ],
   "source": [
    "custom_names = {\n",
    "    -1: \"Шум\",\n",
    "    0: \"Произведения и персонажи\",\n",
    "    1: \"Языки и загадки\",\n",
    "    2: \"История, войны и правители\",\n",
    "    3: \"Наука и природа\",\n",
    "    4: \"Спорт и игры\",\n",
    "    5: \"Религии и традиции\",\n",
    "    6: \"Еда и напитки\",\n",
    "    7: \"Литература\",\n",
    "    8: \"Музыка\",\n",
    "    9: \"Кино, сериалы и актеры\",\n",
    "    10: \"Архитектура\",\n",
    "    11: \"Технологии\",\n",
    "    12: \"Люди и события\",\n",
    "    13: \"Медицина\"\n",
    "}\n",
    "\n",
    "df['topic_name'] = df['topic_id'].map(custom_names)\n",
    "df = df.drop(columns=['original_text'])\n",
    "df = df.drop(columns=['fully_processed_text'])\n",
    "df = df.drop(columns=['cleaned_text'])\n",
    "df"
   ]
  }
 ],
 "metadata": {
  "kernelspec": {
   "display_name": ".venv",
   "language": "python",
   "name": "python3"
  },
  "language_info": {
   "codemirror_mode": {
    "name": "ipython",
    "version": 3
   },
   "file_extension": ".py",
   "mimetype": "text/x-python",
   "name": "python",
   "nbconvert_exporter": "python",
   "pygments_lexer": "ipython3",
   "version": "3.11.5"
  }
 },
 "nbformat": 4,
 "nbformat_minor": 2
}
